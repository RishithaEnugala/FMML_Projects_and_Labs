{
  "nbformat": 4,
  "nbformat_minor": 0,
  "metadata": {
    "kernelspec": {
      "display_name": "Python 3",
      "language": "python",
      "name": "python3"
    },
    "language_info": {
      "codemirror_mode": {
        "name": "ipython",
        "version": 3
      },
      "file_extension": ".py",
      "mimetype": "text/x-python",
      "name": "python",
      "nbconvert_exporter": "python",
      "pygments_lexer": "ipython3",
      "version": "3.8.3"
    },
    "colab": {
      "provenance": [],
      "collapsed_sections": [
        "LROjzD_Y3hfL"
      ],
      "include_colab_link": true
    }
  },
  "cells": [
    {
      "cell_type": "markdown",
      "metadata": {
        "id": "view-in-github",
        "colab_type": "text"
      },
      "source": [
        "<a href=\"https://colab.research.google.com/github/RishithaEnugala/FMML_Projects_and_Labs/blob/main/AIML_Course_Probability_Primer.ipynb\" target=\"_parent\"><img src=\"https://colab.research.google.com/assets/colab-badge.svg\" alt=\"Open In Colab\"/></a>"
      ]
    },
    {
      "cell_type": "markdown",
      "metadata": {
        "id": "_n_etpfs3he5"
      },
      "source": [
        "# Statistics and Probability: Fundamentals"
      ]
    },
    {
      "cell_type": "code",
      "metadata": {
        "id": "67cg03eZ3he6"
      },
      "source": [
        "import numpy as np\n",
        "import pandas as pd\n",
        "from matplotlib import pyplot as plt\n",
        "import seaborn as sns\n",
        "\n",
        "import plotly.graph_objects as pg\n",
        "import plotly.express as px"
      ],
      "execution_count": 3,
      "outputs": []
    },
    {
      "cell_type": "code",
      "source": [
        "from google.colab import drive\n",
        "drive.mount('/content/drive/')"
      ],
      "metadata": {
        "id": "3u2mnAt4DimG",
        "outputId": "bc5038f6-7f2b-4a36-98d6-8c50a1aed166",
        "colab": {
          "base_uri": "https://localhost:8080/"
        }
      },
      "execution_count": 4,
      "outputs": [
        {
          "output_type": "stream",
          "name": "stdout",
          "text": [
            "Drive already mounted at /content/drive/; to attempt to forcibly remount, call drive.mount(\"/content/drive/\", force_remount=True).\n"
          ]
        }
      ]
    },
    {
      "cell_type": "markdown",
      "metadata": {
        "id": "InybzxlBIHnU"
      },
      "source": [
        "# What is Probability?"
      ]
    },
    {
      "cell_type": "markdown",
      "metadata": {
        "id": "6-IYhj8VPrGg"
      },
      "source": [
        "## Definitions\n",
        "\n",
        "In nature as in Compute Science, one of several events can be predicted to occur, but we do not know exactly which of them will occur. The supposition is that they will occur with different frequencies, and we know those frequency. So each time we run the experiment, we call is a **sample**.\n",
        "\n",
        "The thing that we are computing the probability of is typically a boolean condition.\n",
        "* Whether or not the sample belongs to a set: Does a integer sampled randomly belong to the set of natural numbers?\n",
        "* Any set of boolean conditions on that set: Is an integer samples randomly prime, and it's either greater than 100 or less than 50.\n",
        "* By membership in a continuous set: Is the speed of the car in the range 60 to 80.8 km per hour.\n",
        "\n",
        "Given this boolean formulation, we can construct a set of elements which we are computing the probability of. We will call these favorable samples.\n",
        "\n",
        "$$P = \\frac{\\text{number of favorable samples}}{\\text{number of samples}}$$\n",
        "\n",
        "For now assume that all samples in our set of all possibilities (i.e. sample space) are equally likely. This need not be true, the samples can themselves be chosen from some probability distribution, a proposition which we will encounter when we study conditional probability."
      ]
    },
    {
      "cell_type": "code",
      "metadata": {
        "id": "Bv0OxvD8ILMl"
      },
      "source": [
        "def toss_coin(number_of_tosses=20):\n",
        "    return pd.Series(np.random.choice(['Heads', 'Tails'], number_of_tosses))\n",
        "\n",
        "def throw_dice(number_of_tosses=20):\n",
        "    return pd.Series(np.random.randint(1, 6+1, number_of_tosses))"
      ],
      "execution_count": 5,
      "outputs": []
    },
    {
      "cell_type": "code",
      "metadata": {
        "colab": {
          "base_uri": "https://localhost:8080/",
          "height": 594
        },
        "id": "ZUOWrp2tNmmy",
        "outputId": "26c7747a-4ad3-4dbf-d6db-533f49f2db0e"
      },
      "source": [
        "results = toss_coin()\n",
        "print(results.value_counts())\n",
        "fig = pg.Figure([pg.Bar(x=results.value_counts().keys(),\n",
        "                        y=results.value_counts().values)])\n",
        "fig.show()"
      ],
      "execution_count": 6,
      "outputs": [
        {
          "output_type": "stream",
          "name": "stdout",
          "text": [
            "Heads    12\n",
            "Tails     8\n",
            "Name: count, dtype: int64\n"
          ]
        },
        {
          "output_type": "display_data",
          "data": {
            "text/html": [
              "<html>\n",
              "<head><meta charset=\"utf-8\" /></head>\n",
              "<body>\n",
              "    <div>            <script src=\"https://cdnjs.cloudflare.com/ajax/libs/mathjax/2.7.5/MathJax.js?config=TeX-AMS-MML_SVG\"></script><script type=\"text/javascript\">if (window.MathJax && window.MathJax.Hub && window.MathJax.Hub.Config) {window.MathJax.Hub.Config({SVG: {font: \"STIX-Web\"}});}</script>                <script type=\"text/javascript\">window.PlotlyConfig = {MathJaxConfig: 'local'};</script>\n",
              "        <script charset=\"utf-8\" src=\"https://cdn.plot.ly/plotly-2.24.1.min.js\"></script>                <div id=\"6aa0dbbf-06de-47a1-beb1-b3971bc896b4\" class=\"plotly-graph-div\" style=\"height:525px; width:100%;\"></div>            <script type=\"text/javascript\">                                    window.PLOTLYENV=window.PLOTLYENV || {};                                    if (document.getElementById(\"6aa0dbbf-06de-47a1-beb1-b3971bc896b4\")) {                    Plotly.newPlot(                        \"6aa0dbbf-06de-47a1-beb1-b3971bc896b4\",                        [{\"x\":[\"Heads\",\"Tails\"],\"y\":[12,8],\"type\":\"bar\"}],                        {\"template\":{\"data\":{\"histogram2dcontour\":[{\"type\":\"histogram2dcontour\",\"colorbar\":{\"outlinewidth\":0,\"ticks\":\"\"},\"colorscale\":[[0.0,\"#0d0887\"],[0.1111111111111111,\"#46039f\"],[0.2222222222222222,\"#7201a8\"],[0.3333333333333333,\"#9c179e\"],[0.4444444444444444,\"#bd3786\"],[0.5555555555555556,\"#d8576b\"],[0.6666666666666666,\"#ed7953\"],[0.7777777777777778,\"#fb9f3a\"],[0.8888888888888888,\"#fdca26\"],[1.0,\"#f0f921\"]]}],\"choropleth\":[{\"type\":\"choropleth\",\"colorbar\":{\"outlinewidth\":0,\"ticks\":\"\"}}],\"histogram2d\":[{\"type\":\"histogram2d\",\"colorbar\":{\"outlinewidth\":0,\"ticks\":\"\"},\"colorscale\":[[0.0,\"#0d0887\"],[0.1111111111111111,\"#46039f\"],[0.2222222222222222,\"#7201a8\"],[0.3333333333333333,\"#9c179e\"],[0.4444444444444444,\"#bd3786\"],[0.5555555555555556,\"#d8576b\"],[0.6666666666666666,\"#ed7953\"],[0.7777777777777778,\"#fb9f3a\"],[0.8888888888888888,\"#fdca26\"],[1.0,\"#f0f921\"]]}],\"heatmap\":[{\"type\":\"heatmap\",\"colorbar\":{\"outlinewidth\":0,\"ticks\":\"\"},\"colorscale\":[[0.0,\"#0d0887\"],[0.1111111111111111,\"#46039f\"],[0.2222222222222222,\"#7201a8\"],[0.3333333333333333,\"#9c179e\"],[0.4444444444444444,\"#bd3786\"],[0.5555555555555556,\"#d8576b\"],[0.6666666666666666,\"#ed7953\"],[0.7777777777777778,\"#fb9f3a\"],[0.8888888888888888,\"#fdca26\"],[1.0,\"#f0f921\"]]}],\"heatmapgl\":[{\"type\":\"heatmapgl\",\"colorbar\":{\"outlinewidth\":0,\"ticks\":\"\"},\"colorscale\":[[0.0,\"#0d0887\"],[0.1111111111111111,\"#46039f\"],[0.2222222222222222,\"#7201a8\"],[0.3333333333333333,\"#9c179e\"],[0.4444444444444444,\"#bd3786\"],[0.5555555555555556,\"#d8576b\"],[0.6666666666666666,\"#ed7953\"],[0.7777777777777778,\"#fb9f3a\"],[0.8888888888888888,\"#fdca26\"],[1.0,\"#f0f921\"]]}],\"contourcarpet\":[{\"type\":\"contourcarpet\",\"colorbar\":{\"outlinewidth\":0,\"ticks\":\"\"}}],\"contour\":[{\"type\":\"contour\",\"colorbar\":{\"outlinewidth\":0,\"ticks\":\"\"},\"colorscale\":[[0.0,\"#0d0887\"],[0.1111111111111111,\"#46039f\"],[0.2222222222222222,\"#7201a8\"],[0.3333333333333333,\"#9c179e\"],[0.4444444444444444,\"#bd3786\"],[0.5555555555555556,\"#d8576b\"],[0.6666666666666666,\"#ed7953\"],[0.7777777777777778,\"#fb9f3a\"],[0.8888888888888888,\"#fdca26\"],[1.0,\"#f0f921\"]]}],\"surface\":[{\"type\":\"surface\",\"colorbar\":{\"outlinewidth\":0,\"ticks\":\"\"},\"colorscale\":[[0.0,\"#0d0887\"],[0.1111111111111111,\"#46039f\"],[0.2222222222222222,\"#7201a8\"],[0.3333333333333333,\"#9c179e\"],[0.4444444444444444,\"#bd3786\"],[0.5555555555555556,\"#d8576b\"],[0.6666666666666666,\"#ed7953\"],[0.7777777777777778,\"#fb9f3a\"],[0.8888888888888888,\"#fdca26\"],[1.0,\"#f0f921\"]]}],\"mesh3d\":[{\"type\":\"mesh3d\",\"colorbar\":{\"outlinewidth\":0,\"ticks\":\"\"}}],\"scatter\":[{\"fillpattern\":{\"fillmode\":\"overlay\",\"size\":10,\"solidity\":0.2},\"type\":\"scatter\"}],\"parcoords\":[{\"type\":\"parcoords\",\"line\":{\"colorbar\":{\"outlinewidth\":0,\"ticks\":\"\"}}}],\"scatterpolargl\":[{\"type\":\"scatterpolargl\",\"marker\":{\"colorbar\":{\"outlinewidth\":0,\"ticks\":\"\"}}}],\"bar\":[{\"error_x\":{\"color\":\"#2a3f5f\"},\"error_y\":{\"color\":\"#2a3f5f\"},\"marker\":{\"line\":{\"color\":\"#E5ECF6\",\"width\":0.5},\"pattern\":{\"fillmode\":\"overlay\",\"size\":10,\"solidity\":0.2}},\"type\":\"bar\"}],\"scattergeo\":[{\"type\":\"scattergeo\",\"marker\":{\"colorbar\":{\"outlinewidth\":0,\"ticks\":\"\"}}}],\"scatterpolar\":[{\"type\":\"scatterpolar\",\"marker\":{\"colorbar\":{\"outlinewidth\":0,\"ticks\":\"\"}}}],\"histogram\":[{\"marker\":{\"pattern\":{\"fillmode\":\"overlay\",\"size\":10,\"solidity\":0.2}},\"type\":\"histogram\"}],\"scattergl\":[{\"type\":\"scattergl\",\"marker\":{\"colorbar\":{\"outlinewidth\":0,\"ticks\":\"\"}}}],\"scatter3d\":[{\"type\":\"scatter3d\",\"line\":{\"colorbar\":{\"outlinewidth\":0,\"ticks\":\"\"}},\"marker\":{\"colorbar\":{\"outlinewidth\":0,\"ticks\":\"\"}}}],\"scattermapbox\":[{\"type\":\"scattermapbox\",\"marker\":{\"colorbar\":{\"outlinewidth\":0,\"ticks\":\"\"}}}],\"scatterternary\":[{\"type\":\"scatterternary\",\"marker\":{\"colorbar\":{\"outlinewidth\":0,\"ticks\":\"\"}}}],\"scattercarpet\":[{\"type\":\"scattercarpet\",\"marker\":{\"colorbar\":{\"outlinewidth\":0,\"ticks\":\"\"}}}],\"carpet\":[{\"aaxis\":{\"endlinecolor\":\"#2a3f5f\",\"gridcolor\":\"white\",\"linecolor\":\"white\",\"minorgridcolor\":\"white\",\"startlinecolor\":\"#2a3f5f\"},\"baxis\":{\"endlinecolor\":\"#2a3f5f\",\"gridcolor\":\"white\",\"linecolor\":\"white\",\"minorgridcolor\":\"white\",\"startlinecolor\":\"#2a3f5f\"},\"type\":\"carpet\"}],\"table\":[{\"cells\":{\"fill\":{\"color\":\"#EBF0F8\"},\"line\":{\"color\":\"white\"}},\"header\":{\"fill\":{\"color\":\"#C8D4E3\"},\"line\":{\"color\":\"white\"}},\"type\":\"table\"}],\"barpolar\":[{\"marker\":{\"line\":{\"color\":\"#E5ECF6\",\"width\":0.5},\"pattern\":{\"fillmode\":\"overlay\",\"size\":10,\"solidity\":0.2}},\"type\":\"barpolar\"}],\"pie\":[{\"automargin\":true,\"type\":\"pie\"}]},\"layout\":{\"autotypenumbers\":\"strict\",\"colorway\":[\"#636efa\",\"#EF553B\",\"#00cc96\",\"#ab63fa\",\"#FFA15A\",\"#19d3f3\",\"#FF6692\",\"#B6E880\",\"#FF97FF\",\"#FECB52\"],\"font\":{\"color\":\"#2a3f5f\"},\"hovermode\":\"closest\",\"hoverlabel\":{\"align\":\"left\"},\"paper_bgcolor\":\"white\",\"plot_bgcolor\":\"#E5ECF6\",\"polar\":{\"bgcolor\":\"#E5ECF6\",\"angularaxis\":{\"gridcolor\":\"white\",\"linecolor\":\"white\",\"ticks\":\"\"},\"radialaxis\":{\"gridcolor\":\"white\",\"linecolor\":\"white\",\"ticks\":\"\"}},\"ternary\":{\"bgcolor\":\"#E5ECF6\",\"aaxis\":{\"gridcolor\":\"white\",\"linecolor\":\"white\",\"ticks\":\"\"},\"baxis\":{\"gridcolor\":\"white\",\"linecolor\":\"white\",\"ticks\":\"\"},\"caxis\":{\"gridcolor\":\"white\",\"linecolor\":\"white\",\"ticks\":\"\"}},\"coloraxis\":{\"colorbar\":{\"outlinewidth\":0,\"ticks\":\"\"}},\"colorscale\":{\"sequential\":[[0.0,\"#0d0887\"],[0.1111111111111111,\"#46039f\"],[0.2222222222222222,\"#7201a8\"],[0.3333333333333333,\"#9c179e\"],[0.4444444444444444,\"#bd3786\"],[0.5555555555555556,\"#d8576b\"],[0.6666666666666666,\"#ed7953\"],[0.7777777777777778,\"#fb9f3a\"],[0.8888888888888888,\"#fdca26\"],[1.0,\"#f0f921\"]],\"sequentialminus\":[[0.0,\"#0d0887\"],[0.1111111111111111,\"#46039f\"],[0.2222222222222222,\"#7201a8\"],[0.3333333333333333,\"#9c179e\"],[0.4444444444444444,\"#bd3786\"],[0.5555555555555556,\"#d8576b\"],[0.6666666666666666,\"#ed7953\"],[0.7777777777777778,\"#fb9f3a\"],[0.8888888888888888,\"#fdca26\"],[1.0,\"#f0f921\"]],\"diverging\":[[0,\"#8e0152\"],[0.1,\"#c51b7d\"],[0.2,\"#de77ae\"],[0.3,\"#f1b6da\"],[0.4,\"#fde0ef\"],[0.5,\"#f7f7f7\"],[0.6,\"#e6f5d0\"],[0.7,\"#b8e186\"],[0.8,\"#7fbc41\"],[0.9,\"#4d9221\"],[1,\"#276419\"]]},\"xaxis\":{\"gridcolor\":\"white\",\"linecolor\":\"white\",\"ticks\":\"\",\"title\":{\"standoff\":15},\"zerolinecolor\":\"white\",\"automargin\":true,\"zerolinewidth\":2},\"yaxis\":{\"gridcolor\":\"white\",\"linecolor\":\"white\",\"ticks\":\"\",\"title\":{\"standoff\":15},\"zerolinecolor\":\"white\",\"automargin\":true,\"zerolinewidth\":2},\"scene\":{\"xaxis\":{\"backgroundcolor\":\"#E5ECF6\",\"gridcolor\":\"white\",\"linecolor\":\"white\",\"showbackground\":true,\"ticks\":\"\",\"zerolinecolor\":\"white\",\"gridwidth\":2},\"yaxis\":{\"backgroundcolor\":\"#E5ECF6\",\"gridcolor\":\"white\",\"linecolor\":\"white\",\"showbackground\":true,\"ticks\":\"\",\"zerolinecolor\":\"white\",\"gridwidth\":2},\"zaxis\":{\"backgroundcolor\":\"#E5ECF6\",\"gridcolor\":\"white\",\"linecolor\":\"white\",\"showbackground\":true,\"ticks\":\"\",\"zerolinecolor\":\"white\",\"gridwidth\":2}},\"shapedefaults\":{\"line\":{\"color\":\"#2a3f5f\"}},\"annotationdefaults\":{\"arrowcolor\":\"#2a3f5f\",\"arrowhead\":0,\"arrowwidth\":1},\"geo\":{\"bgcolor\":\"white\",\"landcolor\":\"#E5ECF6\",\"subunitcolor\":\"white\",\"showland\":true,\"showlakes\":true,\"lakecolor\":\"white\"},\"title\":{\"x\":0.05},\"mapbox\":{\"style\":\"light\"}}}},                        {\"responsive\": true}                    ).then(function(){\n",
              "                            \n",
              "var gd = document.getElementById('6aa0dbbf-06de-47a1-beb1-b3971bc896b4');\n",
              "var x = new MutationObserver(function (mutations, observer) {{\n",
              "        var display = window.getComputedStyle(gd).display;\n",
              "        if (!display || display === 'none') {{\n",
              "            console.log([gd, 'removed!']);\n",
              "            Plotly.purge(gd);\n",
              "            observer.disconnect();\n",
              "        }}\n",
              "}});\n",
              "\n",
              "// Listen for the removal of the full notebook cells\n",
              "var notebookContainer = gd.closest('#notebook-container');\n",
              "if (notebookContainer) {{\n",
              "    x.observe(notebookContainer, {childList: true});\n",
              "}}\n",
              "\n",
              "// Listen for the clearing of the current output cell\n",
              "var outputEl = gd.closest('.output');\n",
              "if (outputEl) {{\n",
              "    x.observe(outputEl, {childList: true});\n",
              "}}\n",
              "\n",
              "                        })                };                            </script>        </div>\n",
              "</body>\n",
              "</html>"
            ]
          },
          "metadata": {}
        }
      ]
    },
    {
      "cell_type": "markdown",
      "metadata": {
        "id": "PaWQEbh_UsiY"
      },
      "source": [
        "## Derived Probability Distributions\n",
        "\n",
        "Given the simple fact that each toss will be heads or tails (also called a bernoulli distribution) we can come up with a derived question, that given 20 coin tosses, what is the probability that 7 of them are heads.\n",
        "\n",
        "You can see the probability distribution below, it's called a Binomial distribution and looks like a Bell. This will always happen whenever you have a bunch of independently sampled variables. (Independent and Identical, see Central Limit Theorem)"
      ]
    },
    {
      "cell_type": "code",
      "metadata": {
        "colab": {
          "base_uri": "https://localhost:8080/",
          "height": 542
        },
        "id": "DbbAeCJOZpmr",
        "outputId": "81194b89-cf77-4e06-dffc-d69fa3ca21c1"
      },
      "source": [
        "results = pd.Series([np.sum(toss_coin(20) == 'Heads') for _ in range(1000)])\n",
        "fig = pg.Figure([pg.Bar(x=results.value_counts().keys(),\n",
        "                        y=results.value_counts().values)])\n",
        "fig.show()"
      ],
      "execution_count": 7,
      "outputs": [
        {
          "output_type": "display_data",
          "data": {
            "text/html": [
              "<html>\n",
              "<head><meta charset=\"utf-8\" /></head>\n",
              "<body>\n",
              "    <div>            <script src=\"https://cdnjs.cloudflare.com/ajax/libs/mathjax/2.7.5/MathJax.js?config=TeX-AMS-MML_SVG\"></script><script type=\"text/javascript\">if (window.MathJax && window.MathJax.Hub && window.MathJax.Hub.Config) {window.MathJax.Hub.Config({SVG: {font: \"STIX-Web\"}});}</script>                <script type=\"text/javascript\">window.PlotlyConfig = {MathJaxConfig: 'local'};</script>\n",
              "        <script charset=\"utf-8\" src=\"https://cdn.plot.ly/plotly-2.24.1.min.js\"></script>                <div id=\"7552b326-7483-492f-9457-0b9ad575a7cf\" class=\"plotly-graph-div\" style=\"height:525px; width:100%;\"></div>            <script type=\"text/javascript\">                                    window.PLOTLYENV=window.PLOTLYENV || {};                                    if (document.getElementById(\"7552b326-7483-492f-9457-0b9ad575a7cf\")) {                    Plotly.newPlot(                        \"7552b326-7483-492f-9457-0b9ad575a7cf\",                        [{\"x\":[10,11,9,8,12,13,7,14,6,15,5,4,16,17],\"y\":[179,174,165,111,107,76,70,37,35,18,17,7,3,1],\"type\":\"bar\"}],                        {\"template\":{\"data\":{\"histogram2dcontour\":[{\"type\":\"histogram2dcontour\",\"colorbar\":{\"outlinewidth\":0,\"ticks\":\"\"},\"colorscale\":[[0.0,\"#0d0887\"],[0.1111111111111111,\"#46039f\"],[0.2222222222222222,\"#7201a8\"],[0.3333333333333333,\"#9c179e\"],[0.4444444444444444,\"#bd3786\"],[0.5555555555555556,\"#d8576b\"],[0.6666666666666666,\"#ed7953\"],[0.7777777777777778,\"#fb9f3a\"],[0.8888888888888888,\"#fdca26\"],[1.0,\"#f0f921\"]]}],\"choropleth\":[{\"type\":\"choropleth\",\"colorbar\":{\"outlinewidth\":0,\"ticks\":\"\"}}],\"histogram2d\":[{\"type\":\"histogram2d\",\"colorbar\":{\"outlinewidth\":0,\"ticks\":\"\"},\"colorscale\":[[0.0,\"#0d0887\"],[0.1111111111111111,\"#46039f\"],[0.2222222222222222,\"#7201a8\"],[0.3333333333333333,\"#9c179e\"],[0.4444444444444444,\"#bd3786\"],[0.5555555555555556,\"#d8576b\"],[0.6666666666666666,\"#ed7953\"],[0.7777777777777778,\"#fb9f3a\"],[0.8888888888888888,\"#fdca26\"],[1.0,\"#f0f921\"]]}],\"heatmap\":[{\"type\":\"heatmap\",\"colorbar\":{\"outlinewidth\":0,\"ticks\":\"\"},\"colorscale\":[[0.0,\"#0d0887\"],[0.1111111111111111,\"#46039f\"],[0.2222222222222222,\"#7201a8\"],[0.3333333333333333,\"#9c179e\"],[0.4444444444444444,\"#bd3786\"],[0.5555555555555556,\"#d8576b\"],[0.6666666666666666,\"#ed7953\"],[0.7777777777777778,\"#fb9f3a\"],[0.8888888888888888,\"#fdca26\"],[1.0,\"#f0f921\"]]}],\"heatmapgl\":[{\"type\":\"heatmapgl\",\"colorbar\":{\"outlinewidth\":0,\"ticks\":\"\"},\"colorscale\":[[0.0,\"#0d0887\"],[0.1111111111111111,\"#46039f\"],[0.2222222222222222,\"#7201a8\"],[0.3333333333333333,\"#9c179e\"],[0.4444444444444444,\"#bd3786\"],[0.5555555555555556,\"#d8576b\"],[0.6666666666666666,\"#ed7953\"],[0.7777777777777778,\"#fb9f3a\"],[0.8888888888888888,\"#fdca26\"],[1.0,\"#f0f921\"]]}],\"contourcarpet\":[{\"type\":\"contourcarpet\",\"colorbar\":{\"outlinewidth\":0,\"ticks\":\"\"}}],\"contour\":[{\"type\":\"contour\",\"colorbar\":{\"outlinewidth\":0,\"ticks\":\"\"},\"colorscale\":[[0.0,\"#0d0887\"],[0.1111111111111111,\"#46039f\"],[0.2222222222222222,\"#7201a8\"],[0.3333333333333333,\"#9c179e\"],[0.4444444444444444,\"#bd3786\"],[0.5555555555555556,\"#d8576b\"],[0.6666666666666666,\"#ed7953\"],[0.7777777777777778,\"#fb9f3a\"],[0.8888888888888888,\"#fdca26\"],[1.0,\"#f0f921\"]]}],\"surface\":[{\"type\":\"surface\",\"colorbar\":{\"outlinewidth\":0,\"ticks\":\"\"},\"colorscale\":[[0.0,\"#0d0887\"],[0.1111111111111111,\"#46039f\"],[0.2222222222222222,\"#7201a8\"],[0.3333333333333333,\"#9c179e\"],[0.4444444444444444,\"#bd3786\"],[0.5555555555555556,\"#d8576b\"],[0.6666666666666666,\"#ed7953\"],[0.7777777777777778,\"#fb9f3a\"],[0.8888888888888888,\"#fdca26\"],[1.0,\"#f0f921\"]]}],\"mesh3d\":[{\"type\":\"mesh3d\",\"colorbar\":{\"outlinewidth\":0,\"ticks\":\"\"}}],\"scatter\":[{\"fillpattern\":{\"fillmode\":\"overlay\",\"size\":10,\"solidity\":0.2},\"type\":\"scatter\"}],\"parcoords\":[{\"type\":\"parcoords\",\"line\":{\"colorbar\":{\"outlinewidth\":0,\"ticks\":\"\"}}}],\"scatterpolargl\":[{\"type\":\"scatterpolargl\",\"marker\":{\"colorbar\":{\"outlinewidth\":0,\"ticks\":\"\"}}}],\"bar\":[{\"error_x\":{\"color\":\"#2a3f5f\"},\"error_y\":{\"color\":\"#2a3f5f\"},\"marker\":{\"line\":{\"color\":\"#E5ECF6\",\"width\":0.5},\"pattern\":{\"fillmode\":\"overlay\",\"size\":10,\"solidity\":0.2}},\"type\":\"bar\"}],\"scattergeo\":[{\"type\":\"scattergeo\",\"marker\":{\"colorbar\":{\"outlinewidth\":0,\"ticks\":\"\"}}}],\"scatterpolar\":[{\"type\":\"scatterpolar\",\"marker\":{\"colorbar\":{\"outlinewidth\":0,\"ticks\":\"\"}}}],\"histogram\":[{\"marker\":{\"pattern\":{\"fillmode\":\"overlay\",\"size\":10,\"solidity\":0.2}},\"type\":\"histogram\"}],\"scattergl\":[{\"type\":\"scattergl\",\"marker\":{\"colorbar\":{\"outlinewidth\":0,\"ticks\":\"\"}}}],\"scatter3d\":[{\"type\":\"scatter3d\",\"line\":{\"colorbar\":{\"outlinewidth\":0,\"ticks\":\"\"}},\"marker\":{\"colorbar\":{\"outlinewidth\":0,\"ticks\":\"\"}}}],\"scattermapbox\":[{\"type\":\"scattermapbox\",\"marker\":{\"colorbar\":{\"outlinewidth\":0,\"ticks\":\"\"}}}],\"scatterternary\":[{\"type\":\"scatterternary\",\"marker\":{\"colorbar\":{\"outlinewidth\":0,\"ticks\":\"\"}}}],\"scattercarpet\":[{\"type\":\"scattercarpet\",\"marker\":{\"colorbar\":{\"outlinewidth\":0,\"ticks\":\"\"}}}],\"carpet\":[{\"aaxis\":{\"endlinecolor\":\"#2a3f5f\",\"gridcolor\":\"white\",\"linecolor\":\"white\",\"minorgridcolor\":\"white\",\"startlinecolor\":\"#2a3f5f\"},\"baxis\":{\"endlinecolor\":\"#2a3f5f\",\"gridcolor\":\"white\",\"linecolor\":\"white\",\"minorgridcolor\":\"white\",\"startlinecolor\":\"#2a3f5f\"},\"type\":\"carpet\"}],\"table\":[{\"cells\":{\"fill\":{\"color\":\"#EBF0F8\"},\"line\":{\"color\":\"white\"}},\"header\":{\"fill\":{\"color\":\"#C8D4E3\"},\"line\":{\"color\":\"white\"}},\"type\":\"table\"}],\"barpolar\":[{\"marker\":{\"line\":{\"color\":\"#E5ECF6\",\"width\":0.5},\"pattern\":{\"fillmode\":\"overlay\",\"size\":10,\"solidity\":0.2}},\"type\":\"barpolar\"}],\"pie\":[{\"automargin\":true,\"type\":\"pie\"}]},\"layout\":{\"autotypenumbers\":\"strict\",\"colorway\":[\"#636efa\",\"#EF553B\",\"#00cc96\",\"#ab63fa\",\"#FFA15A\",\"#19d3f3\",\"#FF6692\",\"#B6E880\",\"#FF97FF\",\"#FECB52\"],\"font\":{\"color\":\"#2a3f5f\"},\"hovermode\":\"closest\",\"hoverlabel\":{\"align\":\"left\"},\"paper_bgcolor\":\"white\",\"plot_bgcolor\":\"#E5ECF6\",\"polar\":{\"bgcolor\":\"#E5ECF6\",\"angularaxis\":{\"gridcolor\":\"white\",\"linecolor\":\"white\",\"ticks\":\"\"},\"radialaxis\":{\"gridcolor\":\"white\",\"linecolor\":\"white\",\"ticks\":\"\"}},\"ternary\":{\"bgcolor\":\"#E5ECF6\",\"aaxis\":{\"gridcolor\":\"white\",\"linecolor\":\"white\",\"ticks\":\"\"},\"baxis\":{\"gridcolor\":\"white\",\"linecolor\":\"white\",\"ticks\":\"\"},\"caxis\":{\"gridcolor\":\"white\",\"linecolor\":\"white\",\"ticks\":\"\"}},\"coloraxis\":{\"colorbar\":{\"outlinewidth\":0,\"ticks\":\"\"}},\"colorscale\":{\"sequential\":[[0.0,\"#0d0887\"],[0.1111111111111111,\"#46039f\"],[0.2222222222222222,\"#7201a8\"],[0.3333333333333333,\"#9c179e\"],[0.4444444444444444,\"#bd3786\"],[0.5555555555555556,\"#d8576b\"],[0.6666666666666666,\"#ed7953\"],[0.7777777777777778,\"#fb9f3a\"],[0.8888888888888888,\"#fdca26\"],[1.0,\"#f0f921\"]],\"sequentialminus\":[[0.0,\"#0d0887\"],[0.1111111111111111,\"#46039f\"],[0.2222222222222222,\"#7201a8\"],[0.3333333333333333,\"#9c179e\"],[0.4444444444444444,\"#bd3786\"],[0.5555555555555556,\"#d8576b\"],[0.6666666666666666,\"#ed7953\"],[0.7777777777777778,\"#fb9f3a\"],[0.8888888888888888,\"#fdca26\"],[1.0,\"#f0f921\"]],\"diverging\":[[0,\"#8e0152\"],[0.1,\"#c51b7d\"],[0.2,\"#de77ae\"],[0.3,\"#f1b6da\"],[0.4,\"#fde0ef\"],[0.5,\"#f7f7f7\"],[0.6,\"#e6f5d0\"],[0.7,\"#b8e186\"],[0.8,\"#7fbc41\"],[0.9,\"#4d9221\"],[1,\"#276419\"]]},\"xaxis\":{\"gridcolor\":\"white\",\"linecolor\":\"white\",\"ticks\":\"\",\"title\":{\"standoff\":15},\"zerolinecolor\":\"white\",\"automargin\":true,\"zerolinewidth\":2},\"yaxis\":{\"gridcolor\":\"white\",\"linecolor\":\"white\",\"ticks\":\"\",\"title\":{\"standoff\":15},\"zerolinecolor\":\"white\",\"automargin\":true,\"zerolinewidth\":2},\"scene\":{\"xaxis\":{\"backgroundcolor\":\"#E5ECF6\",\"gridcolor\":\"white\",\"linecolor\":\"white\",\"showbackground\":true,\"ticks\":\"\",\"zerolinecolor\":\"white\",\"gridwidth\":2},\"yaxis\":{\"backgroundcolor\":\"#E5ECF6\",\"gridcolor\":\"white\",\"linecolor\":\"white\",\"showbackground\":true,\"ticks\":\"\",\"zerolinecolor\":\"white\",\"gridwidth\":2},\"zaxis\":{\"backgroundcolor\":\"#E5ECF6\",\"gridcolor\":\"white\",\"linecolor\":\"white\",\"showbackground\":true,\"ticks\":\"\",\"zerolinecolor\":\"white\",\"gridwidth\":2}},\"shapedefaults\":{\"line\":{\"color\":\"#2a3f5f\"}},\"annotationdefaults\":{\"arrowcolor\":\"#2a3f5f\",\"arrowhead\":0,\"arrowwidth\":1},\"geo\":{\"bgcolor\":\"white\",\"landcolor\":\"#E5ECF6\",\"subunitcolor\":\"white\",\"showland\":true,\"showlakes\":true,\"lakecolor\":\"white\"},\"title\":{\"x\":0.05},\"mapbox\":{\"style\":\"light\"}}}},                        {\"responsive\": true}                    ).then(function(){\n",
              "                            \n",
              "var gd = document.getElementById('7552b326-7483-492f-9457-0b9ad575a7cf');\n",
              "var x = new MutationObserver(function (mutations, observer) {{\n",
              "        var display = window.getComputedStyle(gd).display;\n",
              "        if (!display || display === 'none') {{\n",
              "            console.log([gd, 'removed!']);\n",
              "            Plotly.purge(gd);\n",
              "            observer.disconnect();\n",
              "        }}\n",
              "}});\n",
              "\n",
              "// Listen for the removal of the full notebook cells\n",
              "var notebookContainer = gd.closest('#notebook-container');\n",
              "if (notebookContainer) {{\n",
              "    x.observe(notebookContainer, {childList: true});\n",
              "}}\n",
              "\n",
              "// Listen for the clearing of the current output cell\n",
              "var outputEl = gd.closest('.output');\n",
              "if (outputEl) {{\n",
              "    x.observe(outputEl, {childList: true});\n",
              "}}\n",
              "\n",
              "                        })                };                            </script>        </div>\n",
              "</body>\n",
              "</html>"
            ]
          },
          "metadata": {}
        }
      ]
    },
    {
      "cell_type": "markdown",
      "metadata": {
        "id": "LTpBI0ayWqL7"
      },
      "source": [
        "Let's try to see if we toss the coin 500 times, then what happens. Looks similar, and more like a bell than before."
      ]
    },
    {
      "cell_type": "code",
      "metadata": {
        "colab": {
          "base_uri": "https://localhost:8080/",
          "height": 542
        },
        "id": "4YvjeQGwqUj1",
        "outputId": "229dc2b0-1dee-4d13-b7d0-cd5756fea7a5"
      },
      "source": [
        "results = pd.Series([np.sum(toss_coin(500) == 'Heads') for _ in range(5000)])\n",
        "fig = pg.Figure([pg.Bar(x=results.value_counts().keys(),\n",
        "                        y=results.value_counts().values)])\n",
        "fig.show()"
      ],
      "execution_count": 8,
      "outputs": [
        {
          "output_type": "display_data",
          "data": {
            "text/html": [
              "<html>\n",
              "<head><meta charset=\"utf-8\" /></head>\n",
              "<body>\n",
              "    <div>            <script src=\"https://cdnjs.cloudflare.com/ajax/libs/mathjax/2.7.5/MathJax.js?config=TeX-AMS-MML_SVG\"></script><script type=\"text/javascript\">if (window.MathJax && window.MathJax.Hub && window.MathJax.Hub.Config) {window.MathJax.Hub.Config({SVG: {font: \"STIX-Web\"}});}</script>                <script type=\"text/javascript\">window.PlotlyConfig = {MathJaxConfig: 'local'};</script>\n",
              "        <script charset=\"utf-8\" src=\"https://cdn.plot.ly/plotly-2.24.1.min.js\"></script>                <div id=\"8438f4f4-7dc9-4fff-b3e1-03f02d39c946\" class=\"plotly-graph-div\" style=\"height:525px; width:100%;\"></div>            <script type=\"text/javascript\">                                    window.PLOTLYENV=window.PLOTLYENV || {};                                    if (document.getElementById(\"8438f4f4-7dc9-4fff-b3e1-03f02d39c946\")) {                    Plotly.newPlot(                        \"8438f4f4-7dc9-4fff-b3e1-03f02d39c946\",                        [{\"x\":[248,250,251,252,245,247,249,253,255,246,256,243,254,242,257,244,259,258,241,239,261,240,238,260,262,236,264,263,237,235,265,234,267,266,233,268,232,269,230,229,273,272,231,270,271,227,228,276,226,224,225,274,275,223,277,279,220,280,216,278,218,221,281,282,219,284,222,214,217,283,289,291,205,211,285,292],\"y\":[193,190,184,183,180,170,168,164,163,162,160,160,155,147,145,143,134,132,117,116,107,104,102,98,94,94,90,85,84,76,71,65,63,61,54,48,42,40,38,34,31,30,29,29,26,25,24,22,22,16,16,14,13,12,11,9,7,6,5,5,4,3,3,3,3,2,2,2,2,2,1,1,1,1,1,1],\"type\":\"bar\"}],                        {\"template\":{\"data\":{\"histogram2dcontour\":[{\"type\":\"histogram2dcontour\",\"colorbar\":{\"outlinewidth\":0,\"ticks\":\"\"},\"colorscale\":[[0.0,\"#0d0887\"],[0.1111111111111111,\"#46039f\"],[0.2222222222222222,\"#7201a8\"],[0.3333333333333333,\"#9c179e\"],[0.4444444444444444,\"#bd3786\"],[0.5555555555555556,\"#d8576b\"],[0.6666666666666666,\"#ed7953\"],[0.7777777777777778,\"#fb9f3a\"],[0.8888888888888888,\"#fdca26\"],[1.0,\"#f0f921\"]]}],\"choropleth\":[{\"type\":\"choropleth\",\"colorbar\":{\"outlinewidth\":0,\"ticks\":\"\"}}],\"histogram2d\":[{\"type\":\"histogram2d\",\"colorbar\":{\"outlinewidth\":0,\"ticks\":\"\"},\"colorscale\":[[0.0,\"#0d0887\"],[0.1111111111111111,\"#46039f\"],[0.2222222222222222,\"#7201a8\"],[0.3333333333333333,\"#9c179e\"],[0.4444444444444444,\"#bd3786\"],[0.5555555555555556,\"#d8576b\"],[0.6666666666666666,\"#ed7953\"],[0.7777777777777778,\"#fb9f3a\"],[0.8888888888888888,\"#fdca26\"],[1.0,\"#f0f921\"]]}],\"heatmap\":[{\"type\":\"heatmap\",\"colorbar\":{\"outlinewidth\":0,\"ticks\":\"\"},\"colorscale\":[[0.0,\"#0d0887\"],[0.1111111111111111,\"#46039f\"],[0.2222222222222222,\"#7201a8\"],[0.3333333333333333,\"#9c179e\"],[0.4444444444444444,\"#bd3786\"],[0.5555555555555556,\"#d8576b\"],[0.6666666666666666,\"#ed7953\"],[0.7777777777777778,\"#fb9f3a\"],[0.8888888888888888,\"#fdca26\"],[1.0,\"#f0f921\"]]}],\"heatmapgl\":[{\"type\":\"heatmapgl\",\"colorbar\":{\"outlinewidth\":0,\"ticks\":\"\"},\"colorscale\":[[0.0,\"#0d0887\"],[0.1111111111111111,\"#46039f\"],[0.2222222222222222,\"#7201a8\"],[0.3333333333333333,\"#9c179e\"],[0.4444444444444444,\"#bd3786\"],[0.5555555555555556,\"#d8576b\"],[0.6666666666666666,\"#ed7953\"],[0.7777777777777778,\"#fb9f3a\"],[0.8888888888888888,\"#fdca26\"],[1.0,\"#f0f921\"]]}],\"contourcarpet\":[{\"type\":\"contourcarpet\",\"colorbar\":{\"outlinewidth\":0,\"ticks\":\"\"}}],\"contour\":[{\"type\":\"contour\",\"colorbar\":{\"outlinewidth\":0,\"ticks\":\"\"},\"colorscale\":[[0.0,\"#0d0887\"],[0.1111111111111111,\"#46039f\"],[0.2222222222222222,\"#7201a8\"],[0.3333333333333333,\"#9c179e\"],[0.4444444444444444,\"#bd3786\"],[0.5555555555555556,\"#d8576b\"],[0.6666666666666666,\"#ed7953\"],[0.7777777777777778,\"#fb9f3a\"],[0.8888888888888888,\"#fdca26\"],[1.0,\"#f0f921\"]]}],\"surface\":[{\"type\":\"surface\",\"colorbar\":{\"outlinewidth\":0,\"ticks\":\"\"},\"colorscale\":[[0.0,\"#0d0887\"],[0.1111111111111111,\"#46039f\"],[0.2222222222222222,\"#7201a8\"],[0.3333333333333333,\"#9c179e\"],[0.4444444444444444,\"#bd3786\"],[0.5555555555555556,\"#d8576b\"],[0.6666666666666666,\"#ed7953\"],[0.7777777777777778,\"#fb9f3a\"],[0.8888888888888888,\"#fdca26\"],[1.0,\"#f0f921\"]]}],\"mesh3d\":[{\"type\":\"mesh3d\",\"colorbar\":{\"outlinewidth\":0,\"ticks\":\"\"}}],\"scatter\":[{\"fillpattern\":{\"fillmode\":\"overlay\",\"size\":10,\"solidity\":0.2},\"type\":\"scatter\"}],\"parcoords\":[{\"type\":\"parcoords\",\"line\":{\"colorbar\":{\"outlinewidth\":0,\"ticks\":\"\"}}}],\"scatterpolargl\":[{\"type\":\"scatterpolargl\",\"marker\":{\"colorbar\":{\"outlinewidth\":0,\"ticks\":\"\"}}}],\"bar\":[{\"error_x\":{\"color\":\"#2a3f5f\"},\"error_y\":{\"color\":\"#2a3f5f\"},\"marker\":{\"line\":{\"color\":\"#E5ECF6\",\"width\":0.5},\"pattern\":{\"fillmode\":\"overlay\",\"size\":10,\"solidity\":0.2}},\"type\":\"bar\"}],\"scattergeo\":[{\"type\":\"scattergeo\",\"marker\":{\"colorbar\":{\"outlinewidth\":0,\"ticks\":\"\"}}}],\"scatterpolar\":[{\"type\":\"scatterpolar\",\"marker\":{\"colorbar\":{\"outlinewidth\":0,\"ticks\":\"\"}}}],\"histogram\":[{\"marker\":{\"pattern\":{\"fillmode\":\"overlay\",\"size\":10,\"solidity\":0.2}},\"type\":\"histogram\"}],\"scattergl\":[{\"type\":\"scattergl\",\"marker\":{\"colorbar\":{\"outlinewidth\":0,\"ticks\":\"\"}}}],\"scatter3d\":[{\"type\":\"scatter3d\",\"line\":{\"colorbar\":{\"outlinewidth\":0,\"ticks\":\"\"}},\"marker\":{\"colorbar\":{\"outlinewidth\":0,\"ticks\":\"\"}}}],\"scattermapbox\":[{\"type\":\"scattermapbox\",\"marker\":{\"colorbar\":{\"outlinewidth\":0,\"ticks\":\"\"}}}],\"scatterternary\":[{\"type\":\"scatterternary\",\"marker\":{\"colorbar\":{\"outlinewidth\":0,\"ticks\":\"\"}}}],\"scattercarpet\":[{\"type\":\"scattercarpet\",\"marker\":{\"colorbar\":{\"outlinewidth\":0,\"ticks\":\"\"}}}],\"carpet\":[{\"aaxis\":{\"endlinecolor\":\"#2a3f5f\",\"gridcolor\":\"white\",\"linecolor\":\"white\",\"minorgridcolor\":\"white\",\"startlinecolor\":\"#2a3f5f\"},\"baxis\":{\"endlinecolor\":\"#2a3f5f\",\"gridcolor\":\"white\",\"linecolor\":\"white\",\"minorgridcolor\":\"white\",\"startlinecolor\":\"#2a3f5f\"},\"type\":\"carpet\"}],\"table\":[{\"cells\":{\"fill\":{\"color\":\"#EBF0F8\"},\"line\":{\"color\":\"white\"}},\"header\":{\"fill\":{\"color\":\"#C8D4E3\"},\"line\":{\"color\":\"white\"}},\"type\":\"table\"}],\"barpolar\":[{\"marker\":{\"line\":{\"color\":\"#E5ECF6\",\"width\":0.5},\"pattern\":{\"fillmode\":\"overlay\",\"size\":10,\"solidity\":0.2}},\"type\":\"barpolar\"}],\"pie\":[{\"automargin\":true,\"type\":\"pie\"}]},\"layout\":{\"autotypenumbers\":\"strict\",\"colorway\":[\"#636efa\",\"#EF553B\",\"#00cc96\",\"#ab63fa\",\"#FFA15A\",\"#19d3f3\",\"#FF6692\",\"#B6E880\",\"#FF97FF\",\"#FECB52\"],\"font\":{\"color\":\"#2a3f5f\"},\"hovermode\":\"closest\",\"hoverlabel\":{\"align\":\"left\"},\"paper_bgcolor\":\"white\",\"plot_bgcolor\":\"#E5ECF6\",\"polar\":{\"bgcolor\":\"#E5ECF6\",\"angularaxis\":{\"gridcolor\":\"white\",\"linecolor\":\"white\",\"ticks\":\"\"},\"radialaxis\":{\"gridcolor\":\"white\",\"linecolor\":\"white\",\"ticks\":\"\"}},\"ternary\":{\"bgcolor\":\"#E5ECF6\",\"aaxis\":{\"gridcolor\":\"white\",\"linecolor\":\"white\",\"ticks\":\"\"},\"baxis\":{\"gridcolor\":\"white\",\"linecolor\":\"white\",\"ticks\":\"\"},\"caxis\":{\"gridcolor\":\"white\",\"linecolor\":\"white\",\"ticks\":\"\"}},\"coloraxis\":{\"colorbar\":{\"outlinewidth\":0,\"ticks\":\"\"}},\"colorscale\":{\"sequential\":[[0.0,\"#0d0887\"],[0.1111111111111111,\"#46039f\"],[0.2222222222222222,\"#7201a8\"],[0.3333333333333333,\"#9c179e\"],[0.4444444444444444,\"#bd3786\"],[0.5555555555555556,\"#d8576b\"],[0.6666666666666666,\"#ed7953\"],[0.7777777777777778,\"#fb9f3a\"],[0.8888888888888888,\"#fdca26\"],[1.0,\"#f0f921\"]],\"sequentialminus\":[[0.0,\"#0d0887\"],[0.1111111111111111,\"#46039f\"],[0.2222222222222222,\"#7201a8\"],[0.3333333333333333,\"#9c179e\"],[0.4444444444444444,\"#bd3786\"],[0.5555555555555556,\"#d8576b\"],[0.6666666666666666,\"#ed7953\"],[0.7777777777777778,\"#fb9f3a\"],[0.8888888888888888,\"#fdca26\"],[1.0,\"#f0f921\"]],\"diverging\":[[0,\"#8e0152\"],[0.1,\"#c51b7d\"],[0.2,\"#de77ae\"],[0.3,\"#f1b6da\"],[0.4,\"#fde0ef\"],[0.5,\"#f7f7f7\"],[0.6,\"#e6f5d0\"],[0.7,\"#b8e186\"],[0.8,\"#7fbc41\"],[0.9,\"#4d9221\"],[1,\"#276419\"]]},\"xaxis\":{\"gridcolor\":\"white\",\"linecolor\":\"white\",\"ticks\":\"\",\"title\":{\"standoff\":15},\"zerolinecolor\":\"white\",\"automargin\":true,\"zerolinewidth\":2},\"yaxis\":{\"gridcolor\":\"white\",\"linecolor\":\"white\",\"ticks\":\"\",\"title\":{\"standoff\":15},\"zerolinecolor\":\"white\",\"automargin\":true,\"zerolinewidth\":2},\"scene\":{\"xaxis\":{\"backgroundcolor\":\"#E5ECF6\",\"gridcolor\":\"white\",\"linecolor\":\"white\",\"showbackground\":true,\"ticks\":\"\",\"zerolinecolor\":\"white\",\"gridwidth\":2},\"yaxis\":{\"backgroundcolor\":\"#E5ECF6\",\"gridcolor\":\"white\",\"linecolor\":\"white\",\"showbackground\":true,\"ticks\":\"\",\"zerolinecolor\":\"white\",\"gridwidth\":2},\"zaxis\":{\"backgroundcolor\":\"#E5ECF6\",\"gridcolor\":\"white\",\"linecolor\":\"white\",\"showbackground\":true,\"ticks\":\"\",\"zerolinecolor\":\"white\",\"gridwidth\":2}},\"shapedefaults\":{\"line\":{\"color\":\"#2a3f5f\"}},\"annotationdefaults\":{\"arrowcolor\":\"#2a3f5f\",\"arrowhead\":0,\"arrowwidth\":1},\"geo\":{\"bgcolor\":\"white\",\"landcolor\":\"#E5ECF6\",\"subunitcolor\":\"white\",\"showland\":true,\"showlakes\":true,\"lakecolor\":\"white\"},\"title\":{\"x\":0.05},\"mapbox\":{\"style\":\"light\"}}}},                        {\"responsive\": true}                    ).then(function(){\n",
              "                            \n",
              "var gd = document.getElementById('8438f4f4-7dc9-4fff-b3e1-03f02d39c946');\n",
              "var x = new MutationObserver(function (mutations, observer) {{\n",
              "        var display = window.getComputedStyle(gd).display;\n",
              "        if (!display || display === 'none') {{\n",
              "            console.log([gd, 'removed!']);\n",
              "            Plotly.purge(gd);\n",
              "            observer.disconnect();\n",
              "        }}\n",
              "}});\n",
              "\n",
              "// Listen for the removal of the full notebook cells\n",
              "var notebookContainer = gd.closest('#notebook-container');\n",
              "if (notebookContainer) {{\n",
              "    x.observe(notebookContainer, {childList: true});\n",
              "}}\n",
              "\n",
              "// Listen for the clearing of the current output cell\n",
              "var outputEl = gd.closest('.output');\n",
              "if (outputEl) {{\n",
              "    x.observe(outputEl, {childList: true});\n",
              "}}\n",
              "\n",
              "                        })                };                            </script>        </div>\n",
              "</body>\n",
              "</html>"
            ]
          },
          "metadata": {}
        }
      ]
    },
    {
      "cell_type": "code",
      "source": [
        "results = pd.Series([np.sum(toss_coin(50000) == 'Heads') for _ in range(5000)])\n",
        "fig = pg.Figure([pg.Bar(x=results.value_counts().keys(),\n",
        "                        y=results.value_counts().values)])\n",
        "fig.show()"
      ],
      "metadata": {
        "id": "yXqCowkhBheR",
        "outputId": "140e607e-f668-405e-db29-d77f267c3f93",
        "colab": {
          "base_uri": "https://localhost:8080/",
          "height": 542
        }
      },
      "execution_count": 9,
      "outputs": [
        {
          "output_type": "display_data",
          "data": {
            "text/html": [
              "<html>\n",
              "<head><meta charset=\"utf-8\" /></head>\n",
              "<body>\n",
              "    <div>            <script src=\"https://cdnjs.cloudflare.com/ajax/libs/mathjax/2.7.5/MathJax.js?config=TeX-AMS-MML_SVG\"></script><script type=\"text/javascript\">if (window.MathJax && window.MathJax.Hub && window.MathJax.Hub.Config) {window.MathJax.Hub.Config({SVG: {font: \"STIX-Web\"}});}</script>                <script type=\"text/javascript\">window.PlotlyConfig = {MathJaxConfig: 'local'};</script>\n",
              "        <script charset=\"utf-8\" src=\"https://cdn.plot.ly/plotly-2.24.1.min.js\"></script>                <div id=\"7cf90546-7a0d-42c2-be61-a6f8a1480afc\" class=\"plotly-graph-div\" style=\"height:525px; width:100%;\"></div>            <script type=\"text/javascript\">                                    window.PLOTLYENV=window.PLOTLYENV || {};                                    if (document.getElementById(\"7cf90546-7a0d-42c2-be61-a6f8a1480afc\")) {                    Plotly.newPlot(                        \"7cf90546-7a0d-42c2-be61-a6f8a1480afc\",                        [{\"x\":[24980,24998,25034,25031,24969,24987,24990,25008,24985,24999,24951,24982,24973,25030,24954,24955,25077,24976,25024,25056,25010,25025,25033,25099,25004,24906,24943,24949,24972,24993,24929,25000,24997,24948,24995,24964,24946,25065,25092,24971,25012,24885,25011,25032,25027,25109,25063,24959,24966,24978,25085,24983,24952,25002,25042,25043,24899,24988,25019,25059,24945,24968,25015,24977,25073,25028,25058,25044,25021,25007,24992,24937,24936,25045,24986,25048,25022,24916,24967,24902,25038,25089,24919,24950,24962,25079,25039,25041,25035,25023,25050,25018,25026,25094,25068,24926,25046,24930,25114,25075,24965,25040,25072,25029,24996,25069,24932,24991,24927,24994,25082,25064,24864,25005,25047,24933,24963,24887,24934,25098,24931,24922,25016,24894,24925,24984,24909,24892,24910,24883,24944,25116,25080,25057,25107,24921,25110,24891,24942,25135,24913,25006,24957,25053,24924,24928,25088,25122,25106,25084,25003,25090,25101,25118,25096,25115,25108,25014,25071,25119,24958,24876,24904,24914,24947,25070,25062,24979,25020,24918,25111,24939,25138,25055,24970,24989,24915,24953,25061,25095,25093,25103,24923,24905,24975,24981,25074,24960,25017,25117,24974,24920,24938,24935,25049,25054,25060,24941,24881,24890,25001,25037,24863,25066,24898,25145,24896,25036,25076,24842,25078,24907,24895,24880,25165,25175,25051,25172,24888,25121,24841,25052,25087,25100,24917,25112,24893,25083,24912,25086,25013,24878,24911,24855,25067,25154,24848,24956,25081,25128,25144,25148,24908,25129,24873,24837,24854,24879,24860,24840,24897,25125,25195,25120,25143,25155,24874,25189,24877,25124,25136,25170,24856,24809,24867,24868,25142,24884,24961,25126,25157,24869,24835,25113,24832,25097,24882,24900,25152,25102,25091,24820,24901,24872,25190,24834,24845,24889,24870,24838,24871,24829,25167,25146,25187,25176,24858,24862,25140,25141,25156,24853,25127,24819,25104,24852,25132,24940,25133,25222,25153,25105,25158,25134,24802,24875,25137,24822,24903,24791,24783,25162,25123,25196,25194,25184,24818,24865,24812,25130,24851,25186,25009,25161,25149,25159,25180,25174,25205,24839,24816,24779,24813,24796,24861,24739,25192,24790,25166,25171,25211,24782,25181,24828,24808,24787,24801,24866,24849,24805,25201,25177,24794,25150,24798,25218,24826,25206,25204,25224,25168,25178,24793,24768,25160,24756,24847,25209,25228,24821,25198,24814,25179,25188,24843,25202,24784,24761,25227,25139,25203,24804,25183,25131,24773,24831,24833,24792,25147,24780,24836,24846,24810,25245,25274,25200,25219,25163,25247,24844,25164,24799,25169,25252,24800,25243,25212,24758,24781,25197,25151,24825,24830,24806,24772,25221,24859,24730,25229,24767,24807,24754,24850,24765,25215,24803,24815,25234,24817,25239,25255,24777,24749,24764,25240,24857,24753,24827,24745,24766,24710,24762,24741,24771,25287,25268,25185,25225,25284,24719,25310,25236,24769,25182,24788,24886,25282,25210,24811,24786,25223,25231,24789,25257,24697,25199,24708,24775,24733,24824,24751,25216,24731,25207,25298,25214,25244,25226,24759,24752,25230,25288,24744,24700,25299,24705,25258,25217,25248,25307,25411,25271,25283,25318,25300,25272,25327,25332,24734,24634,24688,24651,24707,25393,24653,24763,25264,24797,24702,24737,25238,24736,24728,24687,24599,25279,25395,24724,25419,25235,25339,24732,25342,24722,25246,24757,25269,25232,24735,24755,25261,24726,25289,25291,25267,25340,24606,25250,24823,24717,25237,24747,25265,25294,25296,24785,25249,25266,24774,25263,24743,24738,25241,24649,25376,24704,24770,25233,25220,25290,25441,24778,24699],\"y\":[29,28,27,25,25,25,24,24,24,24,24,23,23,23,23,22,22,22,22,22,21,21,21,21,21,21,21,20,20,20,20,20,20,20,20,20,20,20,20,20,20,19,19,19,19,19,19,19,19,19,19,19,19,19,19,19,19,19,19,19,19,19,18,18,18,18,18,18,18,18,18,18,18,18,18,17,17,17,17,17,17,17,17,17,17,17,17,17,17,17,16,16,16,16,16,16,16,16,16,16,16,16,16,16,15,15,15,15,15,15,15,15,15,15,15,15,15,15,15,15,15,15,15,15,15,15,15,14,14,14,14,14,14,14,14,14,14,14,14,14,14,14,14,14,14,14,14,14,14,14,13,13,13,13,13,13,13,13,13,13,13,13,13,13,13,13,13,13,13,13,12,12,12,12,12,12,12,12,12,12,12,12,12,12,12,12,12,12,11,11,11,11,11,11,11,11,11,11,11,11,11,11,11,11,11,11,11,11,11,11,10,10,10,10,10,10,10,10,10,10,10,10,10,10,10,10,10,10,10,10,10,10,10,10,10,10,9,9,9,9,9,9,9,9,9,9,9,9,9,9,9,9,9,9,9,9,9,8,8,8,8,8,8,8,8,8,8,8,8,8,8,8,8,8,8,8,8,8,8,8,8,8,8,7,7,7,7,7,7,7,7,7,7,7,7,7,7,7,7,7,7,7,7,7,7,6,6,6,6,6,6,6,6,6,6,6,6,6,6,6,6,6,6,6,6,6,6,6,6,6,6,6,6,6,6,6,6,6,6,6,6,5,5,5,5,5,5,5,5,5,5,5,5,5,5,5,5,5,5,5,5,5,5,5,5,5,4,4,4,4,4,4,4,4,4,4,4,4,4,4,4,4,4,4,4,4,4,4,4,4,4,4,4,4,4,4,4,4,4,4,4,4,3,3,3,3,3,3,3,3,3,3,3,3,3,3,3,3,3,3,3,3,3,3,3,3,3,3,3,3,3,3,3,3,3,3,3,3,3,3,2,2,2,2,2,2,2,2,2,2,2,2,2,2,2,2,2,2,2,2,2,2,2,2,2,2,2,2,2,2,2,2,2,2,2,2,2,2,2,2,2,2,2,2,2,2,2,2,2,2,2,2,1,1,1,1,1,1,1,1,1,1,1,1,1,1,1,1,1,1,1,1,1,1,1,1,1,1,1,1,1,1,1,1,1,1,1,1,1,1,1,1,1,1,1,1,1,1,1,1,1,1,1,1,1,1,1,1,1,1,1,1,1,1,1,1,1,1,1,1,1,1,1,1,1,1,1,1,1,1,1,1,1],\"type\":\"bar\"}],                        {\"template\":{\"data\":{\"histogram2dcontour\":[{\"type\":\"histogram2dcontour\",\"colorbar\":{\"outlinewidth\":0,\"ticks\":\"\"},\"colorscale\":[[0.0,\"#0d0887\"],[0.1111111111111111,\"#46039f\"],[0.2222222222222222,\"#7201a8\"],[0.3333333333333333,\"#9c179e\"],[0.4444444444444444,\"#bd3786\"],[0.5555555555555556,\"#d8576b\"],[0.6666666666666666,\"#ed7953\"],[0.7777777777777778,\"#fb9f3a\"],[0.8888888888888888,\"#fdca26\"],[1.0,\"#f0f921\"]]}],\"choropleth\":[{\"type\":\"choropleth\",\"colorbar\":{\"outlinewidth\":0,\"ticks\":\"\"}}],\"histogram2d\":[{\"type\":\"histogram2d\",\"colorbar\":{\"outlinewidth\":0,\"ticks\":\"\"},\"colorscale\":[[0.0,\"#0d0887\"],[0.1111111111111111,\"#46039f\"],[0.2222222222222222,\"#7201a8\"],[0.3333333333333333,\"#9c179e\"],[0.4444444444444444,\"#bd3786\"],[0.5555555555555556,\"#d8576b\"],[0.6666666666666666,\"#ed7953\"],[0.7777777777777778,\"#fb9f3a\"],[0.8888888888888888,\"#fdca26\"],[1.0,\"#f0f921\"]]}],\"heatmap\":[{\"type\":\"heatmap\",\"colorbar\":{\"outlinewidth\":0,\"ticks\":\"\"},\"colorscale\":[[0.0,\"#0d0887\"],[0.1111111111111111,\"#46039f\"],[0.2222222222222222,\"#7201a8\"],[0.3333333333333333,\"#9c179e\"],[0.4444444444444444,\"#bd3786\"],[0.5555555555555556,\"#d8576b\"],[0.6666666666666666,\"#ed7953\"],[0.7777777777777778,\"#fb9f3a\"],[0.8888888888888888,\"#fdca26\"],[1.0,\"#f0f921\"]]}],\"heatmapgl\":[{\"type\":\"heatmapgl\",\"colorbar\":{\"outlinewidth\":0,\"ticks\":\"\"},\"colorscale\":[[0.0,\"#0d0887\"],[0.1111111111111111,\"#46039f\"],[0.2222222222222222,\"#7201a8\"],[0.3333333333333333,\"#9c179e\"],[0.4444444444444444,\"#bd3786\"],[0.5555555555555556,\"#d8576b\"],[0.6666666666666666,\"#ed7953\"],[0.7777777777777778,\"#fb9f3a\"],[0.8888888888888888,\"#fdca26\"],[1.0,\"#f0f921\"]]}],\"contourcarpet\":[{\"type\":\"contourcarpet\",\"colorbar\":{\"outlinewidth\":0,\"ticks\":\"\"}}],\"contour\":[{\"type\":\"contour\",\"colorbar\":{\"outlinewidth\":0,\"ticks\":\"\"},\"colorscale\":[[0.0,\"#0d0887\"],[0.1111111111111111,\"#46039f\"],[0.2222222222222222,\"#7201a8\"],[0.3333333333333333,\"#9c179e\"],[0.4444444444444444,\"#bd3786\"],[0.5555555555555556,\"#d8576b\"],[0.6666666666666666,\"#ed7953\"],[0.7777777777777778,\"#fb9f3a\"],[0.8888888888888888,\"#fdca26\"],[1.0,\"#f0f921\"]]}],\"surface\":[{\"type\":\"surface\",\"colorbar\":{\"outlinewidth\":0,\"ticks\":\"\"},\"colorscale\":[[0.0,\"#0d0887\"],[0.1111111111111111,\"#46039f\"],[0.2222222222222222,\"#7201a8\"],[0.3333333333333333,\"#9c179e\"],[0.4444444444444444,\"#bd3786\"],[0.5555555555555556,\"#d8576b\"],[0.6666666666666666,\"#ed7953\"],[0.7777777777777778,\"#fb9f3a\"],[0.8888888888888888,\"#fdca26\"],[1.0,\"#f0f921\"]]}],\"mesh3d\":[{\"type\":\"mesh3d\",\"colorbar\":{\"outlinewidth\":0,\"ticks\":\"\"}}],\"scatter\":[{\"fillpattern\":{\"fillmode\":\"overlay\",\"size\":10,\"solidity\":0.2},\"type\":\"scatter\"}],\"parcoords\":[{\"type\":\"parcoords\",\"line\":{\"colorbar\":{\"outlinewidth\":0,\"ticks\":\"\"}}}],\"scatterpolargl\":[{\"type\":\"scatterpolargl\",\"marker\":{\"colorbar\":{\"outlinewidth\":0,\"ticks\":\"\"}}}],\"bar\":[{\"error_x\":{\"color\":\"#2a3f5f\"},\"error_y\":{\"color\":\"#2a3f5f\"},\"marker\":{\"line\":{\"color\":\"#E5ECF6\",\"width\":0.5},\"pattern\":{\"fillmode\":\"overlay\",\"size\":10,\"solidity\":0.2}},\"type\":\"bar\"}],\"scattergeo\":[{\"type\":\"scattergeo\",\"marker\":{\"colorbar\":{\"outlinewidth\":0,\"ticks\":\"\"}}}],\"scatterpolar\":[{\"type\":\"scatterpolar\",\"marker\":{\"colorbar\":{\"outlinewidth\":0,\"ticks\":\"\"}}}],\"histogram\":[{\"marker\":{\"pattern\":{\"fillmode\":\"overlay\",\"size\":10,\"solidity\":0.2}},\"type\":\"histogram\"}],\"scattergl\":[{\"type\":\"scattergl\",\"marker\":{\"colorbar\":{\"outlinewidth\":0,\"ticks\":\"\"}}}],\"scatter3d\":[{\"type\":\"scatter3d\",\"line\":{\"colorbar\":{\"outlinewidth\":0,\"ticks\":\"\"}},\"marker\":{\"colorbar\":{\"outlinewidth\":0,\"ticks\":\"\"}}}],\"scattermapbox\":[{\"type\":\"scattermapbox\",\"marker\":{\"colorbar\":{\"outlinewidth\":0,\"ticks\":\"\"}}}],\"scatterternary\":[{\"type\":\"scatterternary\",\"marker\":{\"colorbar\":{\"outlinewidth\":0,\"ticks\":\"\"}}}],\"scattercarpet\":[{\"type\":\"scattercarpet\",\"marker\":{\"colorbar\":{\"outlinewidth\":0,\"ticks\":\"\"}}}],\"carpet\":[{\"aaxis\":{\"endlinecolor\":\"#2a3f5f\",\"gridcolor\":\"white\",\"linecolor\":\"white\",\"minorgridcolor\":\"white\",\"startlinecolor\":\"#2a3f5f\"},\"baxis\":{\"endlinecolor\":\"#2a3f5f\",\"gridcolor\":\"white\",\"linecolor\":\"white\",\"minorgridcolor\":\"white\",\"startlinecolor\":\"#2a3f5f\"},\"type\":\"carpet\"}],\"table\":[{\"cells\":{\"fill\":{\"color\":\"#EBF0F8\"},\"line\":{\"color\":\"white\"}},\"header\":{\"fill\":{\"color\":\"#C8D4E3\"},\"line\":{\"color\":\"white\"}},\"type\":\"table\"}],\"barpolar\":[{\"marker\":{\"line\":{\"color\":\"#E5ECF6\",\"width\":0.5},\"pattern\":{\"fillmode\":\"overlay\",\"size\":10,\"solidity\":0.2}},\"type\":\"barpolar\"}],\"pie\":[{\"automargin\":true,\"type\":\"pie\"}]},\"layout\":{\"autotypenumbers\":\"strict\",\"colorway\":[\"#636efa\",\"#EF553B\",\"#00cc96\",\"#ab63fa\",\"#FFA15A\",\"#19d3f3\",\"#FF6692\",\"#B6E880\",\"#FF97FF\",\"#FECB52\"],\"font\":{\"color\":\"#2a3f5f\"},\"hovermode\":\"closest\",\"hoverlabel\":{\"align\":\"left\"},\"paper_bgcolor\":\"white\",\"plot_bgcolor\":\"#E5ECF6\",\"polar\":{\"bgcolor\":\"#E5ECF6\",\"angularaxis\":{\"gridcolor\":\"white\",\"linecolor\":\"white\",\"ticks\":\"\"},\"radialaxis\":{\"gridcolor\":\"white\",\"linecolor\":\"white\",\"ticks\":\"\"}},\"ternary\":{\"bgcolor\":\"#E5ECF6\",\"aaxis\":{\"gridcolor\":\"white\",\"linecolor\":\"white\",\"ticks\":\"\"},\"baxis\":{\"gridcolor\":\"white\",\"linecolor\":\"white\",\"ticks\":\"\"},\"caxis\":{\"gridcolor\":\"white\",\"linecolor\":\"white\",\"ticks\":\"\"}},\"coloraxis\":{\"colorbar\":{\"outlinewidth\":0,\"ticks\":\"\"}},\"colorscale\":{\"sequential\":[[0.0,\"#0d0887\"],[0.1111111111111111,\"#46039f\"],[0.2222222222222222,\"#7201a8\"],[0.3333333333333333,\"#9c179e\"],[0.4444444444444444,\"#bd3786\"],[0.5555555555555556,\"#d8576b\"],[0.6666666666666666,\"#ed7953\"],[0.7777777777777778,\"#fb9f3a\"],[0.8888888888888888,\"#fdca26\"],[1.0,\"#f0f921\"]],\"sequentialminus\":[[0.0,\"#0d0887\"],[0.1111111111111111,\"#46039f\"],[0.2222222222222222,\"#7201a8\"],[0.3333333333333333,\"#9c179e\"],[0.4444444444444444,\"#bd3786\"],[0.5555555555555556,\"#d8576b\"],[0.6666666666666666,\"#ed7953\"],[0.7777777777777778,\"#fb9f3a\"],[0.8888888888888888,\"#fdca26\"],[1.0,\"#f0f921\"]],\"diverging\":[[0,\"#8e0152\"],[0.1,\"#c51b7d\"],[0.2,\"#de77ae\"],[0.3,\"#f1b6da\"],[0.4,\"#fde0ef\"],[0.5,\"#f7f7f7\"],[0.6,\"#e6f5d0\"],[0.7,\"#b8e186\"],[0.8,\"#7fbc41\"],[0.9,\"#4d9221\"],[1,\"#276419\"]]},\"xaxis\":{\"gridcolor\":\"white\",\"linecolor\":\"white\",\"ticks\":\"\",\"title\":{\"standoff\":15},\"zerolinecolor\":\"white\",\"automargin\":true,\"zerolinewidth\":2},\"yaxis\":{\"gridcolor\":\"white\",\"linecolor\":\"white\",\"ticks\":\"\",\"title\":{\"standoff\":15},\"zerolinecolor\":\"white\",\"automargin\":true,\"zerolinewidth\":2},\"scene\":{\"xaxis\":{\"backgroundcolor\":\"#E5ECF6\",\"gridcolor\":\"white\",\"linecolor\":\"white\",\"showbackground\":true,\"ticks\":\"\",\"zerolinecolor\":\"white\",\"gridwidth\":2},\"yaxis\":{\"backgroundcolor\":\"#E5ECF6\",\"gridcolor\":\"white\",\"linecolor\":\"white\",\"showbackground\":true,\"ticks\":\"\",\"zerolinecolor\":\"white\",\"gridwidth\":2},\"zaxis\":{\"backgroundcolor\":\"#E5ECF6\",\"gridcolor\":\"white\",\"linecolor\":\"white\",\"showbackground\":true,\"ticks\":\"\",\"zerolinecolor\":\"white\",\"gridwidth\":2}},\"shapedefaults\":{\"line\":{\"color\":\"#2a3f5f\"}},\"annotationdefaults\":{\"arrowcolor\":\"#2a3f5f\",\"arrowhead\":0,\"arrowwidth\":1},\"geo\":{\"bgcolor\":\"white\",\"landcolor\":\"#E5ECF6\",\"subunitcolor\":\"white\",\"showland\":true,\"showlakes\":true,\"lakecolor\":\"white\"},\"title\":{\"x\":0.05},\"mapbox\":{\"style\":\"light\"}}}},                        {\"responsive\": true}                    ).then(function(){\n",
              "                            \n",
              "var gd = document.getElementById('7cf90546-7a0d-42c2-be61-a6f8a1480afc');\n",
              "var x = new MutationObserver(function (mutations, observer) {{\n",
              "        var display = window.getComputedStyle(gd).display;\n",
              "        if (!display || display === 'none') {{\n",
              "            console.log([gd, 'removed!']);\n",
              "            Plotly.purge(gd);\n",
              "            observer.disconnect();\n",
              "        }}\n",
              "}});\n",
              "\n",
              "// Listen for the removal of the full notebook cells\n",
              "var notebookContainer = gd.closest('#notebook-container');\n",
              "if (notebookContainer) {{\n",
              "    x.observe(notebookContainer, {childList: true});\n",
              "}}\n",
              "\n",
              "// Listen for the clearing of the current output cell\n",
              "var outputEl = gd.closest('.output');\n",
              "if (outputEl) {{\n",
              "    x.observe(outputEl, {childList: true});\n",
              "}}\n",
              "\n",
              "                        })                };                            </script>        </div>\n",
              "</body>\n",
              "</html>"
            ]
          },
          "metadata": {}
        }
      ]
    },
    {
      "cell_type": "markdown",
      "metadata": {
        "id": "a_Vqj4AmVn7p"
      },
      "source": [
        "## How much to Sample\n",
        "\n",
        "It's hard to estimate the probability of real world events experimentally. Like what is the probability of rolling a dice and getting a 2. Well, it's 1/6, easy to see theoretically. Often it won't be, in which case we need to see from experiments what the answer is.\n",
        "\n",
        "We have the 1/6 theoretical result as a Red line. The probability of getting each number from 1 to 6 is shown, but the different colors represent the different number of experiments it was sampled from. Blue was estimated using 10 experiments, Red using 100, Green with a 1000, Purple with 10000, and Orange with 100000. You can see that as we get more samples, the correctness and the reliability of that correctness increases.\n",
        "\n",
        "You can also see, that if we took 100 samples, and we have a value far away from 1/6, taking more samples will take us back to 1/6 in time. This phenomenon is called **Regression to the Mean** and you can hear more about it in the following Veritasium videos."
      ]
    },
    {
      "cell_type": "code",
      "metadata": {
        "colab": {
          "base_uri": "https://localhost:8080/",
          "height": 542
        },
        "id": "UWwftztdOKvG",
        "outputId": "f0e41265-5b76-4908-84f6-61e713f34871"
      },
      "source": [
        "results = {shots: throw_dice(shots) for shots in [10, 100, 1000, 10000, 1000000]}\n",
        "fig = pg.Figure([pg.Bar(x=result.value_counts().keys(),\n",
        "                        y=result.value_counts().values / shots,)\n",
        "                    for shots, result in results.items()])\n",
        "fig.add_shape(type='line', x0=0.5, y0=1/6, x1=6.5, y1=1/6, line=dict(color='Red',))\n",
        "fig.show()"
      ],
      "execution_count": 10,
      "outputs": [
        {
          "output_type": "display_data",
          "data": {
            "text/html": [
              "<html>\n",
              "<head><meta charset=\"utf-8\" /></head>\n",
              "<body>\n",
              "    <div>            <script src=\"https://cdnjs.cloudflare.com/ajax/libs/mathjax/2.7.5/MathJax.js?config=TeX-AMS-MML_SVG\"></script><script type=\"text/javascript\">if (window.MathJax && window.MathJax.Hub && window.MathJax.Hub.Config) {window.MathJax.Hub.Config({SVG: {font: \"STIX-Web\"}});}</script>                <script type=\"text/javascript\">window.PlotlyConfig = {MathJaxConfig: 'local'};</script>\n",
              "        <script charset=\"utf-8\" src=\"https://cdn.plot.ly/plotly-2.24.1.min.js\"></script>                <div id=\"f083f3fa-eaeb-4e81-a73e-43c43ca1c97e\" class=\"plotly-graph-div\" style=\"height:525px; width:100%;\"></div>            <script type=\"text/javascript\">                                    window.PLOTLYENV=window.PLOTLYENV || {};                                    if (document.getElementById(\"f083f3fa-eaeb-4e81-a73e-43c43ca1c97e\")) {                    Plotly.newPlot(                        \"f083f3fa-eaeb-4e81-a73e-43c43ca1c97e\",                        [{\"x\":[2,6,1,5,4],\"y\":[0.4,0.2,0.2,0.1,0.1],\"type\":\"bar\"},{\"x\":[5,3,6,2,1,4],\"y\":[0.21,0.2,0.16,0.15,0.14,0.14],\"type\":\"bar\"},{\"x\":[1,4,2,5,3,6],\"y\":[0.198,0.181,0.168,0.152,0.152,0.149],\"type\":\"bar\"},{\"x\":[3,5,4,1,6,2],\"y\":[0.1738,0.1678,0.1657,0.165,0.1641,0.1636],\"type\":\"bar\"},{\"x\":[6,4,5,2,3,1],\"y\":[0.167093,0.166645,0.166644,0.166603,0.166515,0.1665],\"type\":\"bar\"}],                        {\"template\":{\"data\":{\"histogram2dcontour\":[{\"type\":\"histogram2dcontour\",\"colorbar\":{\"outlinewidth\":0,\"ticks\":\"\"},\"colorscale\":[[0.0,\"#0d0887\"],[0.1111111111111111,\"#46039f\"],[0.2222222222222222,\"#7201a8\"],[0.3333333333333333,\"#9c179e\"],[0.4444444444444444,\"#bd3786\"],[0.5555555555555556,\"#d8576b\"],[0.6666666666666666,\"#ed7953\"],[0.7777777777777778,\"#fb9f3a\"],[0.8888888888888888,\"#fdca26\"],[1.0,\"#f0f921\"]]}],\"choropleth\":[{\"type\":\"choropleth\",\"colorbar\":{\"outlinewidth\":0,\"ticks\":\"\"}}],\"histogram2d\":[{\"type\":\"histogram2d\",\"colorbar\":{\"outlinewidth\":0,\"ticks\":\"\"},\"colorscale\":[[0.0,\"#0d0887\"],[0.1111111111111111,\"#46039f\"],[0.2222222222222222,\"#7201a8\"],[0.3333333333333333,\"#9c179e\"],[0.4444444444444444,\"#bd3786\"],[0.5555555555555556,\"#d8576b\"],[0.6666666666666666,\"#ed7953\"],[0.7777777777777778,\"#fb9f3a\"],[0.8888888888888888,\"#fdca26\"],[1.0,\"#f0f921\"]]}],\"heatmap\":[{\"type\":\"heatmap\",\"colorbar\":{\"outlinewidth\":0,\"ticks\":\"\"},\"colorscale\":[[0.0,\"#0d0887\"],[0.1111111111111111,\"#46039f\"],[0.2222222222222222,\"#7201a8\"],[0.3333333333333333,\"#9c179e\"],[0.4444444444444444,\"#bd3786\"],[0.5555555555555556,\"#d8576b\"],[0.6666666666666666,\"#ed7953\"],[0.7777777777777778,\"#fb9f3a\"],[0.8888888888888888,\"#fdca26\"],[1.0,\"#f0f921\"]]}],\"heatmapgl\":[{\"type\":\"heatmapgl\",\"colorbar\":{\"outlinewidth\":0,\"ticks\":\"\"},\"colorscale\":[[0.0,\"#0d0887\"],[0.1111111111111111,\"#46039f\"],[0.2222222222222222,\"#7201a8\"],[0.3333333333333333,\"#9c179e\"],[0.4444444444444444,\"#bd3786\"],[0.5555555555555556,\"#d8576b\"],[0.6666666666666666,\"#ed7953\"],[0.7777777777777778,\"#fb9f3a\"],[0.8888888888888888,\"#fdca26\"],[1.0,\"#f0f921\"]]}],\"contourcarpet\":[{\"type\":\"contourcarpet\",\"colorbar\":{\"outlinewidth\":0,\"ticks\":\"\"}}],\"contour\":[{\"type\":\"contour\",\"colorbar\":{\"outlinewidth\":0,\"ticks\":\"\"},\"colorscale\":[[0.0,\"#0d0887\"],[0.1111111111111111,\"#46039f\"],[0.2222222222222222,\"#7201a8\"],[0.3333333333333333,\"#9c179e\"],[0.4444444444444444,\"#bd3786\"],[0.5555555555555556,\"#d8576b\"],[0.6666666666666666,\"#ed7953\"],[0.7777777777777778,\"#fb9f3a\"],[0.8888888888888888,\"#fdca26\"],[1.0,\"#f0f921\"]]}],\"surface\":[{\"type\":\"surface\",\"colorbar\":{\"outlinewidth\":0,\"ticks\":\"\"},\"colorscale\":[[0.0,\"#0d0887\"],[0.1111111111111111,\"#46039f\"],[0.2222222222222222,\"#7201a8\"],[0.3333333333333333,\"#9c179e\"],[0.4444444444444444,\"#bd3786\"],[0.5555555555555556,\"#d8576b\"],[0.6666666666666666,\"#ed7953\"],[0.7777777777777778,\"#fb9f3a\"],[0.8888888888888888,\"#fdca26\"],[1.0,\"#f0f921\"]]}],\"mesh3d\":[{\"type\":\"mesh3d\",\"colorbar\":{\"outlinewidth\":0,\"ticks\":\"\"}}],\"scatter\":[{\"fillpattern\":{\"fillmode\":\"overlay\",\"size\":10,\"solidity\":0.2},\"type\":\"scatter\"}],\"parcoords\":[{\"type\":\"parcoords\",\"line\":{\"colorbar\":{\"outlinewidth\":0,\"ticks\":\"\"}}}],\"scatterpolargl\":[{\"type\":\"scatterpolargl\",\"marker\":{\"colorbar\":{\"outlinewidth\":0,\"ticks\":\"\"}}}],\"bar\":[{\"error_x\":{\"color\":\"#2a3f5f\"},\"error_y\":{\"color\":\"#2a3f5f\"},\"marker\":{\"line\":{\"color\":\"#E5ECF6\",\"width\":0.5},\"pattern\":{\"fillmode\":\"overlay\",\"size\":10,\"solidity\":0.2}},\"type\":\"bar\"}],\"scattergeo\":[{\"type\":\"scattergeo\",\"marker\":{\"colorbar\":{\"outlinewidth\":0,\"ticks\":\"\"}}}],\"scatterpolar\":[{\"type\":\"scatterpolar\",\"marker\":{\"colorbar\":{\"outlinewidth\":0,\"ticks\":\"\"}}}],\"histogram\":[{\"marker\":{\"pattern\":{\"fillmode\":\"overlay\",\"size\":10,\"solidity\":0.2}},\"type\":\"histogram\"}],\"scattergl\":[{\"type\":\"scattergl\",\"marker\":{\"colorbar\":{\"outlinewidth\":0,\"ticks\":\"\"}}}],\"scatter3d\":[{\"type\":\"scatter3d\",\"line\":{\"colorbar\":{\"outlinewidth\":0,\"ticks\":\"\"}},\"marker\":{\"colorbar\":{\"outlinewidth\":0,\"ticks\":\"\"}}}],\"scattermapbox\":[{\"type\":\"scattermapbox\",\"marker\":{\"colorbar\":{\"outlinewidth\":0,\"ticks\":\"\"}}}],\"scatterternary\":[{\"type\":\"scatterternary\",\"marker\":{\"colorbar\":{\"outlinewidth\":0,\"ticks\":\"\"}}}],\"scattercarpet\":[{\"type\":\"scattercarpet\",\"marker\":{\"colorbar\":{\"outlinewidth\":0,\"ticks\":\"\"}}}],\"carpet\":[{\"aaxis\":{\"endlinecolor\":\"#2a3f5f\",\"gridcolor\":\"white\",\"linecolor\":\"white\",\"minorgridcolor\":\"white\",\"startlinecolor\":\"#2a3f5f\"},\"baxis\":{\"endlinecolor\":\"#2a3f5f\",\"gridcolor\":\"white\",\"linecolor\":\"white\",\"minorgridcolor\":\"white\",\"startlinecolor\":\"#2a3f5f\"},\"type\":\"carpet\"}],\"table\":[{\"cells\":{\"fill\":{\"color\":\"#EBF0F8\"},\"line\":{\"color\":\"white\"}},\"header\":{\"fill\":{\"color\":\"#C8D4E3\"},\"line\":{\"color\":\"white\"}},\"type\":\"table\"}],\"barpolar\":[{\"marker\":{\"line\":{\"color\":\"#E5ECF6\",\"width\":0.5},\"pattern\":{\"fillmode\":\"overlay\",\"size\":10,\"solidity\":0.2}},\"type\":\"barpolar\"}],\"pie\":[{\"automargin\":true,\"type\":\"pie\"}]},\"layout\":{\"autotypenumbers\":\"strict\",\"colorway\":[\"#636efa\",\"#EF553B\",\"#00cc96\",\"#ab63fa\",\"#FFA15A\",\"#19d3f3\",\"#FF6692\",\"#B6E880\",\"#FF97FF\",\"#FECB52\"],\"font\":{\"color\":\"#2a3f5f\"},\"hovermode\":\"closest\",\"hoverlabel\":{\"align\":\"left\"},\"paper_bgcolor\":\"white\",\"plot_bgcolor\":\"#E5ECF6\",\"polar\":{\"bgcolor\":\"#E5ECF6\",\"angularaxis\":{\"gridcolor\":\"white\",\"linecolor\":\"white\",\"ticks\":\"\"},\"radialaxis\":{\"gridcolor\":\"white\",\"linecolor\":\"white\",\"ticks\":\"\"}},\"ternary\":{\"bgcolor\":\"#E5ECF6\",\"aaxis\":{\"gridcolor\":\"white\",\"linecolor\":\"white\",\"ticks\":\"\"},\"baxis\":{\"gridcolor\":\"white\",\"linecolor\":\"white\",\"ticks\":\"\"},\"caxis\":{\"gridcolor\":\"white\",\"linecolor\":\"white\",\"ticks\":\"\"}},\"coloraxis\":{\"colorbar\":{\"outlinewidth\":0,\"ticks\":\"\"}},\"colorscale\":{\"sequential\":[[0.0,\"#0d0887\"],[0.1111111111111111,\"#46039f\"],[0.2222222222222222,\"#7201a8\"],[0.3333333333333333,\"#9c179e\"],[0.4444444444444444,\"#bd3786\"],[0.5555555555555556,\"#d8576b\"],[0.6666666666666666,\"#ed7953\"],[0.7777777777777778,\"#fb9f3a\"],[0.8888888888888888,\"#fdca26\"],[1.0,\"#f0f921\"]],\"sequentialminus\":[[0.0,\"#0d0887\"],[0.1111111111111111,\"#46039f\"],[0.2222222222222222,\"#7201a8\"],[0.3333333333333333,\"#9c179e\"],[0.4444444444444444,\"#bd3786\"],[0.5555555555555556,\"#d8576b\"],[0.6666666666666666,\"#ed7953\"],[0.7777777777777778,\"#fb9f3a\"],[0.8888888888888888,\"#fdca26\"],[1.0,\"#f0f921\"]],\"diverging\":[[0,\"#8e0152\"],[0.1,\"#c51b7d\"],[0.2,\"#de77ae\"],[0.3,\"#f1b6da\"],[0.4,\"#fde0ef\"],[0.5,\"#f7f7f7\"],[0.6,\"#e6f5d0\"],[0.7,\"#b8e186\"],[0.8,\"#7fbc41\"],[0.9,\"#4d9221\"],[1,\"#276419\"]]},\"xaxis\":{\"gridcolor\":\"white\",\"linecolor\":\"white\",\"ticks\":\"\",\"title\":{\"standoff\":15},\"zerolinecolor\":\"white\",\"automargin\":true,\"zerolinewidth\":2},\"yaxis\":{\"gridcolor\":\"white\",\"linecolor\":\"white\",\"ticks\":\"\",\"title\":{\"standoff\":15},\"zerolinecolor\":\"white\",\"automargin\":true,\"zerolinewidth\":2},\"scene\":{\"xaxis\":{\"backgroundcolor\":\"#E5ECF6\",\"gridcolor\":\"white\",\"linecolor\":\"white\",\"showbackground\":true,\"ticks\":\"\",\"zerolinecolor\":\"white\",\"gridwidth\":2},\"yaxis\":{\"backgroundcolor\":\"#E5ECF6\",\"gridcolor\":\"white\",\"linecolor\":\"white\",\"showbackground\":true,\"ticks\":\"\",\"zerolinecolor\":\"white\",\"gridwidth\":2},\"zaxis\":{\"backgroundcolor\":\"#E5ECF6\",\"gridcolor\":\"white\",\"linecolor\":\"white\",\"showbackground\":true,\"ticks\":\"\",\"zerolinecolor\":\"white\",\"gridwidth\":2}},\"shapedefaults\":{\"line\":{\"color\":\"#2a3f5f\"}},\"annotationdefaults\":{\"arrowcolor\":\"#2a3f5f\",\"arrowhead\":0,\"arrowwidth\":1},\"geo\":{\"bgcolor\":\"white\",\"landcolor\":\"#E5ECF6\",\"subunitcolor\":\"white\",\"showland\":true,\"showlakes\":true,\"lakecolor\":\"white\"},\"title\":{\"x\":0.05},\"mapbox\":{\"style\":\"light\"}}},\"shapes\":[{\"line\":{\"color\":\"Red\"},\"type\":\"line\",\"x0\":0.5,\"x1\":6.5,\"y0\":0.16666666666666666,\"y1\":0.16666666666666666}]},                        {\"responsive\": true}                    ).then(function(){\n",
              "                            \n",
              "var gd = document.getElementById('f083f3fa-eaeb-4e81-a73e-43c43ca1c97e');\n",
              "var x = new MutationObserver(function (mutations, observer) {{\n",
              "        var display = window.getComputedStyle(gd).display;\n",
              "        if (!display || display === 'none') {{\n",
              "            console.log([gd, 'removed!']);\n",
              "            Plotly.purge(gd);\n",
              "            observer.disconnect();\n",
              "        }}\n",
              "}});\n",
              "\n",
              "// Listen for the removal of the full notebook cells\n",
              "var notebookContainer = gd.closest('#notebook-container');\n",
              "if (notebookContainer) {{\n",
              "    x.observe(notebookContainer, {childList: true});\n",
              "}}\n",
              "\n",
              "// Listen for the clearing of the current output cell\n",
              "var outputEl = gd.closest('.output');\n",
              "if (outputEl) {{\n",
              "    x.observe(outputEl, {childList: true});\n",
              "}}\n",
              "\n",
              "                        })                };                            </script>        </div>\n",
              "</body>\n",
              "</html>"
            ]
          },
          "metadata": {}
        }
      ]
    },
    {
      "cell_type": "markdown",
      "metadata": {
        "id": "PvTblH7Eq1lU"
      },
      "source": [
        "## Traps of Statistics in the Real world\n",
        "\n",
        "Vertiasium and 3Blue1Brown are some of the best instructors in taking phenomena in the real world and taking them apart in the language of mathematics, analyzing how good and correct are the solutions we pose to them. Following couple of videos are excellent demonstrators of how we apply probability in the real world, and how the entire world might often misapply it, or atleast misinterpret or partially interpret what the math is saying. Do take a look.\n",
        "\n",
        "* Veritasium: Is most published research wrong? https://youtu.be/42QuXLucH3Q\n",
        "* Veritasium: How we're fooled by statistics https://youtu.be/1tSqSMOyNFE"
      ]
    },
    {
      "cell_type": "markdown",
      "metadata": {
        "id": "p1argNIRrCRI"
      },
      "source": [
        "## Try to solve for these\n",
        "\n",
        "1. If you have a shuffled deck of 52 cards, there are 4 aces, 4 kings, 4 queeens, 4 jacks, and 4 of each numbered card from 2 to 10. What is the probability that if you draw a card at random it will be a numbered card.\n",
        "\n",
        "2. In the same setup as above, you take on card out and look at it, put it back into the deck and shuffle it. Now you pull another card output. What is the probability that both the cards you pulled out are numbered cards.\n",
        "\n",
        "3. Same Problem as above, but now when you pull out one card, you throw it out and do not put it back into the deck. Find the probability now that they are both numbered cards that you drew.\n",
        "\n",
        "4. Now the deck of card is not shuffled. All the cards are in sorted order, first all the cards from Ace to King of Spades, then Hearts, then Diamonds and then Clubs. You are asked to cut the deck (break it into 2 parts, i.e. pick some cards from the top) at a random location. What is the probability that the bottom card of your cut is an numbered cards card."
      ]
    },
    {
      "cell_type": "code",
      "source": [
        "from fractions import Fraction\n",
        "total_cards = 52\n",
        "numbered_cards = 36"
      ],
      "metadata": {
        "id": "352w1C7YJxsG"
      },
      "execution_count": 16,
      "outputs": []
    },
    {
      "cell_type": "markdown",
      "source": [
        "1. If you have a shuffled deck of 52 cards, there are 4 aces, 4 kings, 4 queeens, 4 jacks, and 4 of each numbered card from 2 to 10. What is the probability that if you draw a card at random it will be a numbered card."
      ],
      "metadata": {
        "id": "MIf8aNXbKs1s"
      }
    },
    {
      "cell_type": "code",
      "source": [
        "numbered_card = Fraction(numbered_cards, total_cards)\n",
        "print(f\"Probability of drawing a numbered card: {numbered_card}\")"
      ],
      "metadata": {
        "colab": {
          "base_uri": "https://localhost:8080/"
        },
        "id": "5SHHMjcgJ4tO",
        "outputId": "d19e20a0-d755-4687-c0ab-d4d8df5a200e"
      },
      "execution_count": 21,
      "outputs": [
        {
          "output_type": "stream",
          "name": "stdout",
          "text": [
            "Probability of drawing a numbered card: 9/13\n"
          ]
        }
      ]
    },
    {
      "cell_type": "markdown",
      "source": [
        "2. In the same setup as above, you take on card out and look at it, put it back into the deck and shuffle it. Now you pull another card output. What is the probability that both the cards you pulled out are numbered cards."
      ],
      "metadata": {
        "id": "xZzuegYZK81S"
      }
    },
    {
      "cell_type": "code",
      "source": [
        "two_numbered_with_replacement = numbered_card * numbered_card\n",
        "print(f\"Probability of drawing two numbered cards with replacement: {two_numbered_with_replacement}\")"
      ],
      "metadata": {
        "colab": {
          "base_uri": "https://localhost:8080/"
        },
        "id": "bRvuD9jvKj9J",
        "outputId": "a524207d-a57a-4ba5-b1f5-133f18782e27"
      },
      "execution_count": 22,
      "outputs": [
        {
          "output_type": "stream",
          "name": "stdout",
          "text": [
            "Probability of drawing two numbered cards with replacement: 81/169\n"
          ]
        }
      ]
    },
    {
      "cell_type": "markdown",
      "source": [
        "3. Same Problem as above, but now when you pull out one card, you throw it out and do not put it back into the deck. Find the probability now that they are both numbered cards that you drew."
      ],
      "metadata": {
        "id": "XhBwUH7MK-Hx"
      }
    },
    {
      "cell_type": "code",
      "source": [
        "first_numbered = numbered_card\n",
        "print(first_numbered)\n",
        "second_numbered_given_first_numbered = Fraction(numbered_cards - 1, total_cards - 1)\n",
        "print(second_numbered_given_first_numbered)\n",
        "two_numbered_without_replacement = first_numbered * second_numbered_given_first_numbered\n",
        "print(f\"Probability of drawing two numbered cards without replacement: {two_numbered_without_replacement}\")"
      ],
      "metadata": {
        "colab": {
          "base_uri": "https://localhost:8080/"
        },
        "id": "WjACq1jULDlQ",
        "outputId": "867a6dcf-d10f-4680-9f51-236cd6115671"
      },
      "execution_count": 27,
      "outputs": [
        {
          "output_type": "stream",
          "name": "stdout",
          "text": [
            "9/13\n",
            "35/51\n",
            "Probability of drawing two numbered cards without replacement: 105/221\n"
          ]
        }
      ]
    },
    {
      "cell_type": "markdown",
      "source": [
        "4. Now the deck of card is not shuffled. All the cards are in sorted order, first all the cards from Ace to King of Spades, then Hearts, then Diamonds and then Clubs. You are asked to cut the deck (break it into 2 parts, i.e. pick some cards from the top) at a random location. What is the probability that the bottom card of your cut is an numbered cards card."
      ],
      "metadata": {
        "id": "ZBCtOIp1MiLv"
      }
    },
    {
      "cell_type": "code",
      "source": [
        "cut_numbered_card = numbered_card\n",
        "print(f\"Probability that the bottom card of your cut is a numbered card: {cut_numbered_card}\")"
      ],
      "metadata": {
        "colab": {
          "base_uri": "https://localhost:8080/"
        },
        "id": "1TtOvMx5MfZx",
        "outputId": "0b011859-0fb7-4e37-b4f8-741bc47d12c9"
      },
      "execution_count": 29,
      "outputs": [
        {
          "output_type": "stream",
          "name": "stdout",
          "text": [
            "Probability that the bottom card of your cut is a numbered card: 9/13\n"
          ]
        }
      ]
    },
    {
      "cell_type": "markdown",
      "metadata": {
        "id": "5qSYbW6n3hfC"
      },
      "source": [
        "## Fundamentals of Probability\n",
        "\n",
        "For your reference, the rules of probability are reproduced as follows:\n",
        "1. The probability of an event A is between 0 and 1 (inclusive): $0 \\leq p(A)\\leq 1$\n",
        "2. The sum of the probability of all possible events (the *sample space*) is 1. $\\Sigma^n_{i=0} p(A_i)=1$\n",
        "3. The sum of the probability of an event and its complement is 1. $p(A^C)+p(A) = 1$\n",
        "4. (Addition Rule) The probability of event A *or* event B happening is equal to the sum of the probabilities of event A and event B happening respectively, *less* the probability of event A **and** event B. $p(A \\cup B)= p(A) + p(B) - p(AB)$\n",
        "5. (Multiplicative Rule) If events A and B are independent, then the probability of event A and B jointly occuring is the product of the probabilities of events A and B respectively. $p(AB) = p(A)p(B)$\n",
        "\n",
        "<div class=\"alert alert-info\">\n",
        "📝 <b>Note:</b> Events A and B are independent if the occurence of event A doesn't change the likelihood of Event B occuring. Do not confuse this with <b>mutually exclusive</b> events. If events A and B are mutually exclusive (disjoint), they cannot both happen.\n",
        "</div>"
      ]
    },
    {
      "cell_type": "markdown",
      "metadata": {
        "id": "l69hJ5KiYiBo"
      },
      "source": [
        "# What is Expectation?"
      ]
    },
    {
      "cell_type": "markdown",
      "metadata": {
        "id": "3-D7OFb2Yr7P"
      },
      "source": [
        "In any set of possible events, we can compute the probability of each of those events. We saw that all events can happen with probability of 1/6. Or sometimes, you can have one event with probability 1/6 and another with 5/6.\n",
        "\n",
        "Now what if each of these outcomes was associated with a quantity. For eg. if you toss a coin and it's heads, you get Rs. 5. If it's tails, you lose Rs. 2. Will you play this game the coin is fair?\n",
        "\n",
        "Of course you will. Because you feel that on average you will get $\\frac{5 - 2}{2} = 1.5$ rupees as your winnings per round.\n",
        "\n",
        "But what if the coin is biased. It comes heads $\\frac{1}{6}$ of the time and $\\frac{5}{6}$ of the time it's tails. Now you might not be sure, so let's try to take the weighted average.\n",
        "\n",
        "$$E = \\frac{1}{6} \\times 5 - \\frac{5}{6} 2 = \\frac{5 - 10}{6} = -\\frac{5}{6}$$, so you are losing slightly less than a rupee every round, not a favorable game to play. This value, the weighted sum of the \"value\" of each outcome is called the expectation. Mathematically:\n",
        "\n",
        "$$E = \\sum_{i \\in S} P_i V_i$$\n",
        "\n",
        "Where S is the sample space, $P_i$ is the probability of the sample, and $V_i$ is the value associated with the sample. $i$ is each possible sample in the sample space."
      ]
    },
    {
      "cell_type": "markdown",
      "metadata": {
        "id": "TpEnGw-RaKhP"
      },
      "source": [
        "## Simulating to compute Expectation\n",
        "\n",
        "Let's test your basic coding skills:\n",
        "\n",
        "> You have a suffled deck of 52 cards, 4 of which are aces. You are to draw cards one by one and throw them out. As soon as you see an ace you stop. How many non-ace cards did you throw out?\n",
        "\n",
        "Whether or not you can solve this mathematically, try computing this numerically, that is by simulation in code.\n",
        "\n",
        "**Do not look at the solution given below.**\n"
      ]
    },
    {
      "cell_type": "code",
      "source": [
        "import numpy as np\n",
        "import random\n",
        "\n",
        "def number_of_numbered_cards_drawn_before_ace(trials=10000, show_trials=20):\n",
        "    values = ['A', '2', '3', '4', '5', '6', '7', '8', '9', '10', 'J', 'Q', 'K']\n",
        "    suits = ['H', 'D', 'C', 'S']\n",
        "\n",
        "    deck_of_cards = [value + suit for value in values for suit in suits]\n",
        "\n",
        "    cards_thrown_counts = []\n",
        "\n",
        "    for trial in range(trials):\n",
        "        random.shuffle(deck_of_cards)\n",
        "\n",
        "        cards_thrown = 0\n",
        "        for card in deck_of_cards:\n",
        "            if card[0] == 'A':\n",
        "                break\n",
        "            cards_thrown += 1\n",
        "\n",
        "        if trial < show_trials:\n",
        "            drawn_cards = ' '.join(deck_of_cards[:cards_thrown + 1])\n",
        "            print(f'{cards_thrown} cards were thrown before drawing an ace: {drawn_cards}')\n",
        "\n",
        "        cards_thrown_counts.append(cards_thrown)\n",
        "\n",
        "    return np.mean(cards_thrown_counts), cards_thrown_counts\n",
        "\n",
        "expected_cards_thrown, cards_thrown_counts = number_of_numbered_cards_drawn_before_ace(10000)\n",
        "print(f'\\n{expected_cards_thrown:.2f} cards are thrown before we see the first ace on average!')\n"
      ],
      "metadata": {
        "colab": {
          "base_uri": "https://localhost:8080/"
        },
        "id": "RhBJkWsPNQ6M",
        "outputId": "7f79a153-23c9-462a-fee0-5f37a23cf0a7"
      },
      "execution_count": 31,
      "outputs": [
        {
          "output_type": "stream",
          "name": "stdout",
          "text": [
            "0 cards were thrown before drawing an ace: AS\n",
            "0 cards were thrown before drawing an ace: AS\n",
            "14 cards were thrown before drawing an ace: 6D 9C 2S JS 2D 7C 5H JH 6S 3C KS 9H 7H JD AH\n",
            "1 cards were thrown before drawing an ace: 2S AD\n",
            "4 cards were thrown before drawing an ace: JH 3D 10D 6C AD\n",
            "7 cards were thrown before drawing an ace: 2C 2H QS QD 9S 4H 10S AC\n",
            "2 cards were thrown before drawing an ace: KD 8H AS\n",
            "5 cards were thrown before drawing an ace: 10C JC 9S QH 3H AH\n",
            "4 cards were thrown before drawing an ace: QC 10S JC 2C AD\n",
            "7 cards were thrown before drawing an ace: 8C 9H 4S KS 10H QD 3C AS\n",
            "8 cards were thrown before drawing an ace: 4H 4D 9D JC QC 9H 10D 7C AD\n",
            "6 cards were thrown before drawing an ace: 3H QS 3D 10D 7H 8C AS\n",
            "21 cards were thrown before drawing an ace: 2C 4H KD JH 3S 3C JD 8H 5C 2D JS JC 4S 9D 8S QD 9S 10D 7H 6S 6H AH\n",
            "4 cards were thrown before drawing an ace: 7H JC 10C 8C AH\n",
            "10 cards were thrown before drawing an ace: 3H JD 8H KC 8S 6C 4S 7D 6D 8C AS\n",
            "4 cards were thrown before drawing an ace: 8C JH KH 3S AC\n",
            "8 cards were thrown before drawing an ace: 3C 5D 2C 3D 4H 9H 2S 5H AD\n",
            "37 cards were thrown before drawing an ace: 2D KH 3C 10D 10C 3S 2H 7D 9S 4H 2S 6C 2C 3D 7H KS 7S QD 6S KD 6H JH QH 4D 7C JS 5S 5H 5C 4S 3H 9H JC QC KC 8C 8D AC\n",
            "14 cards were thrown before drawing an ace: QS 6S 9D 4C 5H JH 2D KC JS JD 4S QC 7C 2S AS\n",
            "1 cards were thrown before drawing an ace: 4D AD\n",
            "\n",
            "9.51 cards are thrown before we see the first ace on average!\n"
          ]
        }
      ]
    },
    {
      "cell_type": "code",
      "metadata": {
        "colab": {
          "base_uri": "https://localhost:8080/"
        },
        "id": "kefyYq44US6f",
        "outputId": "9030501a-cbd5-442f-f2a0-bd4266abcbc3"
      },
      "source": [
        "def number_of_numbered_cards_drawn_before_ace(trials=100, show_trials=10):\n",
        "    values = ['A', '2', '3', '4', '5', '6', '7', '8', '9', '10', 'J', 'Q', 'K']\n",
        "    ranks = ['H', 'D', 'C', 'S']\n",
        "\n",
        "    cards_thrown_counts = []\n",
        "    for experiment in range(trials):\n",
        "        deck_of_cards = [value + rank for value in values for rank in ranks]\n",
        "        cards_thrown = 0\n",
        "        cards_pile = []\n",
        "        while len(deck_of_cards) > 0:\n",
        "            picked_card = np.random.choice(deck_of_cards)\n",
        "            cards_pile.append(picked_card)\n",
        "            if picked_card[0] == 'A':\n",
        "                break\n",
        "            cards_thrown += 1\n",
        "            deck_of_cards.remove(picked_card)\n",
        "        if experiment < show_trials:\n",
        "            print(cards_thrown, 'cards were thrown:', ' '.join(cards_pile))\n",
        "        cards_thrown_counts.append(cards_thrown)\n",
        "\n",
        "    return np.mean(cards_thrown_counts), cards_thrown_counts\n",
        "\n",
        "expected_cards_thrown, cards_thrown_counts = number_of_numbered_cards_drawn_before_ace(10000)\n",
        "print(f'\\n{expected_cards_thrown} cards are tossed before we see the first ace!')"
      ],
      "execution_count": 11,
      "outputs": [
        {
          "output_type": "stream",
          "name": "stdout",
          "text": [
            "12 cards were thrown: 7H 4H 5C QC 5D 2S 8C 3C 4D 10C QS QD AS\n",
            "21 cards were thrown: KH QC 2D 7S 4S 9C 10C 8D KD JH 2H JC 3C QH 6S JD 3H 10H 4C 8H 6D AH\n",
            "6 cards were thrown: 7C 9C 5D 6C 4D JH AS\n",
            "11 cards were thrown: 2H 5H 2C 3S QS 9S QH 7H 7C 5S KC AC\n",
            "8 cards were thrown: 7S 10C 2H 3C 6H 5C 6C 6D AH\n",
            "3 cards were thrown: KC 8D JH AC\n",
            "30 cards were thrown: 9H 8H QH 6C 4S 6S 4H 6H 8D QD 9S 10H JC 5S 9C 2C 7D KH 4D 4C 5D 5C 6D QS KC KS JH 7H 3H JS AD\n",
            "15 cards were thrown: 9D 7S 4H 5S 7H 10C 2D 10D 2H 6D 3H KS JD 4S JC AD\n",
            "6 cards were thrown: KS 4S 8H KC 5S KH AH\n",
            "18 cards were thrown: 5H 8S JD QH 5D 3D 9D KD 7H 6D 7S QD 8D 9H 4D 2D 10S 10H AC\n",
            "\n",
            "9.6514 cards are tossed before we see the first ace!\n"
          ]
        }
      ]
    },
    {
      "cell_type": "markdown",
      "metadata": {
        "id": "5PVy5IwRj_Vs"
      },
      "source": [
        "## Visualize the Underlying Probability Mass Function"
      ]
    },
    {
      "cell_type": "markdown",
      "metadata": {
        "id": "Tgp8NMf_dbsI"
      },
      "source": [
        "If you guess mathematically, you will guess that almost 1/13 cards are aces, so about 12 can be met on average before you see your first ace. And you won't be totally wrong.\n",
        "\n",
        "Of course the percentage of aces increases as you keep throwing away the cards, so the actual expectation is not that.\n",
        "\n",
        "Let's see the probability distribution for it!"
      ]
    },
    {
      "cell_type": "code",
      "metadata": {
        "colab": {
          "base_uri": "https://localhost:8080/",
          "height": 542
        },
        "id": "K1tK6czZixdv",
        "outputId": "f97b275e-bde9-43a9-c94d-731e615ad08b"
      },
      "source": [
        "results = pd.Series(cards_thrown_counts)\n",
        "fig = pg.Figure([pg.Bar(x=results.value_counts().keys(),\n",
        "                        y=results.value_counts().values)])\n",
        "fig.show()"
      ],
      "execution_count": 12,
      "outputs": [
        {
          "output_type": "display_data",
          "data": {
            "text/html": [
              "<html>\n",
              "<head><meta charset=\"utf-8\" /></head>\n",
              "<body>\n",
              "    <div>            <script src=\"https://cdnjs.cloudflare.com/ajax/libs/mathjax/2.7.5/MathJax.js?config=TeX-AMS-MML_SVG\"></script><script type=\"text/javascript\">if (window.MathJax && window.MathJax.Hub && window.MathJax.Hub.Config) {window.MathJax.Hub.Config({SVG: {font: \"STIX-Web\"}});}</script>                <script type=\"text/javascript\">window.PlotlyConfig = {MathJaxConfig: 'local'};</script>\n",
              "        <script charset=\"utf-8\" src=\"https://cdn.plot.ly/plotly-2.24.1.min.js\"></script>                <div id=\"1eb90695-a128-4b44-81b4-1155efcc09a2\" class=\"plotly-graph-div\" style=\"height:525px; width:100%;\"></div>            <script type=\"text/javascript\">                                    window.PLOTLYENV=window.PLOTLYENV || {};                                    if (document.getElementById(\"1eb90695-a128-4b44-81b4-1155efcc09a2\")) {                    Plotly.newPlot(                        \"1eb90695-a128-4b44-81b4-1155efcc09a2\",                        [{\"x\":[0,1,2,3,4,6,5,7,8,9,11,10,12,13,14,15,16,17,18,19,20,21,22,23,25,26,24,27,28,29,31,30,32,33,36,35,38,37,34,39,40,41,42,43,45],\"y\":[756,747,685,631,559,541,535,464,431,423,402,390,352,328,288,266,262,232,202,185,177,153,135,113,105,96,84,76,61,57,51,49,34,24,19,18,15,15,14,9,8,4,2,1,1],\"type\":\"bar\"}],                        {\"template\":{\"data\":{\"histogram2dcontour\":[{\"type\":\"histogram2dcontour\",\"colorbar\":{\"outlinewidth\":0,\"ticks\":\"\"},\"colorscale\":[[0.0,\"#0d0887\"],[0.1111111111111111,\"#46039f\"],[0.2222222222222222,\"#7201a8\"],[0.3333333333333333,\"#9c179e\"],[0.4444444444444444,\"#bd3786\"],[0.5555555555555556,\"#d8576b\"],[0.6666666666666666,\"#ed7953\"],[0.7777777777777778,\"#fb9f3a\"],[0.8888888888888888,\"#fdca26\"],[1.0,\"#f0f921\"]]}],\"choropleth\":[{\"type\":\"choropleth\",\"colorbar\":{\"outlinewidth\":0,\"ticks\":\"\"}}],\"histogram2d\":[{\"type\":\"histogram2d\",\"colorbar\":{\"outlinewidth\":0,\"ticks\":\"\"},\"colorscale\":[[0.0,\"#0d0887\"],[0.1111111111111111,\"#46039f\"],[0.2222222222222222,\"#7201a8\"],[0.3333333333333333,\"#9c179e\"],[0.4444444444444444,\"#bd3786\"],[0.5555555555555556,\"#d8576b\"],[0.6666666666666666,\"#ed7953\"],[0.7777777777777778,\"#fb9f3a\"],[0.8888888888888888,\"#fdca26\"],[1.0,\"#f0f921\"]]}],\"heatmap\":[{\"type\":\"heatmap\",\"colorbar\":{\"outlinewidth\":0,\"ticks\":\"\"},\"colorscale\":[[0.0,\"#0d0887\"],[0.1111111111111111,\"#46039f\"],[0.2222222222222222,\"#7201a8\"],[0.3333333333333333,\"#9c179e\"],[0.4444444444444444,\"#bd3786\"],[0.5555555555555556,\"#d8576b\"],[0.6666666666666666,\"#ed7953\"],[0.7777777777777778,\"#fb9f3a\"],[0.8888888888888888,\"#fdca26\"],[1.0,\"#f0f921\"]]}],\"heatmapgl\":[{\"type\":\"heatmapgl\",\"colorbar\":{\"outlinewidth\":0,\"ticks\":\"\"},\"colorscale\":[[0.0,\"#0d0887\"],[0.1111111111111111,\"#46039f\"],[0.2222222222222222,\"#7201a8\"],[0.3333333333333333,\"#9c179e\"],[0.4444444444444444,\"#bd3786\"],[0.5555555555555556,\"#d8576b\"],[0.6666666666666666,\"#ed7953\"],[0.7777777777777778,\"#fb9f3a\"],[0.8888888888888888,\"#fdca26\"],[1.0,\"#f0f921\"]]}],\"contourcarpet\":[{\"type\":\"contourcarpet\",\"colorbar\":{\"outlinewidth\":0,\"ticks\":\"\"}}],\"contour\":[{\"type\":\"contour\",\"colorbar\":{\"outlinewidth\":0,\"ticks\":\"\"},\"colorscale\":[[0.0,\"#0d0887\"],[0.1111111111111111,\"#46039f\"],[0.2222222222222222,\"#7201a8\"],[0.3333333333333333,\"#9c179e\"],[0.4444444444444444,\"#bd3786\"],[0.5555555555555556,\"#d8576b\"],[0.6666666666666666,\"#ed7953\"],[0.7777777777777778,\"#fb9f3a\"],[0.8888888888888888,\"#fdca26\"],[1.0,\"#f0f921\"]]}],\"surface\":[{\"type\":\"surface\",\"colorbar\":{\"outlinewidth\":0,\"ticks\":\"\"},\"colorscale\":[[0.0,\"#0d0887\"],[0.1111111111111111,\"#46039f\"],[0.2222222222222222,\"#7201a8\"],[0.3333333333333333,\"#9c179e\"],[0.4444444444444444,\"#bd3786\"],[0.5555555555555556,\"#d8576b\"],[0.6666666666666666,\"#ed7953\"],[0.7777777777777778,\"#fb9f3a\"],[0.8888888888888888,\"#fdca26\"],[1.0,\"#f0f921\"]]}],\"mesh3d\":[{\"type\":\"mesh3d\",\"colorbar\":{\"outlinewidth\":0,\"ticks\":\"\"}}],\"scatter\":[{\"fillpattern\":{\"fillmode\":\"overlay\",\"size\":10,\"solidity\":0.2},\"type\":\"scatter\"}],\"parcoords\":[{\"type\":\"parcoords\",\"line\":{\"colorbar\":{\"outlinewidth\":0,\"ticks\":\"\"}}}],\"scatterpolargl\":[{\"type\":\"scatterpolargl\",\"marker\":{\"colorbar\":{\"outlinewidth\":0,\"ticks\":\"\"}}}],\"bar\":[{\"error_x\":{\"color\":\"#2a3f5f\"},\"error_y\":{\"color\":\"#2a3f5f\"},\"marker\":{\"line\":{\"color\":\"#E5ECF6\",\"width\":0.5},\"pattern\":{\"fillmode\":\"overlay\",\"size\":10,\"solidity\":0.2}},\"type\":\"bar\"}],\"scattergeo\":[{\"type\":\"scattergeo\",\"marker\":{\"colorbar\":{\"outlinewidth\":0,\"ticks\":\"\"}}}],\"scatterpolar\":[{\"type\":\"scatterpolar\",\"marker\":{\"colorbar\":{\"outlinewidth\":0,\"ticks\":\"\"}}}],\"histogram\":[{\"marker\":{\"pattern\":{\"fillmode\":\"overlay\",\"size\":10,\"solidity\":0.2}},\"type\":\"histogram\"}],\"scattergl\":[{\"type\":\"scattergl\",\"marker\":{\"colorbar\":{\"outlinewidth\":0,\"ticks\":\"\"}}}],\"scatter3d\":[{\"type\":\"scatter3d\",\"line\":{\"colorbar\":{\"outlinewidth\":0,\"ticks\":\"\"}},\"marker\":{\"colorbar\":{\"outlinewidth\":0,\"ticks\":\"\"}}}],\"scattermapbox\":[{\"type\":\"scattermapbox\",\"marker\":{\"colorbar\":{\"outlinewidth\":0,\"ticks\":\"\"}}}],\"scatterternary\":[{\"type\":\"scatterternary\",\"marker\":{\"colorbar\":{\"outlinewidth\":0,\"ticks\":\"\"}}}],\"scattercarpet\":[{\"type\":\"scattercarpet\",\"marker\":{\"colorbar\":{\"outlinewidth\":0,\"ticks\":\"\"}}}],\"carpet\":[{\"aaxis\":{\"endlinecolor\":\"#2a3f5f\",\"gridcolor\":\"white\",\"linecolor\":\"white\",\"minorgridcolor\":\"white\",\"startlinecolor\":\"#2a3f5f\"},\"baxis\":{\"endlinecolor\":\"#2a3f5f\",\"gridcolor\":\"white\",\"linecolor\":\"white\",\"minorgridcolor\":\"white\",\"startlinecolor\":\"#2a3f5f\"},\"type\":\"carpet\"}],\"table\":[{\"cells\":{\"fill\":{\"color\":\"#EBF0F8\"},\"line\":{\"color\":\"white\"}},\"header\":{\"fill\":{\"color\":\"#C8D4E3\"},\"line\":{\"color\":\"white\"}},\"type\":\"table\"}],\"barpolar\":[{\"marker\":{\"line\":{\"color\":\"#E5ECF6\",\"width\":0.5},\"pattern\":{\"fillmode\":\"overlay\",\"size\":10,\"solidity\":0.2}},\"type\":\"barpolar\"}],\"pie\":[{\"automargin\":true,\"type\":\"pie\"}]},\"layout\":{\"autotypenumbers\":\"strict\",\"colorway\":[\"#636efa\",\"#EF553B\",\"#00cc96\",\"#ab63fa\",\"#FFA15A\",\"#19d3f3\",\"#FF6692\",\"#B6E880\",\"#FF97FF\",\"#FECB52\"],\"font\":{\"color\":\"#2a3f5f\"},\"hovermode\":\"closest\",\"hoverlabel\":{\"align\":\"left\"},\"paper_bgcolor\":\"white\",\"plot_bgcolor\":\"#E5ECF6\",\"polar\":{\"bgcolor\":\"#E5ECF6\",\"angularaxis\":{\"gridcolor\":\"white\",\"linecolor\":\"white\",\"ticks\":\"\"},\"radialaxis\":{\"gridcolor\":\"white\",\"linecolor\":\"white\",\"ticks\":\"\"}},\"ternary\":{\"bgcolor\":\"#E5ECF6\",\"aaxis\":{\"gridcolor\":\"white\",\"linecolor\":\"white\",\"ticks\":\"\"},\"baxis\":{\"gridcolor\":\"white\",\"linecolor\":\"white\",\"ticks\":\"\"},\"caxis\":{\"gridcolor\":\"white\",\"linecolor\":\"white\",\"ticks\":\"\"}},\"coloraxis\":{\"colorbar\":{\"outlinewidth\":0,\"ticks\":\"\"}},\"colorscale\":{\"sequential\":[[0.0,\"#0d0887\"],[0.1111111111111111,\"#46039f\"],[0.2222222222222222,\"#7201a8\"],[0.3333333333333333,\"#9c179e\"],[0.4444444444444444,\"#bd3786\"],[0.5555555555555556,\"#d8576b\"],[0.6666666666666666,\"#ed7953\"],[0.7777777777777778,\"#fb9f3a\"],[0.8888888888888888,\"#fdca26\"],[1.0,\"#f0f921\"]],\"sequentialminus\":[[0.0,\"#0d0887\"],[0.1111111111111111,\"#46039f\"],[0.2222222222222222,\"#7201a8\"],[0.3333333333333333,\"#9c179e\"],[0.4444444444444444,\"#bd3786\"],[0.5555555555555556,\"#d8576b\"],[0.6666666666666666,\"#ed7953\"],[0.7777777777777778,\"#fb9f3a\"],[0.8888888888888888,\"#fdca26\"],[1.0,\"#f0f921\"]],\"diverging\":[[0,\"#8e0152\"],[0.1,\"#c51b7d\"],[0.2,\"#de77ae\"],[0.3,\"#f1b6da\"],[0.4,\"#fde0ef\"],[0.5,\"#f7f7f7\"],[0.6,\"#e6f5d0\"],[0.7,\"#b8e186\"],[0.8,\"#7fbc41\"],[0.9,\"#4d9221\"],[1,\"#276419\"]]},\"xaxis\":{\"gridcolor\":\"white\",\"linecolor\":\"white\",\"ticks\":\"\",\"title\":{\"standoff\":15},\"zerolinecolor\":\"white\",\"automargin\":true,\"zerolinewidth\":2},\"yaxis\":{\"gridcolor\":\"white\",\"linecolor\":\"white\",\"ticks\":\"\",\"title\":{\"standoff\":15},\"zerolinecolor\":\"white\",\"automargin\":true,\"zerolinewidth\":2},\"scene\":{\"xaxis\":{\"backgroundcolor\":\"#E5ECF6\",\"gridcolor\":\"white\",\"linecolor\":\"white\",\"showbackground\":true,\"ticks\":\"\",\"zerolinecolor\":\"white\",\"gridwidth\":2},\"yaxis\":{\"backgroundcolor\":\"#E5ECF6\",\"gridcolor\":\"white\",\"linecolor\":\"white\",\"showbackground\":true,\"ticks\":\"\",\"zerolinecolor\":\"white\",\"gridwidth\":2},\"zaxis\":{\"backgroundcolor\":\"#E5ECF6\",\"gridcolor\":\"white\",\"linecolor\":\"white\",\"showbackground\":true,\"ticks\":\"\",\"zerolinecolor\":\"white\",\"gridwidth\":2}},\"shapedefaults\":{\"line\":{\"color\":\"#2a3f5f\"}},\"annotationdefaults\":{\"arrowcolor\":\"#2a3f5f\",\"arrowhead\":0,\"arrowwidth\":1},\"geo\":{\"bgcolor\":\"white\",\"landcolor\":\"#E5ECF6\",\"subunitcolor\":\"white\",\"showland\":true,\"showlakes\":true,\"lakecolor\":\"white\"},\"title\":{\"x\":0.05},\"mapbox\":{\"style\":\"light\"}}}},                        {\"responsive\": true}                    ).then(function(){\n",
              "                            \n",
              "var gd = document.getElementById('1eb90695-a128-4b44-81b4-1155efcc09a2');\n",
              "var x = new MutationObserver(function (mutations, observer) {{\n",
              "        var display = window.getComputedStyle(gd).display;\n",
              "        if (!display || display === 'none') {{\n",
              "            console.log([gd, 'removed!']);\n",
              "            Plotly.purge(gd);\n",
              "            observer.disconnect();\n",
              "        }}\n",
              "}});\n",
              "\n",
              "// Listen for the removal of the full notebook cells\n",
              "var notebookContainer = gd.closest('#notebook-container');\n",
              "if (notebookContainer) {{\n",
              "    x.observe(notebookContainer, {childList: true});\n",
              "}}\n",
              "\n",
              "// Listen for the clearing of the current output cell\n",
              "var outputEl = gd.closest('.output');\n",
              "if (outputEl) {{\n",
              "    x.observe(outputEl, {childList: true});\n",
              "}}\n",
              "\n",
              "                        })                };                            </script>        </div>\n",
              "</body>\n",
              "</html>"
            ]
          },
          "metadata": {}
        }
      ]
    },
    {
      "cell_type": "markdown",
      "metadata": {
        "id": "Ryfg2Ce1is52"
      },
      "source": [
        "## A new trick - Technique of Contributions (Optional)\n",
        "\n",
        "The correct way to solve for this is not particularly relevant for this course. However, if you are interested, it's called the **Technique of Contributions**.\n",
        "\n",
        "You can say that if there was only 1 non-ace card, and 4 aces in the deck, the number of cards thrown would be $\\frac{1}{5}$, since if and only if the numbered card is the first one you pick do you throw away a card, otherwise it's 0. So the card contributes $\\frac{1}{5}$ to the answer, which it does if it's picked before any of the 4 aces.\n",
        "\n",
        "Now each of the cards are non-interacting, and there are $48$ non-ace cards, so our answer would be $\\frac{48}{5} = 9.6$\n",
        "\n",
        "This is exactly what we simulated."
      ]
    },
    {
      "cell_type": "markdown",
      "metadata": {
        "id": "ZQxe6sW8PmeI"
      },
      "source": [
        "# Measurements and Errors"
      ]
    },
    {
      "cell_type": "markdown",
      "metadata": {
        "id": "8MndZtI7ds-X"
      },
      "source": [
        "## Using Mean Squared Error"
      ]
    },
    {
      "cell_type": "markdown",
      "metadata": {
        "id": "x9xFz2uzdu6A"
      },
      "source": [
        "![image.png](data:image/png;base64,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)"
      ]
    },
    {
      "cell_type": "markdown",
      "metadata": {
        "id": "VIPZteQrdyVd"
      },
      "source": [
        "Suppose you are measuring the height of a person. You have several students, each of whom take 2 readings.\n",
        "\n",
        "* Student 1: 4 feet and 8 feet.\n",
        "* Student 2: 4 feet and 4.5 feet.\n",
        "* Student 3: 6 feet and 6 feet\n",
        "* Student 4: 6 feet and 10 feet\n",
        "\n",
        "How will you rate these students?\n",
        "\n",
        "My estimate is that would would want to rank them as:\n",
        "* Student 3\n",
        "* Student 2\n",
        "* Student 1\n",
        "* Student 4\n",
        "\n",
        "This is because 3 is correct.\n",
        "2 is wrong, but he made a 2 foot and a 1.5 foot error.\n",
        "1 is worse, **even though his average is correct**, he messed up by 2 feet each time, so he should be penalized for his 2 feet errors and not let the 2 errors cancel each other out (we need absolute value of errors or square of errors to do this).\n",
        "4 is the worst, he has a bizzare 4 foot error. He got to 6 foot once, but that's just by chance, while others mess in 2 feet, his is messing up in 4 feet and is the least reliable. This shows that **outliers should be penalized more**."
      ]
    },
    {
      "cell_type": "code",
      "metadata": {
        "colab": {
          "base_uri": "https://localhost:8080/",
          "height": 830
        },
        "id": "ZWXGAh2fe3ip",
        "outputId": "0c98da24-765c-489d-d844-775827fc6daa"
      },
      "source": [
        "from matplotlib import pyplot as plt\n",
        "plt.style.use('ggplot')\n",
        "plt.figure(figsize=(10, 10))\n",
        "\n",
        "measurements = np.linspace(0, 12, 1000)\n",
        "plt.scatter(measurements, (measurements - 6) ** 2, label='Squared Error')\n",
        "plt.scatter(measurements, abs(measurements - 6), label='Absolute Error')\n",
        "plt.show()"
      ],
      "execution_count": 13,
      "outputs": [
        {
          "output_type": "display_data",
          "data": {
            "text/plain": [
              "<Figure size 1000x1000 with 1 Axes>"
            ],
            "image/png": "[encoded data removed]"
          },
          "metadata": {}
        }
      ]
    },
    {
      "cell_type": "markdown",
      "metadata": {
        "id": "MSqnk0rJfVw_"
      },
      "source": [
        "You can see that the Mean Squared eror is a great penalty, because it punishes getting things too wrong a lot more."
      ]
    },
    {
      "cell_type": "markdown",
      "metadata": {
        "id": "cxTEEHWz3he7"
      },
      "source": [
        "## Standardisation\n",
        "\n",
        "We consider the grades dataset, which contains Physics, Biology and Maths scores for 26 students:"
      ]
    },
    {
      "cell_type": "code",
      "metadata": {
        "colab": {
          "base_uri": "https://localhost:8080/",
          "height": 882
        },
        "id": "mfXq7su73he8",
        "outputId": "03e4c440-0f8e-4e74-ed00-289fef3dc70d"
      },
      "source": [
        "#grades = pd.read_csv(\"https://archive.org/download/ml-fundamentals-data/machine-learning-fundamentals-data/grades.csv\")\n",
        "grades =pd.read_csv('/content/drive/MyDrive/FMML_AIML/grades.csv')\n",
        "print(grades.shape)\n",
        "grades"
      ],
      "execution_count": 32,
      "outputs": [
        {
          "output_type": "stream",
          "name": "stdout",
          "text": [
            "(26, 4)\n"
          ]
        },
        {
          "output_type": "execute_result",
          "data": {
            "text/plain": [
              "         Name  Physics  Biology  Maths\n",
              "0      Arnold       80       78     70\n",
              "1         Bob       60       98     45\n",
              "2   Cassandra       34       56     65\n",
              "3     Donovan       56       65     32\n",
              "4       Emily       98       23     55\n",
              "5      Fabian       45       44     60\n",
              "6        Grom       12       66     80\n",
              "7      Hilary       60       88     78\n",
              "8        Ivan       45       97     99\n",
              "9        John       98       80     84\n",
              "10      Kevin       78       78     65\n",
              "11      Loius       56       66     66\n",
              "12      Mandy       95       56     87\n",
              "13    Natalie       75       78     60\n",
              "14     Oliver       80       98     89\n",
              "15    Patrick       69       56     85\n",
              "16     Quiton       45       56     80\n",
              "17     Robert       78       66     70\n",
              "18      Sofia       88       98     50\n",
              "19      Terry       77       77     60\n",
              "20      Usman       40       64     88\n",
              "21    Vanessa       50       48     98\n",
              "22     Wilson       66       75     67\n",
              "23     Xavier       89       75     40\n",
              "24       Yuki       60       20     59\n",
              "25       Zayn       24       37     82"
            ],
            "text/html": [
              "\n",
              "  <div id=\"df-33cf163a-7e3e-46eb-82a9-4db52001ae09\" class=\"colab-df-container\">\n",
              "    <div>\n",
              "<style scoped>\n",
              "    .dataframe tbody tr th:only-of-type {\n",
              "        vertical-align: middle;\n",
              "    }\n",
              "\n",
              "    .dataframe tbody tr th {\n",
              "        vertical-align: top;\n",
              "    }\n",
              "\n",
              "    .dataframe thead th {\n",
              "        text-align: right;\n",
              "    }\n",
              "</style>\n",
              "<table border=\"1\" class=\"dataframe\">\n",
              "  <thead>\n",
              "    <tr style=\"text-align: right;\">\n",
              "      <th></th>\n",
              "      <th>Name</th>\n",
              "      <th>Physics</th>\n",
              "      <th>Biology</th>\n",
              "      <th>Maths</th>\n",
              "    </tr>\n",
              "  </thead>\n",
              "  <tbody>\n",
              "    <tr>\n",
              "      <th>0</th>\n",
              "      <td>Arnold</td>\n",
              "      <td>80</td>\n",
              "      <td>78</td>\n",
              "      <td>70</td>\n",
              "    </tr>\n",
              "    <tr>\n",
              "      <th>1</th>\n",
              "      <td>Bob</td>\n",
              "      <td>60</td>\n",
              "      <td>98</td>\n",
              "      <td>45</td>\n",
              "    </tr>\n",
              "    <tr>\n",
              "      <th>2</th>\n",
              "      <td>Cassandra</td>\n",
              "      <td>34</td>\n",
              "      <td>56</td>\n",
              "      <td>65</td>\n",
              "    </tr>\n",
              "    <tr>\n",
              "      <th>3</th>\n",
              "      <td>Donovan</td>\n",
              "      <td>56</td>\n",
              "      <td>65</td>\n",
              "      <td>32</td>\n",
              "    </tr>\n",
              "    <tr>\n",
              "      <th>4</th>\n",
              "      <td>Emily</td>\n",
              "      <td>98</td>\n",
              "      <td>23</td>\n",
              "      <td>55</td>\n",
              "    </tr>\n",
              "    <tr>\n",
              "      <th>5</th>\n",
              "      <td>Fabian</td>\n",
              "      <td>45</td>\n",
              "      <td>44</td>\n",
              "      <td>60</td>\n",
              "    </tr>\n",
              "    <tr>\n",
              "      <th>6</th>\n",
              "      <td>Grom</td>\n",
              "      <td>12</td>\n",
              "      <td>66</td>\n",
              "      <td>80</td>\n",
              "    </tr>\n",
              "    <tr>\n",
              "      <th>7</th>\n",
              "      <td>Hilary</td>\n",
              "      <td>60</td>\n",
              "      <td>88</td>\n",
              "      <td>78</td>\n",
              "    </tr>\n",
              "    <tr>\n",
              "      <th>8</th>\n",
              "      <td>Ivan</td>\n",
              "      <td>45</td>\n",
              "      <td>97</td>\n",
              "      <td>99</td>\n",
              "    </tr>\n",
              "    <tr>\n",
              "      <th>9</th>\n",
              "      <td>John</td>\n",
              "      <td>98</td>\n",
              "      <td>80</td>\n",
              "      <td>84</td>\n",
              "    </tr>\n",
              "    <tr>\n",
              "      <th>10</th>\n",
              "      <td>Kevin</td>\n",
              "      <td>78</td>\n",
              "      <td>78</td>\n",
              "      <td>65</td>\n",
              "    </tr>\n",
              "    <tr>\n",
              "      <th>11</th>\n",
              "      <td>Loius</td>\n",
              "      <td>56</td>\n",
              "      <td>66</td>\n",
              "      <td>66</td>\n",
              "    </tr>\n",
              "    <tr>\n",
              "      <th>12</th>\n",
              "      <td>Mandy</td>\n",
              "      <td>95</td>\n",
              "      <td>56</td>\n",
              "      <td>87</td>\n",
              "    </tr>\n",
              "    <tr>\n",
              "      <th>13</th>\n",
              "      <td>Natalie</td>\n",
              "      <td>75</td>\n",
              "      <td>78</td>\n",
              "      <td>60</td>\n",
              "    </tr>\n",
              "    <tr>\n",
              "      <th>14</th>\n",
              "      <td>Oliver</td>\n",
              "      <td>80</td>\n",
              "      <td>98</td>\n",
              "      <td>89</td>\n",
              "    </tr>\n",
              "    <tr>\n",
              "      <th>15</th>\n",
              "      <td>Patrick</td>\n",
              "      <td>69</td>\n",
              "      <td>56</td>\n",
              "      <td>85</td>\n",
              "    </tr>\n",
              "    <tr>\n",
              "      <th>16</th>\n",
              "      <td>Quiton</td>\n",
              "      <td>45</td>\n",
              "      <td>56</td>\n",
              "      <td>80</td>\n",
              "    </tr>\n",
              "    <tr>\n",
              "      <th>17</th>\n",
              "      <td>Robert</td>\n",
              "      <td>78</td>\n",
              "      <td>66</td>\n",
              "      <td>70</td>\n",
              "    </tr>\n",
              "    <tr>\n",
              "      <th>18</th>\n",
              "      <td>Sofia</td>\n",
              "      <td>88</td>\n",
              "      <td>98</td>\n",
              "      <td>50</td>\n",
              "    </tr>\n",
              "    <tr>\n",
              "      <th>19</th>\n",
              "      <td>Terry</td>\n",
              "      <td>77</td>\n",
              "      <td>77</td>\n",
              "      <td>60</td>\n",
              "    </tr>\n",
              "    <tr>\n",
              "      <th>20</th>\n",
              "      <td>Usman</td>\n",
              "      <td>40</td>\n",
              "      <td>64</td>\n",
              "      <td>88</td>\n",
              "    </tr>\n",
              "    <tr>\n",
              "      <th>21</th>\n",
              "      <td>Vanessa</td>\n",
              "      <td>50</td>\n",
              "      <td>48</td>\n",
              "      <td>98</td>\n",
              "    </tr>\n",
              "    <tr>\n",
              "      <th>22</th>\n",
              "      <td>Wilson</td>\n",
              "      <td>66</td>\n",
              "      <td>75</td>\n",
              "      <td>67</td>\n",
              "    </tr>\n",
              "    <tr>\n",
              "      <th>23</th>\n",
              "      <td>Xavier</td>\n",
              "      <td>89</td>\n",
              "      <td>75</td>\n",
              "      <td>40</td>\n",
              "    </tr>\n",
              "    <tr>\n",
              "      <th>24</th>\n",
              "      <td>Yuki</td>\n",
              "      <td>60</td>\n",
              "      <td>20</td>\n",
              "      <td>59</td>\n",
              "    </tr>\n",
              "    <tr>\n",
              "      <th>25</th>\n",
              "      <td>Zayn</td>\n",
              "      <td>24</td>\n",
              "      <td>37</td>\n",
              "      <td>82</td>\n",
              "    </tr>\n",
              "  </tbody>\n",
              "</table>\n",
              "</div>\n",
              "    <div class=\"colab-df-buttons\">\n",
              "\n",
              "  <div class=\"colab-df-container\">\n",
              "    <button class=\"colab-df-convert\" onclick=\"convertToInteractive('df-33cf163a-7e3e-46eb-82a9-4db52001ae09')\"\n",
              "            title=\"Convert this dataframe to an interactive table.\"\n",
              "            style=\"display:none;\">\n",
              "\n",
              "  <svg xmlns=\"http://www.w3.org/2000/svg\" height=\"24px\" viewBox=\"0 -960 960 960\">\n",
              "    <path d=\"M120-120v-720h720v720H120Zm60-500h600v-160H180v160Zm220 220h160v-160H400v160Zm0 220h160v-160H400v160ZM180-400h160v-160H180v160Zm440 0h160v-160H620v160ZM180-180h160v-160H180v160Zm440 0h160v-160H620v160Z\"/>\n",
              "  </svg>\n",
              "    </button>\n",
              "\n",
              "  <style>\n",
              "    .colab-df-container {\n",
              "      display:flex;\n",
              "      gap: 12px;\n",
              "    }\n",
              "\n",
              "    .colab-df-convert {\n",
              "      background-color: #E8F0FE;\n",
              "      border: none;\n",
              "      border-radius: 50%;\n",
              "      cursor: pointer;\n",
              "      display: none;\n",
              "      fill: #1967D2;\n",
              "      height: 32px;\n",
              "      padding: 0 0 0 0;\n",
              "      width: 32px;\n",
              "    }\n",
              "\n",
              "    .colab-df-convert:hover {\n",
              "      background-color: #E2EBFA;\n",
              "      box-shadow: 0px 1px 2px rgba(60, 64, 67, 0.3), 0px 1px 3px 1px rgba(60, 64, 67, 0.15);\n",
              "      fill: #174EA6;\n",
              "    }\n",
              "\n",
              "    .colab-df-buttons div {\n",
              "      margin-bottom: 4px;\n",
              "    }\n",
              "\n",
              "    [theme=dark] .colab-df-convert {\n",
              "      background-color: #3B4455;\n",
              "      fill: #D2E3FC;\n",
              "    }\n",
              "\n",
              "    [theme=dark] .colab-df-convert:hover {\n",
              "      background-color: #434B5C;\n",
              "      box-shadow: 0px 1px 3px 1px rgba(0, 0, 0, 0.15);\n",
              "      filter: drop-shadow(0px 1px 2px rgba(0, 0, 0, 0.3));\n",
              "      fill: #FFFFFF;\n",
              "    }\n",
              "  </style>\n",
              "\n",
              "    <script>\n",
              "      const buttonEl =\n",
              "        document.querySelector('#df-33cf163a-7e3e-46eb-82a9-4db52001ae09 button.colab-df-convert');\n",
              "      buttonEl.style.display =\n",
              "        google.colab.kernel.accessAllowed ? 'block' : 'none';\n",
              "\n",
              "      async function convertToInteractive(key) {\n",
              "        const element = document.querySelector('#df-33cf163a-7e3e-46eb-82a9-4db52001ae09');\n",
              "        const dataTable =\n",
              "          await google.colab.kernel.invokeFunction('convertToInteractive',\n",
              "                                                    [key], {});\n",
              "        if (!dataTable) return;\n",
              "\n",
              "        const docLinkHtml = 'Like what you see? Visit the ' +\n",
              "          '<a target=\"_blank\" href=https://colab.research.google.com/notebooks/data_table.ipynb>data table notebook</a>'\n",
              "          + ' to learn more about interactive tables.';\n",
              "        element.innerHTML = '';\n",
              "        dataTable['output_type'] = 'display_data';\n",
              "        await google.colab.output.renderOutput(dataTable, element);\n",
              "        const docLink = document.createElement('div');\n",
              "        docLink.innerHTML = docLinkHtml;\n",
              "        element.appendChild(docLink);\n",
              "      }\n",
              "    </script>\n",
              "  </div>\n",
              "\n",
              "\n",
              "<div id=\"df-bf997530-0e7d-41d2-82eb-b0cf12789030\">\n",
              "  <button class=\"colab-df-quickchart\" onclick=\"quickchart('df-bf997530-0e7d-41d2-82eb-b0cf12789030')\"\n",
              "            title=\"Suggest charts\"\n",
              "            style=\"display:none;\">\n",
              "\n",
              "<svg xmlns=\"http://www.w3.org/2000/svg\" height=\"24px\"viewBox=\"0 0 24 24\"\n",
              "     width=\"24px\">\n",
              "    <g>\n",
              "        <path d=\"M19 3H5c-1.1 0-2 .9-2 2v14c0 1.1.9 2 2 2h14c1.1 0 2-.9 2-2V5c0-1.1-.9-2-2-2zM9 17H7v-7h2v7zm4 0h-2V7h2v10zm4 0h-2v-4h2v4z\"/>\n",
              "    </g>\n",
              "</svg>\n",
              "  </button>\n",
              "\n",
              "<style>\n",
              "  .colab-df-quickchart {\n",
              "      --bg-color: #E8F0FE;\n",
              "      --fill-color: #1967D2;\n",
              "      --hover-bg-color: #E2EBFA;\n",
              "      --hover-fill-color: #174EA6;\n",
              "      --disabled-fill-color: #AAA;\n",
              "      --disabled-bg-color: #DDD;\n",
              "  }\n",
              "\n",
              "  [theme=dark] .colab-df-quickchart {\n",
              "      --bg-color: #3B4455;\n",
              "      --fill-color: #D2E3FC;\n",
              "      --hover-bg-color: #434B5C;\n",
              "      --hover-fill-color: #FFFFFF;\n",
              "      --disabled-bg-color: #3B4455;\n",
              "      --disabled-fill-color: #666;\n",
              "  }\n",
              "\n",
              "  .colab-df-quickchart {\n",
              "    background-color: var(--bg-color);\n",
              "    border: none;\n",
              "    border-radius: 50%;\n",
              "    cursor: pointer;\n",
              "    display: none;\n",
              "    fill: var(--fill-color);\n",
              "    height: 32px;\n",
              "    padding: 0;\n",
              "    width: 32px;\n",
              "  }\n",
              "\n",
              "  .colab-df-quickchart:hover {\n",
              "    background-color: var(--hover-bg-color);\n",
              "    box-shadow: 0 1px 2px rgba(60, 64, 67, 0.3), 0 1px 3px 1px rgba(60, 64, 67, 0.15);\n",
              "    fill: var(--button-hover-fill-color);\n",
              "  }\n",
              "\n",
              "  .colab-df-quickchart-complete:disabled,\n",
              "  .colab-df-quickchart-complete:disabled:hover {\n",
              "    background-color: var(--disabled-bg-color);\n",
              "    fill: var(--disabled-fill-color);\n",
              "    box-shadow: none;\n",
              "  }\n",
              "\n",
              "  .colab-df-spinner {\n",
              "    border: 2px solid var(--fill-color);\n",
              "    border-color: transparent;\n",
              "    border-bottom-color: var(--fill-color);\n",
              "    animation:\n",
              "      spin 1s steps(1) infinite;\n",
              "  }\n",
              "\n",
              "  @keyframes spin {\n",
              "    0% {\n",
              "      border-color: transparent;\n",
              "      border-bottom-color: var(--fill-color);\n",
              "      border-left-color: var(--fill-color);\n",
              "    }\n",
              "    20% {\n",
              "      border-color: transparent;\n",
              "      border-left-color: var(--fill-color);\n",
              "      border-top-color: var(--fill-color);\n",
              "    }\n",
              "    30% {\n",
              "      border-color: transparent;\n",
              "      border-left-color: var(--fill-color);\n",
              "      border-top-color: var(--fill-color);\n",
              "      border-right-color: var(--fill-color);\n",
              "    }\n",
              "    40% {\n",
              "      border-color: transparent;\n",
              "      border-right-color: var(--fill-color);\n",
              "      border-top-color: var(--fill-color);\n",
              "    }\n",
              "    60% {\n",
              "      border-color: transparent;\n",
              "      border-right-color: var(--fill-color);\n",
              "    }\n",
              "    80% {\n",
              "      border-color: transparent;\n",
              "      border-right-color: var(--fill-color);\n",
              "      border-bottom-color: var(--fill-color);\n",
              "    }\n",
              "    90% {\n",
              "      border-color: transparent;\n",
              "      border-bottom-color: var(--fill-color);\n",
              "    }\n",
              "  }\n",
              "</style>\n",
              "\n",
              "  <script>\n",
              "    async function quickchart(key) {\n",
              "      const quickchartButtonEl =\n",
              "        document.querySelector('#' + key + ' button');\n",
              "      quickchartButtonEl.disabled = true;  // To prevent multiple clicks.\n",
              "      quickchartButtonEl.classList.add('colab-df-spinner');\n",
              "      try {\n",
              "        const charts = await google.colab.kernel.invokeFunction(\n",
              "            'suggestCharts', [key], {});\n",
              "      } catch (error) {\n",
              "        console.error('Error during call to suggestCharts:', error);\n",
              "      }\n",
              "      quickchartButtonEl.classList.remove('colab-df-spinner');\n",
              "      quickchartButtonEl.classList.add('colab-df-quickchart-complete');\n",
              "    }\n",
              "    (() => {\n",
              "      let quickchartButtonEl =\n",
              "        document.querySelector('#df-bf997530-0e7d-41d2-82eb-b0cf12789030 button');\n",
              "      quickchartButtonEl.style.display =\n",
              "        google.colab.kernel.accessAllowed ? 'block' : 'none';\n",
              "    })();\n",
              "  </script>\n",
              "</div>\n",
              "    </div>\n",
              "  </div>\n"
            ],
            "application/vnd.google.colaboratory.intrinsic+json": {
              "type": "dataframe",
              "variable_name": "grades",
              "summary": "{\n  \"name\": \"grades\",\n  \"rows\": 26,\n  \"fields\": [\n    {\n      \"column\": \"Name\",\n      \"properties\": {\n        \"dtype\": \"string\",\n        \"num_unique_values\": 26,\n        \"samples\": [\n          \"Ivan\",\n          \"Quiton\",\n          \"Arnold\"\n        ],\n        \"semantic_type\": \"\",\n        \"description\": \"\"\n      }\n    },\n    {\n      \"column\": \"Physics\",\n      \"properties\": {\n        \"dtype\": \"number\",\n        \"std\": 22,\n        \"min\": 12,\n        \"max\": 98,\n        \"num_unique_values\": 18,\n        \"samples\": [\n          80,\n          60,\n          95\n        ],\n        \"semantic_type\": \"\",\n        \"description\": \"\"\n      }\n    },\n    {\n      \"column\": \"Biology\",\n      \"properties\": {\n        \"dtype\": \"number\",\n        \"std\": 21,\n        \"min\": 20,\n        \"max\": 98,\n        \"num_unique_values\": 16,\n        \"samples\": [\n          78,\n          98,\n          44\n        ],\n        \"semantic_type\": \"\",\n        \"description\": \"\"\n      }\n    },\n    {\n      \"column\": \"Maths\",\n      \"properties\": {\n        \"dtype\": \"number\",\n        \"std\": 17,\n        \"min\": 32,\n        \"max\": 99,\n        \"num_unique_values\": 21,\n        \"samples\": [\n          70,\n          67,\n          88\n        ],\n        \"semantic_type\": \"\",\n        \"description\": \"\"\n      }\n    }\n  ]\n}"
            }
          },
          "metadata": {},
          "execution_count": 32
        }
      ]
    },
    {
      "cell_type": "code",
      "source": [
        "numeric_columns = grades.select_dtypes(include='number')\n",
        "result = numeric_columns.agg([\"mean\", \"var\", \"std\"])\n",
        "result"
      ],
      "metadata": {
        "colab": {
          "base_uri": "https://localhost:8080/",
          "height": 143
        },
        "id": "gXuB6VecNlhU",
        "outputId": "8f900e1a-be1b-4526-9c10-5263c625e5a9"
      },
      "execution_count": 36,
      "outputs": [
        {
          "output_type": "execute_result",
          "data": {
            "text/plain": [
              "         Physics     Biology       Maths\n",
              "mean   63.769231   67.038462   69.769231\n",
              "var   517.224615  456.758462  300.664615\n",
              "std    22.742573   21.371908   17.339683"
            ],
            "text/html": [
              "\n",
              "  <div id=\"df-03f046c6-65b7-4a35-bb1a-1752fdfe1f9b\" class=\"colab-df-container\">\n",
              "    <div>\n",
              "<style scoped>\n",
              "    .dataframe tbody tr th:only-of-type {\n",
              "        vertical-align: middle;\n",
              "    }\n",
              "\n",
              "    .dataframe tbody tr th {\n",
              "        vertical-align: top;\n",
              "    }\n",
              "\n",
              "    .dataframe thead th {\n",
              "        text-align: right;\n",
              "    }\n",
              "</style>\n",
              "<table border=\"1\" class=\"dataframe\">\n",
              "  <thead>\n",
              "    <tr style=\"text-align: right;\">\n",
              "      <th></th>\n",
              "      <th>Physics</th>\n",
              "      <th>Biology</th>\n",
              "      <th>Maths</th>\n",
              "    </tr>\n",
              "  </thead>\n",
              "  <tbody>\n",
              "    <tr>\n",
              "      <th>mean</th>\n",
              "      <td>63.769231</td>\n",
              "      <td>67.038462</td>\n",
              "      <td>69.769231</td>\n",
              "    </tr>\n",
              "    <tr>\n",
              "      <th>var</th>\n",
              "      <td>517.224615</td>\n",
              "      <td>456.758462</td>\n",
              "      <td>300.664615</td>\n",
              "    </tr>\n",
              "    <tr>\n",
              "      <th>std</th>\n",
              "      <td>22.742573</td>\n",
              "      <td>21.371908</td>\n",
              "      <td>17.339683</td>\n",
              "    </tr>\n",
              "  </tbody>\n",
              "</table>\n",
              "</div>\n",
              "    <div class=\"colab-df-buttons\">\n",
              "\n",
              "  <div class=\"colab-df-container\">\n",
              "    <button class=\"colab-df-convert\" onclick=\"convertToInteractive('df-03f046c6-65b7-4a35-bb1a-1752fdfe1f9b')\"\n",
              "            title=\"Convert this dataframe to an interactive table.\"\n",
              "            style=\"display:none;\">\n",
              "\n",
              "  <svg xmlns=\"http://www.w3.org/2000/svg\" height=\"24px\" viewBox=\"0 -960 960 960\">\n",
              "    <path d=\"M120-120v-720h720v720H120Zm60-500h600v-160H180v160Zm220 220h160v-160H400v160Zm0 220h160v-160H400v160ZM180-400h160v-160H180v160Zm440 0h160v-160H620v160ZM180-180h160v-160H180v160Zm440 0h160v-160H620v160Z\"/>\n",
              "  </svg>\n",
              "    </button>\n",
              "\n",
              "  <style>\n",
              "    .colab-df-container {\n",
              "      display:flex;\n",
              "      gap: 12px;\n",
              "    }\n",
              "\n",
              "    .colab-df-convert {\n",
              "      background-color: #E8F0FE;\n",
              "      border: none;\n",
              "      border-radius: 50%;\n",
              "      cursor: pointer;\n",
              "      display: none;\n",
              "      fill: #1967D2;\n",
              "      height: 32px;\n",
              "      padding: 0 0 0 0;\n",
              "      width: 32px;\n",
              "    }\n",
              "\n",
              "    .colab-df-convert:hover {\n",
              "      background-color: #E2EBFA;\n",
              "      box-shadow: 0px 1px 2px rgba(60, 64, 67, 0.3), 0px 1px 3px 1px rgba(60, 64, 67, 0.15);\n",
              "      fill: #174EA6;\n",
              "    }\n",
              "\n",
              "    .colab-df-buttons div {\n",
              "      margin-bottom: 4px;\n",
              "    }\n",
              "\n",
              "    [theme=dark] .colab-df-convert {\n",
              "      background-color: #3B4455;\n",
              "      fill: #D2E3FC;\n",
              "    }\n",
              "\n",
              "    [theme=dark] .colab-df-convert:hover {\n",
              "      background-color: #434B5C;\n",
              "      box-shadow: 0px 1px 3px 1px rgba(0, 0, 0, 0.15);\n",
              "      filter: drop-shadow(0px 1px 2px rgba(0, 0, 0, 0.3));\n",
              "      fill: #FFFFFF;\n",
              "    }\n",
              "  </style>\n",
              "\n",
              "    <script>\n",
              "      const buttonEl =\n",
              "        document.querySelector('#df-03f046c6-65b7-4a35-bb1a-1752fdfe1f9b button.colab-df-convert');\n",
              "      buttonEl.style.display =\n",
              "        google.colab.kernel.accessAllowed ? 'block' : 'none';\n",
              "\n",
              "      async function convertToInteractive(key) {\n",
              "        const element = document.querySelector('#df-03f046c6-65b7-4a35-bb1a-1752fdfe1f9b');\n",
              "        const dataTable =\n",
              "          await google.colab.kernel.invokeFunction('convertToInteractive',\n",
              "                                                    [key], {});\n",
              "        if (!dataTable) return;\n",
              "\n",
              "        const docLinkHtml = 'Like what you see? Visit the ' +\n",
              "          '<a target=\"_blank\" href=https://colab.research.google.com/notebooks/data_table.ipynb>data table notebook</a>'\n",
              "          + ' to learn more about interactive tables.';\n",
              "        element.innerHTML = '';\n",
              "        dataTable['output_type'] = 'display_data';\n",
              "        await google.colab.output.renderOutput(dataTable, element);\n",
              "        const docLink = document.createElement('div');\n",
              "        docLink.innerHTML = docLinkHtml;\n",
              "        element.appendChild(docLink);\n",
              "      }\n",
              "    </script>\n",
              "  </div>\n",
              "\n",
              "\n",
              "<div id=\"df-e0e9f54c-3617-4efa-8c21-7f97568260db\">\n",
              "  <button class=\"colab-df-quickchart\" onclick=\"quickchart('df-e0e9f54c-3617-4efa-8c21-7f97568260db')\"\n",
              "            title=\"Suggest charts\"\n",
              "            style=\"display:none;\">\n",
              "\n",
              "<svg xmlns=\"http://www.w3.org/2000/svg\" height=\"24px\"viewBox=\"0 0 24 24\"\n",
              "     width=\"24px\">\n",
              "    <g>\n",
              "        <path d=\"M19 3H5c-1.1 0-2 .9-2 2v14c0 1.1.9 2 2 2h14c1.1 0 2-.9 2-2V5c0-1.1-.9-2-2-2zM9 17H7v-7h2v7zm4 0h-2V7h2v10zm4 0h-2v-4h2v4z\"/>\n",
              "    </g>\n",
              "</svg>\n",
              "  </button>\n",
              "\n",
              "<style>\n",
              "  .colab-df-quickchart {\n",
              "      --bg-color: #E8F0FE;\n",
              "      --fill-color: #1967D2;\n",
              "      --hover-bg-color: #E2EBFA;\n",
              "      --hover-fill-color: #174EA6;\n",
              "      --disabled-fill-color: #AAA;\n",
              "      --disabled-bg-color: #DDD;\n",
              "  }\n",
              "\n",
              "  [theme=dark] .colab-df-quickchart {\n",
              "      --bg-color: #3B4455;\n",
              "      --fill-color: #D2E3FC;\n",
              "      --hover-bg-color: #434B5C;\n",
              "      --hover-fill-color: #FFFFFF;\n",
              "      --disabled-bg-color: #3B4455;\n",
              "      --disabled-fill-color: #666;\n",
              "  }\n",
              "\n",
              "  .colab-df-quickchart {\n",
              "    background-color: var(--bg-color);\n",
              "    border: none;\n",
              "    border-radius: 50%;\n",
              "    cursor: pointer;\n",
              "    display: none;\n",
              "    fill: var(--fill-color);\n",
              "    height: 32px;\n",
              "    padding: 0;\n",
              "    width: 32px;\n",
              "  }\n",
              "\n",
              "  .colab-df-quickchart:hover {\n",
              "    background-color: var(--hover-bg-color);\n",
              "    box-shadow: 0 1px 2px rgba(60, 64, 67, 0.3), 0 1px 3px 1px rgba(60, 64, 67, 0.15);\n",
              "    fill: var(--button-hover-fill-color);\n",
              "  }\n",
              "\n",
              "  .colab-df-quickchart-complete:disabled,\n",
              "  .colab-df-quickchart-complete:disabled:hover {\n",
              "    background-color: var(--disabled-bg-color);\n",
              "    fill: var(--disabled-fill-color);\n",
              "    box-shadow: none;\n",
              "  }\n",
              "\n",
              "  .colab-df-spinner {\n",
              "    border: 2px solid var(--fill-color);\n",
              "    border-color: transparent;\n",
              "    border-bottom-color: var(--fill-color);\n",
              "    animation:\n",
              "      spin 1s steps(1) infinite;\n",
              "  }\n",
              "\n",
              "  @keyframes spin {\n",
              "    0% {\n",
              "      border-color: transparent;\n",
              "      border-bottom-color: var(--fill-color);\n",
              "      border-left-color: var(--fill-color);\n",
              "    }\n",
              "    20% {\n",
              "      border-color: transparent;\n",
              "      border-left-color: var(--fill-color);\n",
              "      border-top-color: var(--fill-color);\n",
              "    }\n",
              "    30% {\n",
              "      border-color: transparent;\n",
              "      border-left-color: var(--fill-color);\n",
              "      border-top-color: var(--fill-color);\n",
              "      border-right-color: var(--fill-color);\n",
              "    }\n",
              "    40% {\n",
              "      border-color: transparent;\n",
              "      border-right-color: var(--fill-color);\n",
              "      border-top-color: var(--fill-color);\n",
              "    }\n",
              "    60% {\n",
              "      border-color: transparent;\n",
              "      border-right-color: var(--fill-color);\n",
              "    }\n",
              "    80% {\n",
              "      border-color: transparent;\n",
              "      border-right-color: var(--fill-color);\n",
              "      border-bottom-color: var(--fill-color);\n",
              "    }\n",
              "    90% {\n",
              "      border-color: transparent;\n",
              "      border-bottom-color: var(--fill-color);\n",
              "    }\n",
              "  }\n",
              "</style>\n",
              "\n",
              "  <script>\n",
              "    async function quickchart(key) {\n",
              "      const quickchartButtonEl =\n",
              "        document.querySelector('#' + key + ' button');\n",
              "      quickchartButtonEl.disabled = true;  // To prevent multiple clicks.\n",
              "      quickchartButtonEl.classList.add('colab-df-spinner');\n",
              "      try {\n",
              "        const charts = await google.colab.kernel.invokeFunction(\n",
              "            'suggestCharts', [key], {});\n",
              "      } catch (error) {\n",
              "        console.error('Error during call to suggestCharts:', error);\n",
              "      }\n",
              "      quickchartButtonEl.classList.remove('colab-df-spinner');\n",
              "      quickchartButtonEl.classList.add('colab-df-quickchart-complete');\n",
              "    }\n",
              "    (() => {\n",
              "      let quickchartButtonEl =\n",
              "        document.querySelector('#df-e0e9f54c-3617-4efa-8c21-7f97568260db button');\n",
              "      quickchartButtonEl.style.display =\n",
              "        google.colab.kernel.accessAllowed ? 'block' : 'none';\n",
              "    })();\n",
              "  </script>\n",
              "</div>\n",
              "    </div>\n",
              "  </div>\n"
            ],
            "application/vnd.google.colaboratory.intrinsic+json": {
              "type": "dataframe",
              "variable_name": "result",
              "summary": "{\n  \"name\": \"result\",\n  \"rows\": 3,\n  \"fields\": [\n    {\n      \"column\": \"Physics\",\n      \"properties\": {\n        \"dtype\": \"number\",\n        \"std\": 274.4137578520084,\n        \"min\": 22.742572752101186,\n        \"max\": 517.2246153846153,\n        \"num_unique_values\": 3,\n        \"samples\": [\n          63.76923076923077,\n          517.2246153846153,\n          22.742572752101186\n        ],\n        \"semantic_type\": \"\",\n        \"description\": \"\"\n      }\n    },\n    {\n      \"column\": \"Biology\",\n      \"properties\": {\n        \"dtype\": \"number\",\n        \"std\": 239.27967015244928,\n        \"min\": 21.371908233437217,\n        \"max\": 456.7584615384616,\n        \"num_unique_values\": 3,\n        \"samples\": [\n          67.03846153846153,\n          456.7584615384616,\n          21.371908233437217\n        ],\n        \"semantic_type\": \"\",\n        \"description\": \"\"\n      }\n    },\n    {\n      \"column\": \"Maths\",\n      \"properties\": {\n        \"dtype\": \"number\",\n        \"std\": 150.7395951386957,\n        \"min\": 17.339683255025605,\n        \"max\": 300.6646153846154,\n        \"num_unique_values\": 3,\n        \"samples\": [\n          69.76923076923077,\n          300.6646153846154,\n          17.339683255025605\n        ],\n        \"semantic_type\": \"\",\n        \"description\": \"\"\n      }\n    }\n  ]\n}"
            }
          },
          "metadata": {},
          "execution_count": 36
        }
      ]
    },
    {
      "cell_type": "code",
      "metadata": {
        "id": "IPtO3_G23he9",
        "colab": {
          "base_uri": "https://localhost:8080/",
          "height": 324
        },
        "outputId": "a07585cb-a933-41e0-cf3b-843061abd3a4"
      },
      "source": [
        "g = sns.FacetGrid(grades.melt(\"Name\"), col=\"variable\")\n",
        "g.map(plt.hist, \"value\")"
      ],
      "execution_count": 34,
      "outputs": [
        {
          "output_type": "execute_result",
          "data": {
            "text/plain": [
              "<seaborn.axisgrid.FacetGrid at 0x7e86d9ae8280>"
            ]
          },
          "metadata": {},
          "execution_count": 34
        },
        {
          "output_type": "display_data",
          "data": {
            "text/plain": [
              "<Figure size 900x300 with 3 Axes>"
            ],
            "image/png": "[encoded data removed]"
          },
          "metadata": {}
        }
      ]
    },
    {
      "cell_type": "markdown",
      "metadata": {
        "id": "lvidQTVn3he9"
      },
      "source": [
        "Suppose the instructor wanted to provide the students with an idea of how well they are performing relative to their peers, but not their exact score. This can be done by **standardising** the scores. This is done by subtracting the mean and re-scaling the data to be in units of standard deviations.  "
      ]
    },
    {
      "cell_type": "code",
      "metadata": {
        "id": "i7lo_TZr3he-"
      },
      "source": [
        "grades[\"Physics_std\"] = (grades[\"Physics\"] - grades[\"Physics\"].mean()) / grades[\"Physics\"].std()"
      ],
      "execution_count": 37,
      "outputs": []
    },
    {
      "cell_type": "code",
      "metadata": {
        "id": "dgfwyX7G3he-",
        "colab": {
          "base_uri": "https://localhost:8080/",
          "height": 206
        },
        "outputId": "abc3a37b-ce46-4948-a585-dd7b7bbb3793"
      },
      "source": [
        "grades.head()"
      ],
      "execution_count": 38,
      "outputs": [
        {
          "output_type": "execute_result",
          "data": {
            "text/plain": [
              "        Name  Physics  Biology  Maths  Physics_std\n",
              "0     Arnold       80       78     70     0.713673\n",
              "1        Bob       60       98     45    -0.165735\n",
              "2  Cassandra       34       56     65    -1.308965\n",
              "3    Donovan       56       65     32    -0.341616\n",
              "4      Emily       98       23     55     1.505141"
            ],
            "text/html": [
              "\n",
              "  <div id=\"df-1ad1869b-c1b2-473e-b739-8c6bf8eaf4a4\" class=\"colab-df-container\">\n",
              "    <div>\n",
              "<style scoped>\n",
              "    .dataframe tbody tr th:only-of-type {\n",
              "        vertical-align: middle;\n",
              "    }\n",
              "\n",
              "    .dataframe tbody tr th {\n",
              "        vertical-align: top;\n",
              "    }\n",
              "\n",
              "    .dataframe thead th {\n",
              "        text-align: right;\n",
              "    }\n",
              "</style>\n",
              "<table border=\"1\" class=\"dataframe\">\n",
              "  <thead>\n",
              "    <tr style=\"text-align: right;\">\n",
              "      <th></th>\n",
              "      <th>Name</th>\n",
              "      <th>Physics</th>\n",
              "      <th>Biology</th>\n",
              "      <th>Maths</th>\n",
              "      <th>Physics_std</th>\n",
              "    </tr>\n",
              "  </thead>\n",
              "  <tbody>\n",
              "    <tr>\n",
              "      <th>0</th>\n",
              "      <td>Arnold</td>\n",
              "      <td>80</td>\n",
              "      <td>78</td>\n",
              "      <td>70</td>\n",
              "      <td>0.713673</td>\n",
              "    </tr>\n",
              "    <tr>\n",
              "      <th>1</th>\n",
              "      <td>Bob</td>\n",
              "      <td>60</td>\n",
              "      <td>98</td>\n",
              "      <td>45</td>\n",
              "      <td>-0.165735</td>\n",
              "    </tr>\n",
              "    <tr>\n",
              "      <th>2</th>\n",
              "      <td>Cassandra</td>\n",
              "      <td>34</td>\n",
              "      <td>56</td>\n",
              "      <td>65</td>\n",
              "      <td>-1.308965</td>\n",
              "    </tr>\n",
              "    <tr>\n",
              "      <th>3</th>\n",
              "      <td>Donovan</td>\n",
              "      <td>56</td>\n",
              "      <td>65</td>\n",
              "      <td>32</td>\n",
              "      <td>-0.341616</td>\n",
              "    </tr>\n",
              "    <tr>\n",
              "      <th>4</th>\n",
              "      <td>Emily</td>\n",
              "      <td>98</td>\n",
              "      <td>23</td>\n",
              "      <td>55</td>\n",
              "      <td>1.505141</td>\n",
              "    </tr>\n",
              "  </tbody>\n",
              "</table>\n",
              "</div>\n",
              "    <div class=\"colab-df-buttons\">\n",
              "\n",
              "  <div class=\"colab-df-container\">\n",
              "    <button class=\"colab-df-convert\" onclick=\"convertToInteractive('df-1ad1869b-c1b2-473e-b739-8c6bf8eaf4a4')\"\n",
              "            title=\"Convert this dataframe to an interactive table.\"\n",
              "            style=\"display:none;\">\n",
              "\n",
              "  <svg xmlns=\"http://www.w3.org/2000/svg\" height=\"24px\" viewBox=\"0 -960 960 960\">\n",
              "    <path d=\"M120-120v-720h720v720H120Zm60-500h600v-160H180v160Zm220 220h160v-160H400v160Zm0 220h160v-160H400v160ZM180-400h160v-160H180v160Zm440 0h160v-160H620v160ZM180-180h160v-160H180v160Zm440 0h160v-160H620v160Z\"/>\n",
              "  </svg>\n",
              "    </button>\n",
              "\n",
              "  <style>\n",
              "    .colab-df-container {\n",
              "      display:flex;\n",
              "      gap: 12px;\n",
              "    }\n",
              "\n",
              "    .colab-df-convert {\n",
              "      background-color: #E8F0FE;\n",
              "      border: none;\n",
              "      border-radius: 50%;\n",
              "      cursor: pointer;\n",
              "      display: none;\n",
              "      fill: #1967D2;\n",
              "      height: 32px;\n",
              "      padding: 0 0 0 0;\n",
              "      width: 32px;\n",
              "    }\n",
              "\n",
              "    .colab-df-convert:hover {\n",
              "      background-color: #E2EBFA;\n",
              "      box-shadow: 0px 1px 2px rgba(60, 64, 67, 0.3), 0px 1px 3px 1px rgba(60, 64, 67, 0.15);\n",
              "      fill: #174EA6;\n",
              "    }\n",
              "\n",
              "    .colab-df-buttons div {\n",
              "      margin-bottom: 4px;\n",
              "    }\n",
              "\n",
              "    [theme=dark] .colab-df-convert {\n",
              "      background-color: #3B4455;\n",
              "      fill: #D2E3FC;\n",
              "    }\n",
              "\n",
              "    [theme=dark] .colab-df-convert:hover {\n",
              "      background-color: #434B5C;\n",
              "      box-shadow: 0px 1px 3px 1px rgba(0, 0, 0, 0.15);\n",
              "      filter: drop-shadow(0px 1px 2px rgba(0, 0, 0, 0.3));\n",
              "      fill: #FFFFFF;\n",
              "    }\n",
              "  </style>\n",
              "\n",
              "    <script>\n",
              "      const buttonEl =\n",
              "        document.querySelector('#df-1ad1869b-c1b2-473e-b739-8c6bf8eaf4a4 button.colab-df-convert');\n",
              "      buttonEl.style.display =\n",
              "        google.colab.kernel.accessAllowed ? 'block' : 'none';\n",
              "\n",
              "      async function convertToInteractive(key) {\n",
              "        const element = document.querySelector('#df-1ad1869b-c1b2-473e-b739-8c6bf8eaf4a4');\n",
              "        const dataTable =\n",
              "          await google.colab.kernel.invokeFunction('convertToInteractive',\n",
              "                                                    [key], {});\n",
              "        if (!dataTable) return;\n",
              "\n",
              "        const docLinkHtml = 'Like what you see? Visit the ' +\n",
              "          '<a target=\"_blank\" href=https://colab.research.google.com/notebooks/data_table.ipynb>data table notebook</a>'\n",
              "          + ' to learn more about interactive tables.';\n",
              "        element.innerHTML = '';\n",
              "        dataTable['output_type'] = 'display_data';\n",
              "        await google.colab.output.renderOutput(dataTable, element);\n",
              "        const docLink = document.createElement('div');\n",
              "        docLink.innerHTML = docLinkHtml;\n",
              "        element.appendChild(docLink);\n",
              "      }\n",
              "    </script>\n",
              "  </div>\n",
              "\n",
              "\n",
              "<div id=\"df-0a571e2e-652c-43b5-8355-77940eb09329\">\n",
              "  <button class=\"colab-df-quickchart\" onclick=\"quickchart('df-0a571e2e-652c-43b5-8355-77940eb09329')\"\n",
              "            title=\"Suggest charts\"\n",
              "            style=\"display:none;\">\n",
              "\n",
              "<svg xmlns=\"http://www.w3.org/2000/svg\" height=\"24px\"viewBox=\"0 0 24 24\"\n",
              "     width=\"24px\">\n",
              "    <g>\n",
              "        <path d=\"M19 3H5c-1.1 0-2 .9-2 2v14c0 1.1.9 2 2 2h14c1.1 0 2-.9 2-2V5c0-1.1-.9-2-2-2zM9 17H7v-7h2v7zm4 0h-2V7h2v10zm4 0h-2v-4h2v4z\"/>\n",
              "    </g>\n",
              "</svg>\n",
              "  </button>\n",
              "\n",
              "<style>\n",
              "  .colab-df-quickchart {\n",
              "      --bg-color: #E8F0FE;\n",
              "      --fill-color: #1967D2;\n",
              "      --hover-bg-color: #E2EBFA;\n",
              "      --hover-fill-color: #174EA6;\n",
              "      --disabled-fill-color: #AAA;\n",
              "      --disabled-bg-color: #DDD;\n",
              "  }\n",
              "\n",
              "  [theme=dark] .colab-df-quickchart {\n",
              "      --bg-color: #3B4455;\n",
              "      --fill-color: #D2E3FC;\n",
              "      --hover-bg-color: #434B5C;\n",
              "      --hover-fill-color: #FFFFFF;\n",
              "      --disabled-bg-color: #3B4455;\n",
              "      --disabled-fill-color: #666;\n",
              "  }\n",
              "\n",
              "  .colab-df-quickchart {\n",
              "    background-color: var(--bg-color);\n",
              "    border: none;\n",
              "    border-radius: 50%;\n",
              "    cursor: pointer;\n",
              "    display: none;\n",
              "    fill: var(--fill-color);\n",
              "    height: 32px;\n",
              "    padding: 0;\n",
              "    width: 32px;\n",
              "  }\n",
              "\n",
              "  .colab-df-quickchart:hover {\n",
              "    background-color: var(--hover-bg-color);\n",
              "    box-shadow: 0 1px 2px rgba(60, 64, 67, 0.3), 0 1px 3px 1px rgba(60, 64, 67, 0.15);\n",
              "    fill: var(--button-hover-fill-color);\n",
              "  }\n",
              "\n",
              "  .colab-df-quickchart-complete:disabled,\n",
              "  .colab-df-quickchart-complete:disabled:hover {\n",
              "    background-color: var(--disabled-bg-color);\n",
              "    fill: var(--disabled-fill-color);\n",
              "    box-shadow: none;\n",
              "  }\n",
              "\n",
              "  .colab-df-spinner {\n",
              "    border: 2px solid var(--fill-color);\n",
              "    border-color: transparent;\n",
              "    border-bottom-color: var(--fill-color);\n",
              "    animation:\n",
              "      spin 1s steps(1) infinite;\n",
              "  }\n",
              "\n",
              "  @keyframes spin {\n",
              "    0% {\n",
              "      border-color: transparent;\n",
              "      border-bottom-color: var(--fill-color);\n",
              "      border-left-color: var(--fill-color);\n",
              "    }\n",
              "    20% {\n",
              "      border-color: transparent;\n",
              "      border-left-color: var(--fill-color);\n",
              "      border-top-color: var(--fill-color);\n",
              "    }\n",
              "    30% {\n",
              "      border-color: transparent;\n",
              "      border-left-color: var(--fill-color);\n",
              "      border-top-color: var(--fill-color);\n",
              "      border-right-color: var(--fill-color);\n",
              "    }\n",
              "    40% {\n",
              "      border-color: transparent;\n",
              "      border-right-color: var(--fill-color);\n",
              "      border-top-color: var(--fill-color);\n",
              "    }\n",
              "    60% {\n",
              "      border-color: transparent;\n",
              "      border-right-color: var(--fill-color);\n",
              "    }\n",
              "    80% {\n",
              "      border-color: transparent;\n",
              "      border-right-color: var(--fill-color);\n",
              "      border-bottom-color: var(--fill-color);\n",
              "    }\n",
              "    90% {\n",
              "      border-color: transparent;\n",
              "      border-bottom-color: var(--fill-color);\n",
              "    }\n",
              "  }\n",
              "</style>\n",
              "\n",
              "  <script>\n",
              "    async function quickchart(key) {\n",
              "      const quickchartButtonEl =\n",
              "        document.querySelector('#' + key + ' button');\n",
              "      quickchartButtonEl.disabled = true;  // To prevent multiple clicks.\n",
              "      quickchartButtonEl.classList.add('colab-df-spinner');\n",
              "      try {\n",
              "        const charts = await google.colab.kernel.invokeFunction(\n",
              "            'suggestCharts', [key], {});\n",
              "      } catch (error) {\n",
              "        console.error('Error during call to suggestCharts:', error);\n",
              "      }\n",
              "      quickchartButtonEl.classList.remove('colab-df-spinner');\n",
              "      quickchartButtonEl.classList.add('colab-df-quickchart-complete');\n",
              "    }\n",
              "    (() => {\n",
              "      let quickchartButtonEl =\n",
              "        document.querySelector('#df-0a571e2e-652c-43b5-8355-77940eb09329 button');\n",
              "      quickchartButtonEl.style.display =\n",
              "        google.colab.kernel.accessAllowed ? 'block' : 'none';\n",
              "    })();\n",
              "  </script>\n",
              "</div>\n",
              "    </div>\n",
              "  </div>\n"
            ],
            "application/vnd.google.colaboratory.intrinsic+json": {
              "type": "dataframe",
              "variable_name": "grades",
              "summary": "{\n  \"name\": \"grades\",\n  \"rows\": 26,\n  \"fields\": [\n    {\n      \"column\": \"Name\",\n      \"properties\": {\n        \"dtype\": \"string\",\n        \"num_unique_values\": 26,\n        \"samples\": [\n          \"Ivan\",\n          \"Quiton\",\n          \"Arnold\"\n        ],\n        \"semantic_type\": \"\",\n        \"description\": \"\"\n      }\n    },\n    {\n      \"column\": \"Physics\",\n      \"properties\": {\n        \"dtype\": \"number\",\n        \"std\": 22,\n        \"min\": 12,\n        \"max\": 98,\n        \"num_unique_values\": 18,\n        \"samples\": [\n          80,\n          60,\n          95\n        ],\n        \"semantic_type\": \"\",\n        \"description\": \"\"\n      }\n    },\n    {\n      \"column\": \"Biology\",\n      \"properties\": {\n        \"dtype\": \"number\",\n        \"std\": 21,\n        \"min\": 20,\n        \"max\": 98,\n        \"num_unique_values\": 16,\n        \"samples\": [\n          78,\n          98,\n          44\n        ],\n        \"semantic_type\": \"\",\n        \"description\": \"\"\n      }\n    },\n    {\n      \"column\": \"Maths\",\n      \"properties\": {\n        \"dtype\": \"number\",\n        \"std\": 17,\n        \"min\": 32,\n        \"max\": 99,\n        \"num_unique_values\": 21,\n        \"samples\": [\n          70,\n          67,\n          88\n        ],\n        \"semantic_type\": \"\",\n        \"description\": \"\"\n      }\n    },\n    {\n      \"column\": \"Physics_std\",\n      \"properties\": {\n        \"dtype\": \"number\",\n        \"std\": 1.0,\n        \"min\": -2.276313736951674,\n        \"max\": 1.505140583868492,\n        \"num_unique_values\": 18,\n        \"samples\": [\n          0.7136734004410153,\n          -0.16573458114506975,\n          1.3732293866305791\n        ],\n        \"semantic_type\": \"\",\n        \"description\": \"\"\n      }\n    }\n  ]\n}"
            }
          },
          "metadata": {},
          "execution_count": 38
        }
      ]
    },
    {
      "cell_type": "code",
      "source": [
        "grades.tail()"
      ],
      "metadata": {
        "colab": {
          "base_uri": "https://localhost:8080/",
          "height": 206
        },
        "id": "fRJHpGEFOtHc",
        "outputId": "a23daab1-d782-4c88-ad61-a2727ffa8516"
      },
      "execution_count": 69,
      "outputs": [
        {
          "output_type": "execute_result",
          "data": {
            "text/plain": [
              "       Name  Physics  Biology  Maths  Physics_std  Maths_std\n",
              "21  Vanessa       50       48     98    -0.605439   1.628102\n",
              "22   Wilson       66       75     67     0.098088  -0.159705\n",
              "23   Xavier       89       75     40     1.109407  -1.716827\n",
              "24     Yuki       60       20     59    -0.165735  -0.621074\n",
              "25     Zayn       24       37     82    -1.748669   0.705363"
            ],
            "text/html": [
              "\n",
              "  <div id=\"df-5395213e-7baf-4aa3-8084-2817eb728048\" class=\"colab-df-container\">\n",
              "    <div>\n",
              "<style scoped>\n",
              "    .dataframe tbody tr th:only-of-type {\n",
              "        vertical-align: middle;\n",
              "    }\n",
              "\n",
              "    .dataframe tbody tr th {\n",
              "        vertical-align: top;\n",
              "    }\n",
              "\n",
              "    .dataframe thead th {\n",
              "        text-align: right;\n",
              "    }\n",
              "</style>\n",
              "<table border=\"1\" class=\"dataframe\">\n",
              "  <thead>\n",
              "    <tr style=\"text-align: right;\">\n",
              "      <th></th>\n",
              "      <th>Name</th>\n",
              "      <th>Physics</th>\n",
              "      <th>Biology</th>\n",
              "      <th>Maths</th>\n",
              "      <th>Physics_std</th>\n",
              "      <th>Maths_std</th>\n",
              "    </tr>\n",
              "  </thead>\n",
              "  <tbody>\n",
              "    <tr>\n",
              "      <th>21</th>\n",
              "      <td>Vanessa</td>\n",
              "      <td>50</td>\n",
              "      <td>48</td>\n",
              "      <td>98</td>\n",
              "      <td>-0.605439</td>\n",
              "      <td>1.628102</td>\n",
              "    </tr>\n",
              "    <tr>\n",
              "      <th>22</th>\n",
              "      <td>Wilson</td>\n",
              "      <td>66</td>\n",
              "      <td>75</td>\n",
              "      <td>67</td>\n",
              "      <td>0.098088</td>\n",
              "      <td>-0.159705</td>\n",
              "    </tr>\n",
              "    <tr>\n",
              "      <th>23</th>\n",
              "      <td>Xavier</td>\n",
              "      <td>89</td>\n",
              "      <td>75</td>\n",
              "      <td>40</td>\n",
              "      <td>1.109407</td>\n",
              "      <td>-1.716827</td>\n",
              "    </tr>\n",
              "    <tr>\n",
              "      <th>24</th>\n",
              "      <td>Yuki</td>\n",
              "      <td>60</td>\n",
              "      <td>20</td>\n",
              "      <td>59</td>\n",
              "      <td>-0.165735</td>\n",
              "      <td>-0.621074</td>\n",
              "    </tr>\n",
              "    <tr>\n",
              "      <th>25</th>\n",
              "      <td>Zayn</td>\n",
              "      <td>24</td>\n",
              "      <td>37</td>\n",
              "      <td>82</td>\n",
              "      <td>-1.748669</td>\n",
              "      <td>0.705363</td>\n",
              "    </tr>\n",
              "  </tbody>\n",
              "</table>\n",
              "</div>\n",
              "    <div class=\"colab-df-buttons\">\n",
              "\n",
              "  <div class=\"colab-df-container\">\n",
              "    <button class=\"colab-df-convert\" onclick=\"convertToInteractive('df-5395213e-7baf-4aa3-8084-2817eb728048')\"\n",
              "            title=\"Convert this dataframe to an interactive table.\"\n",
              "            style=\"display:none;\">\n",
              "\n",
              "  <svg xmlns=\"http://www.w3.org/2000/svg\" height=\"24px\" viewBox=\"0 -960 960 960\">\n",
              "    <path d=\"M120-120v-720h720v720H120Zm60-500h600v-160H180v160Zm220 220h160v-160H400v160Zm0 220h160v-160H400v160ZM180-400h160v-160H180v160Zm440 0h160v-160H620v160ZM180-180h160v-160H180v160Zm440 0h160v-160H620v160Z\"/>\n",
              "  </svg>\n",
              "    </button>\n",
              "\n",
              "  <style>\n",
              "    .colab-df-container {\n",
              "      display:flex;\n",
              "      gap: 12px;\n",
              "    }\n",
              "\n",
              "    .colab-df-convert {\n",
              "      background-color: #E8F0FE;\n",
              "      border: none;\n",
              "      border-radius: 50%;\n",
              "      cursor: pointer;\n",
              "      display: none;\n",
              "      fill: #1967D2;\n",
              "      height: 32px;\n",
              "      padding: 0 0 0 0;\n",
              "      width: 32px;\n",
              "    }\n",
              "\n",
              "    .colab-df-convert:hover {\n",
              "      background-color: #E2EBFA;\n",
              "      box-shadow: 0px 1px 2px rgba(60, 64, 67, 0.3), 0px 1px 3px 1px rgba(60, 64, 67, 0.15);\n",
              "      fill: #174EA6;\n",
              "    }\n",
              "\n",
              "    .colab-df-buttons div {\n",
              "      margin-bottom: 4px;\n",
              "    }\n",
              "\n",
              "    [theme=dark] .colab-df-convert {\n",
              "      background-color: #3B4455;\n",
              "      fill: #D2E3FC;\n",
              "    }\n",
              "\n",
              "    [theme=dark] .colab-df-convert:hover {\n",
              "      background-color: #434B5C;\n",
              "      box-shadow: 0px 1px 3px 1px rgba(0, 0, 0, 0.15);\n",
              "      filter: drop-shadow(0px 1px 2px rgba(0, 0, 0, 0.3));\n",
              "      fill: #FFFFFF;\n",
              "    }\n",
              "  </style>\n",
              "\n",
              "    <script>\n",
              "      const buttonEl =\n",
              "        document.querySelector('#df-5395213e-7baf-4aa3-8084-2817eb728048 button.colab-df-convert');\n",
              "      buttonEl.style.display =\n",
              "        google.colab.kernel.accessAllowed ? 'block' : 'none';\n",
              "\n",
              "      async function convertToInteractive(key) {\n",
              "        const element = document.querySelector('#df-5395213e-7baf-4aa3-8084-2817eb728048');\n",
              "        const dataTable =\n",
              "          await google.colab.kernel.invokeFunction('convertToInteractive',\n",
              "                                                    [key], {});\n",
              "        if (!dataTable) return;\n",
              "\n",
              "        const docLinkHtml = 'Like what you see? Visit the ' +\n",
              "          '<a target=\"_blank\" href=https://colab.research.google.com/notebooks/data_table.ipynb>data table notebook</a>'\n",
              "          + ' to learn more about interactive tables.';\n",
              "        element.innerHTML = '';\n",
              "        dataTable['output_type'] = 'display_data';\n",
              "        await google.colab.output.renderOutput(dataTable, element);\n",
              "        const docLink = document.createElement('div');\n",
              "        docLink.innerHTML = docLinkHtml;\n",
              "        element.appendChild(docLink);\n",
              "      }\n",
              "    </script>\n",
              "  </div>\n",
              "\n",
              "\n",
              "<div id=\"df-907e385f-beab-4b66-8ec0-eac4138209fb\">\n",
              "  <button class=\"colab-df-quickchart\" onclick=\"quickchart('df-907e385f-beab-4b66-8ec0-eac4138209fb')\"\n",
              "            title=\"Suggest charts\"\n",
              "            style=\"display:none;\">\n",
              "\n",
              "<svg xmlns=\"http://www.w3.org/2000/svg\" height=\"24px\"viewBox=\"0 0 24 24\"\n",
              "     width=\"24px\">\n",
              "    <g>\n",
              "        <path d=\"M19 3H5c-1.1 0-2 .9-2 2v14c0 1.1.9 2 2 2h14c1.1 0 2-.9 2-2V5c0-1.1-.9-2-2-2zM9 17H7v-7h2v7zm4 0h-2V7h2v10zm4 0h-2v-4h2v4z\"/>\n",
              "    </g>\n",
              "</svg>\n",
              "  </button>\n",
              "\n",
              "<style>\n",
              "  .colab-df-quickchart {\n",
              "      --bg-color: #E8F0FE;\n",
              "      --fill-color: #1967D2;\n",
              "      --hover-bg-color: #E2EBFA;\n",
              "      --hover-fill-color: #174EA6;\n",
              "      --disabled-fill-color: #AAA;\n",
              "      --disabled-bg-color: #DDD;\n",
              "  }\n",
              "\n",
              "  [theme=dark] .colab-df-quickchart {\n",
              "      --bg-color: #3B4455;\n",
              "      --fill-color: #D2E3FC;\n",
              "      --hover-bg-color: #434B5C;\n",
              "      --hover-fill-color: #FFFFFF;\n",
              "      --disabled-bg-color: #3B4455;\n",
              "      --disabled-fill-color: #666;\n",
              "  }\n",
              "\n",
              "  .colab-df-quickchart {\n",
              "    background-color: var(--bg-color);\n",
              "    border: none;\n",
              "    border-radius: 50%;\n",
              "    cursor: pointer;\n",
              "    display: none;\n",
              "    fill: var(--fill-color);\n",
              "    height: 32px;\n",
              "    padding: 0;\n",
              "    width: 32px;\n",
              "  }\n",
              "\n",
              "  .colab-df-quickchart:hover {\n",
              "    background-color: var(--hover-bg-color);\n",
              "    box-shadow: 0 1px 2px rgba(60, 64, 67, 0.3), 0 1px 3px 1px rgba(60, 64, 67, 0.15);\n",
              "    fill: var(--button-hover-fill-color);\n",
              "  }\n",
              "\n",
              "  .colab-df-quickchart-complete:disabled,\n",
              "  .colab-df-quickchart-complete:disabled:hover {\n",
              "    background-color: var(--disabled-bg-color);\n",
              "    fill: var(--disabled-fill-color);\n",
              "    box-shadow: none;\n",
              "  }\n",
              "\n",
              "  .colab-df-spinner {\n",
              "    border: 2px solid var(--fill-color);\n",
              "    border-color: transparent;\n",
              "    border-bottom-color: var(--fill-color);\n",
              "    animation:\n",
              "      spin 1s steps(1) infinite;\n",
              "  }\n",
              "\n",
              "  @keyframes spin {\n",
              "    0% {\n",
              "      border-color: transparent;\n",
              "      border-bottom-color: var(--fill-color);\n",
              "      border-left-color: var(--fill-color);\n",
              "    }\n",
              "    20% {\n",
              "      border-color: transparent;\n",
              "      border-left-color: var(--fill-color);\n",
              "      border-top-color: var(--fill-color);\n",
              "    }\n",
              "    30% {\n",
              "      border-color: transparent;\n",
              "      border-left-color: var(--fill-color);\n",
              "      border-top-color: var(--fill-color);\n",
              "      border-right-color: var(--fill-color);\n",
              "    }\n",
              "    40% {\n",
              "      border-color: transparent;\n",
              "      border-right-color: var(--fill-color);\n",
              "      border-top-color: var(--fill-color);\n",
              "    }\n",
              "    60% {\n",
              "      border-color: transparent;\n",
              "      border-right-color: var(--fill-color);\n",
              "    }\n",
              "    80% {\n",
              "      border-color: transparent;\n",
              "      border-right-color: var(--fill-color);\n",
              "      border-bottom-color: var(--fill-color);\n",
              "    }\n",
              "    90% {\n",
              "      border-color: transparent;\n",
              "      border-bottom-color: var(--fill-color);\n",
              "    }\n",
              "  }\n",
              "</style>\n",
              "\n",
              "  <script>\n",
              "    async function quickchart(key) {\n",
              "      const quickchartButtonEl =\n",
              "        document.querySelector('#' + key + ' button');\n",
              "      quickchartButtonEl.disabled = true;  // To prevent multiple clicks.\n",
              "      quickchartButtonEl.classList.add('colab-df-spinner');\n",
              "      try {\n",
              "        const charts = await google.colab.kernel.invokeFunction(\n",
              "            'suggestCharts', [key], {});\n",
              "      } catch (error) {\n",
              "        console.error('Error during call to suggestCharts:', error);\n",
              "      }\n",
              "      quickchartButtonEl.classList.remove('colab-df-spinner');\n",
              "      quickchartButtonEl.classList.add('colab-df-quickchart-complete');\n",
              "    }\n",
              "    (() => {\n",
              "      let quickchartButtonEl =\n",
              "        document.querySelector('#df-907e385f-beab-4b66-8ec0-eac4138209fb button');\n",
              "      quickchartButtonEl.style.display =\n",
              "        google.colab.kernel.accessAllowed ? 'block' : 'none';\n",
              "    })();\n",
              "  </script>\n",
              "</div>\n",
              "    </div>\n",
              "  </div>\n"
            ],
            "application/vnd.google.colaboratory.intrinsic+json": {
              "type": "dataframe",
              "summary": "{\n  \"name\": \"grades\",\n  \"rows\": 5,\n  \"fields\": [\n    {\n      \"column\": \"Name\",\n      \"properties\": {\n        \"dtype\": \"string\",\n        \"num_unique_values\": 5,\n        \"samples\": [\n          \"Wilson\",\n          \"Zayn\",\n          \"Xavier\"\n        ],\n        \"semantic_type\": \"\",\n        \"description\": \"\"\n      }\n    },\n    {\n      \"column\": \"Physics\",\n      \"properties\": {\n        \"dtype\": \"number\",\n        \"std\": 23,\n        \"min\": 24,\n        \"max\": 89,\n        \"num_unique_values\": 5,\n        \"samples\": [\n          66,\n          24,\n          89\n        ],\n        \"semantic_type\": \"\",\n        \"description\": \"\"\n      }\n    },\n    {\n      \"column\": \"Biology\",\n      \"properties\": {\n        \"dtype\": \"number\",\n        \"std\": 24,\n        \"min\": 20,\n        \"max\": 75,\n        \"num_unique_values\": 4,\n        \"samples\": [\n          75,\n          37,\n          48\n        ],\n        \"semantic_type\": \"\",\n        \"description\": \"\"\n      }\n    },\n    {\n      \"column\": \"Maths\",\n      \"properties\": {\n        \"dtype\": \"number\",\n        \"std\": 22,\n        \"min\": 40,\n        \"max\": 98,\n        \"num_unique_values\": 5,\n        \"samples\": [\n          67,\n          82,\n          40\n        ],\n        \"semantic_type\": \"\",\n        \"description\": \"\"\n      }\n    },\n    {\n      \"column\": \"Physics_std\",\n      \"properties\": {\n        \"dtype\": \"number\",\n        \"std\": 1.0425714500683694,\n        \"min\": -1.7486689480000228,\n        \"max\": 1.1094069921547536,\n        \"num_unique_values\": 5,\n        \"samples\": [\n          0.09808781333075577,\n          -1.7486689480000228,\n          1.1094069921547536\n        ],\n        \"semantic_type\": \"\",\n        \"description\": \"\"\n      }\n    },\n    {\n      \"column\": \"Maths_std\",\n      \"properties\": {\n        \"dtype\": \"number\",\n        \"std\": 1.2749114148853582,\n        \"min\": -1.7168266762083257,\n        \"max\": 1.6281017833810216,\n        \"num_unique_values\": 5,\n        \"samples\": [\n          -0.1597048070891468,\n          0.7053628979770638,\n          -1.7168266762083257\n        ],\n        \"semantic_type\": \"\",\n        \"description\": \"\"\n      }\n    }\n  ]\n}"
            }
          },
          "metadata": {},
          "execution_count": 69
        }
      ]
    },
    {
      "cell_type": "markdown",
      "metadata": {
        "id": "u87UswSM3he_"
      },
      "source": [
        "What can we conclude?\n",
        "\n",
        "Firstly, Arnold and Emily are above average Physics students, whereas Bob, Cassandra and Donovan are below average.\n",
        "\n",
        "Also, Emily's scores are **1.5 standard deviations above the mean**, whereas Cassandra's scores are **1.3 standard deviations below the mean**.\n",
        "\n",
        "More importantly, standardisation allows us to compare the results from different exams. Standardisation allows each of the variables to be expressed in common units: their respective standard deviation.\n",
        "\n",
        "We can do the same for Math scores, which have a lower variance than Physics scores:"
      ]
    },
    {
      "cell_type": "code",
      "metadata": {
        "id": "RcxIigBz3hfA",
        "colab": {
          "base_uri": "https://localhost:8080/",
          "height": 206
        },
        "outputId": "eb2a10f4-ed56-440a-a5ba-d6880e250ac1"
      },
      "source": [
        "grades[\"Maths_std\"] = (grades[\"Maths\"] - grades[\"Maths\"].mean()) / grades[\"Maths\"].std()\n",
        "grades.head()"
      ],
      "execution_count": 39,
      "outputs": [
        {
          "output_type": "execute_result",
          "data": {
            "text/plain": [
              "        Name  Physics  Biology  Maths  Physics_std  Maths_std\n",
              "0     Arnold       80       78     70     0.713673   0.013309\n",
              "1        Bob       60       98     45    -0.165735  -1.428471\n",
              "2  Cassandra       34       56     65    -1.308965  -0.275047\n",
              "3    Donovan       56       65     32    -0.341616  -2.178196\n",
              "4      Emily       98       23     55     1.505141  -0.851759"
            ],
            "text/html": [
              "\n",
              "  <div id=\"df-23a1d721-339c-4d75-bfc9-674fc8d31e39\" class=\"colab-df-container\">\n",
              "    <div>\n",
              "<style scoped>\n",
              "    .dataframe tbody tr th:only-of-type {\n",
              "        vertical-align: middle;\n",
              "    }\n",
              "\n",
              "    .dataframe tbody tr th {\n",
              "        vertical-align: top;\n",
              "    }\n",
              "\n",
              "    .dataframe thead th {\n",
              "        text-align: right;\n",
              "    }\n",
              "</style>\n",
              "<table border=\"1\" class=\"dataframe\">\n",
              "  <thead>\n",
              "    <tr style=\"text-align: right;\">\n",
              "      <th></th>\n",
              "      <th>Name</th>\n",
              "      <th>Physics</th>\n",
              "      <th>Biology</th>\n",
              "      <th>Maths</th>\n",
              "      <th>Physics_std</th>\n",
              "      <th>Maths_std</th>\n",
              "    </tr>\n",
              "  </thead>\n",
              "  <tbody>\n",
              "    <tr>\n",
              "      <th>0</th>\n",
              "      <td>Arnold</td>\n",
              "      <td>80</td>\n",
              "      <td>78</td>\n",
              "      <td>70</td>\n",
              "      <td>0.713673</td>\n",
              "      <td>0.013309</td>\n",
              "    </tr>\n",
              "    <tr>\n",
              "      <th>1</th>\n",
              "      <td>Bob</td>\n",
              "      <td>60</td>\n",
              "      <td>98</td>\n",
              "      <td>45</td>\n",
              "      <td>-0.165735</td>\n",
              "      <td>-1.428471</td>\n",
              "    </tr>\n",
              "    <tr>\n",
              "      <th>2</th>\n",
              "      <td>Cassandra</td>\n",
              "      <td>34</td>\n",
              "      <td>56</td>\n",
              "      <td>65</td>\n",
              "      <td>-1.308965</td>\n",
              "      <td>-0.275047</td>\n",
              "    </tr>\n",
              "    <tr>\n",
              "      <th>3</th>\n",
              "      <td>Donovan</td>\n",
              "      <td>56</td>\n",
              "      <td>65</td>\n",
              "      <td>32</td>\n",
              "      <td>-0.341616</td>\n",
              "      <td>-2.178196</td>\n",
              "    </tr>\n",
              "    <tr>\n",
              "      <th>4</th>\n",
              "      <td>Emily</td>\n",
              "      <td>98</td>\n",
              "      <td>23</td>\n",
              "      <td>55</td>\n",
              "      <td>1.505141</td>\n",
              "      <td>-0.851759</td>\n",
              "    </tr>\n",
              "  </tbody>\n",
              "</table>\n",
              "</div>\n",
              "    <div class=\"colab-df-buttons\">\n",
              "\n",
              "  <div class=\"colab-df-container\">\n",
              "    <button class=\"colab-df-convert\" onclick=\"convertToInteractive('df-23a1d721-339c-4d75-bfc9-674fc8d31e39')\"\n",
              "            title=\"Convert this dataframe to an interactive table.\"\n",
              "            style=\"display:none;\">\n",
              "\n",
              "  <svg xmlns=\"http://www.w3.org/2000/svg\" height=\"24px\" viewBox=\"0 -960 960 960\">\n",
              "    <path d=\"M120-120v-720h720v720H120Zm60-500h600v-160H180v160Zm220 220h160v-160H400v160Zm0 220h160v-160H400v160ZM180-400h160v-160H180v160Zm440 0h160v-160H620v160ZM180-180h160v-160H180v160Zm440 0h160v-160H620v160Z\"/>\n",
              "  </svg>\n",
              "    </button>\n",
              "\n",
              "  <style>\n",
              "    .colab-df-container {\n",
              "      display:flex;\n",
              "      gap: 12px;\n",
              "    }\n",
              "\n",
              "    .colab-df-convert {\n",
              "      background-color: #E8F0FE;\n",
              "      border: none;\n",
              "      border-radius: 50%;\n",
              "      cursor: pointer;\n",
              "      display: none;\n",
              "      fill: #1967D2;\n",
              "      height: 32px;\n",
              "      padding: 0 0 0 0;\n",
              "      width: 32px;\n",
              "    }\n",
              "\n",
              "    .colab-df-convert:hover {\n",
              "      background-color: #E2EBFA;\n",
              "      box-shadow: 0px 1px 2px rgba(60, 64, 67, 0.3), 0px 1px 3px 1px rgba(60, 64, 67, 0.15);\n",
              "      fill: #174EA6;\n",
              "    }\n",
              "\n",
              "    .colab-df-buttons div {\n",
              "      margin-bottom: 4px;\n",
              "    }\n",
              "\n",
              "    [theme=dark] .colab-df-convert {\n",
              "      background-color: #3B4455;\n",
              "      fill: #D2E3FC;\n",
              "    }\n",
              "\n",
              "    [theme=dark] .colab-df-convert:hover {\n",
              "      background-color: #434B5C;\n",
              "      box-shadow: 0px 1px 3px 1px rgba(0, 0, 0, 0.15);\n",
              "      filter: drop-shadow(0px 1px 2px rgba(0, 0, 0, 0.3));\n",
              "      fill: #FFFFFF;\n",
              "    }\n",
              "  </style>\n",
              "\n",
              "    <script>\n",
              "      const buttonEl =\n",
              "        document.querySelector('#df-23a1d721-339c-4d75-bfc9-674fc8d31e39 button.colab-df-convert');\n",
              "      buttonEl.style.display =\n",
              "        google.colab.kernel.accessAllowed ? 'block' : 'none';\n",
              "\n",
              "      async function convertToInteractive(key) {\n",
              "        const element = document.querySelector('#df-23a1d721-339c-4d75-bfc9-674fc8d31e39');\n",
              "        const dataTable =\n",
              "          await google.colab.kernel.invokeFunction('convertToInteractive',\n",
              "                                                    [key], {});\n",
              "        if (!dataTable) return;\n",
              "\n",
              "        const docLinkHtml = 'Like what you see? Visit the ' +\n",
              "          '<a target=\"_blank\" href=https://colab.research.google.com/notebooks/data_table.ipynb>data table notebook</a>'\n",
              "          + ' to learn more about interactive tables.';\n",
              "        element.innerHTML = '';\n",
              "        dataTable['output_type'] = 'display_data';\n",
              "        await google.colab.output.renderOutput(dataTable, element);\n",
              "        const docLink = document.createElement('div');\n",
              "        docLink.innerHTML = docLinkHtml;\n",
              "        element.appendChild(docLink);\n",
              "      }\n",
              "    </script>\n",
              "  </div>\n",
              "\n",
              "\n",
              "<div id=\"df-f9b77c02-9c34-4afe-9237-db225bf89ade\">\n",
              "  <button class=\"colab-df-quickchart\" onclick=\"quickchart('df-f9b77c02-9c34-4afe-9237-db225bf89ade')\"\n",
              "            title=\"Suggest charts\"\n",
              "            style=\"display:none;\">\n",
              "\n",
              "<svg xmlns=\"http://www.w3.org/2000/svg\" height=\"24px\"viewBox=\"0 0 24 24\"\n",
              "     width=\"24px\">\n",
              "    <g>\n",
              "        <path d=\"M19 3H5c-1.1 0-2 .9-2 2v14c0 1.1.9 2 2 2h14c1.1 0 2-.9 2-2V5c0-1.1-.9-2-2-2zM9 17H7v-7h2v7zm4 0h-2V7h2v10zm4 0h-2v-4h2v4z\"/>\n",
              "    </g>\n",
              "</svg>\n",
              "  </button>\n",
              "\n",
              "<style>\n",
              "  .colab-df-quickchart {\n",
              "      --bg-color: #E8F0FE;\n",
              "      --fill-color: #1967D2;\n",
              "      --hover-bg-color: #E2EBFA;\n",
              "      --hover-fill-color: #174EA6;\n",
              "      --disabled-fill-color: #AAA;\n",
              "      --disabled-bg-color: #DDD;\n",
              "  }\n",
              "\n",
              "  [theme=dark] .colab-df-quickchart {\n",
              "      --bg-color: #3B4455;\n",
              "      --fill-color: #D2E3FC;\n",
              "      --hover-bg-color: #434B5C;\n",
              "      --hover-fill-color: #FFFFFF;\n",
              "      --disabled-bg-color: #3B4455;\n",
              "      --disabled-fill-color: #666;\n",
              "  }\n",
              "\n",
              "  .colab-df-quickchart {\n",
              "    background-color: var(--bg-color);\n",
              "    border: none;\n",
              "    border-radius: 50%;\n",
              "    cursor: pointer;\n",
              "    display: none;\n",
              "    fill: var(--fill-color);\n",
              "    height: 32px;\n",
              "    padding: 0;\n",
              "    width: 32px;\n",
              "  }\n",
              "\n",
              "  .colab-df-quickchart:hover {\n",
              "    background-color: var(--hover-bg-color);\n",
              "    box-shadow: 0 1px 2px rgba(60, 64, 67, 0.3), 0 1px 3px 1px rgba(60, 64, 67, 0.15);\n",
              "    fill: var(--button-hover-fill-color);\n",
              "  }\n",
              "\n",
              "  .colab-df-quickchart-complete:disabled,\n",
              "  .colab-df-quickchart-complete:disabled:hover {\n",
              "    background-color: var(--disabled-bg-color);\n",
              "    fill: var(--disabled-fill-color);\n",
              "    box-shadow: none;\n",
              "  }\n",
              "\n",
              "  .colab-df-spinner {\n",
              "    border: 2px solid var(--fill-color);\n",
              "    border-color: transparent;\n",
              "    border-bottom-color: var(--fill-color);\n",
              "    animation:\n",
              "      spin 1s steps(1) infinite;\n",
              "  }\n",
              "\n",
              "  @keyframes spin {\n",
              "    0% {\n",
              "      border-color: transparent;\n",
              "      border-bottom-color: var(--fill-color);\n",
              "      border-left-color: var(--fill-color);\n",
              "    }\n",
              "    20% {\n",
              "      border-color: transparent;\n",
              "      border-left-color: var(--fill-color);\n",
              "      border-top-color: var(--fill-color);\n",
              "    }\n",
              "    30% {\n",
              "      border-color: transparent;\n",
              "      border-left-color: var(--fill-color);\n",
              "      border-top-color: var(--fill-color);\n",
              "      border-right-color: var(--fill-color);\n",
              "    }\n",
              "    40% {\n",
              "      border-color: transparent;\n",
              "      border-right-color: var(--fill-color);\n",
              "      border-top-color: var(--fill-color);\n",
              "    }\n",
              "    60% {\n",
              "      border-color: transparent;\n",
              "      border-right-color: var(--fill-color);\n",
              "    }\n",
              "    80% {\n",
              "      border-color: transparent;\n",
              "      border-right-color: var(--fill-color);\n",
              "      border-bottom-color: var(--fill-color);\n",
              "    }\n",
              "    90% {\n",
              "      border-color: transparent;\n",
              "      border-bottom-color: var(--fill-color);\n",
              "    }\n",
              "  }\n",
              "</style>\n",
              "\n",
              "  <script>\n",
              "    async function quickchart(key) {\n",
              "      const quickchartButtonEl =\n",
              "        document.querySelector('#' + key + ' button');\n",
              "      quickchartButtonEl.disabled = true;  // To prevent multiple clicks.\n",
              "      quickchartButtonEl.classList.add('colab-df-spinner');\n",
              "      try {\n",
              "        const charts = await google.colab.kernel.invokeFunction(\n",
              "            'suggestCharts', [key], {});\n",
              "      } catch (error) {\n",
              "        console.error('Error during call to suggestCharts:', error);\n",
              "      }\n",
              "      quickchartButtonEl.classList.remove('colab-df-spinner');\n",
              "      quickchartButtonEl.classList.add('colab-df-quickchart-complete');\n",
              "    }\n",
              "    (() => {\n",
              "      let quickchartButtonEl =\n",
              "        document.querySelector('#df-f9b77c02-9c34-4afe-9237-db225bf89ade button');\n",
              "      quickchartButtonEl.style.display =\n",
              "        google.colab.kernel.accessAllowed ? 'block' : 'none';\n",
              "    })();\n",
              "  </script>\n",
              "</div>\n",
              "    </div>\n",
              "  </div>\n"
            ],
            "application/vnd.google.colaboratory.intrinsic+json": {
              "type": "dataframe",
              "variable_name": "grades",
              "summary": "{\n  \"name\": \"grades\",\n  \"rows\": 26,\n  \"fields\": [\n    {\n      \"column\": \"Name\",\n      \"properties\": {\n        \"dtype\": \"string\",\n        \"num_unique_values\": 26,\n        \"samples\": [\n          \"Ivan\",\n          \"Quiton\",\n          \"Arnold\"\n        ],\n        \"semantic_type\": \"\",\n        \"description\": \"\"\n      }\n    },\n    {\n      \"column\": \"Physics\",\n      \"properties\": {\n        \"dtype\": \"number\",\n        \"std\": 22,\n        \"min\": 12,\n        \"max\": 98,\n        \"num_unique_values\": 18,\n        \"samples\": [\n          80,\n          60,\n          95\n        ],\n        \"semantic_type\": \"\",\n        \"description\": \"\"\n      }\n    },\n    {\n      \"column\": \"Biology\",\n      \"properties\": {\n        \"dtype\": \"number\",\n        \"std\": 21,\n        \"min\": 20,\n        \"max\": 98,\n        \"num_unique_values\": 16,\n        \"samples\": [\n          78,\n          98,\n          44\n        ],\n        \"semantic_type\": \"\",\n        \"description\": \"\"\n      }\n    },\n    {\n      \"column\": \"Maths\",\n      \"properties\": {\n        \"dtype\": \"number\",\n        \"std\": 17,\n        \"min\": 32,\n        \"max\": 99,\n        \"num_unique_values\": 21,\n        \"samples\": [\n          70,\n          67,\n          88\n        ],\n        \"semantic_type\": \"\",\n        \"description\": \"\"\n      }\n    },\n    {\n      \"column\": \"Physics_std\",\n      \"properties\": {\n        \"dtype\": \"number\",\n        \"std\": 1.0,\n        \"min\": -2.276313736951674,\n        \"max\": 1.505140583868492,\n        \"num_unique_values\": 18,\n        \"samples\": [\n          0.7136734004410153,\n          -0.16573458114506975,\n          1.3732293866305791\n        ],\n        \"semantic_type\": \"\",\n        \"description\": \"\"\n      }\n    },\n    {\n      \"column\": \"Maths_std\",\n      \"properties\": {\n        \"dtype\": \"number\",\n        \"std\": 0.9999999999999999,\n        \"min\": -2.178196118910305,\n        \"max\": 1.685772963718769,\n        \"num_unique_values\": 21,\n        \"samples\": [\n          0.013308733924095295,\n          -0.1597048070891468,\n          1.051389980003548\n        ],\n        \"semantic_type\": \"\",\n        \"description\": \"\"\n      }\n    }\n  ]\n}"
            }
          },
          "metadata": {},
          "execution_count": 39
        }
      ]
    },
    {
      "cell_type": "code",
      "source": [
        "grades[\"Bio_std\"] = (grades[\"Biology\"] - grades[\"Biology\"].mean()) / grades[\"Biology\"].std()\n",
        "grades.head()"
      ],
      "metadata": {
        "colab": {
          "base_uri": "https://localhost:8080/",
          "height": 206
        },
        "id": "_VLYHZJ5Ozv2",
        "outputId": "7d12dc79-313b-481c-f674-542f99f545bd"
      },
      "execution_count": 70,
      "outputs": [
        {
          "output_type": "execute_result",
          "data": {
            "text/plain": [
              "        Name  Physics  Biology  Maths  Physics_std  Maths_std   Bio_std\n",
              "0     Arnold       80       78     70     0.713673   0.013309  0.512895\n",
              "1        Bob       60       98     45    -0.165735  -1.428471  1.448703\n",
              "2  Cassandra       34       56     65    -1.308965  -0.275047 -0.516494\n",
              "3    Donovan       56       65     32    -0.341616  -2.178196 -0.095380\n",
              "4      Emily       98       23     55     1.505141  -0.851759 -2.060577"
            ],
            "text/html": [
              "\n",
              "  <div id=\"df-7d85f7b5-f579-45aa-a804-8d9eab0fb2d2\" class=\"colab-df-container\">\n",
              "    <div>\n",
              "<style scoped>\n",
              "    .dataframe tbody tr th:only-of-type {\n",
              "        vertical-align: middle;\n",
              "    }\n",
              "\n",
              "    .dataframe tbody tr th {\n",
              "        vertical-align: top;\n",
              "    }\n",
              "\n",
              "    .dataframe thead th {\n",
              "        text-align: right;\n",
              "    }\n",
              "</style>\n",
              "<table border=\"1\" class=\"dataframe\">\n",
              "  <thead>\n",
              "    <tr style=\"text-align: right;\">\n",
              "      <th></th>\n",
              "      <th>Name</th>\n",
              "      <th>Physics</th>\n",
              "      <th>Biology</th>\n",
              "      <th>Maths</th>\n",
              "      <th>Physics_std</th>\n",
              "      <th>Maths_std</th>\n",
              "      <th>Bio_std</th>\n",
              "    </tr>\n",
              "  </thead>\n",
              "  <tbody>\n",
              "    <tr>\n",
              "      <th>0</th>\n",
              "      <td>Arnold</td>\n",
              "      <td>80</td>\n",
              "      <td>78</td>\n",
              "      <td>70</td>\n",
              "      <td>0.713673</td>\n",
              "      <td>0.013309</td>\n",
              "      <td>0.512895</td>\n",
              "    </tr>\n",
              "    <tr>\n",
              "      <th>1</th>\n",
              "      <td>Bob</td>\n",
              "      <td>60</td>\n",
              "      <td>98</td>\n",
              "      <td>45</td>\n",
              "      <td>-0.165735</td>\n",
              "      <td>-1.428471</td>\n",
              "      <td>1.448703</td>\n",
              "    </tr>\n",
              "    <tr>\n",
              "      <th>2</th>\n",
              "      <td>Cassandra</td>\n",
              "      <td>34</td>\n",
              "      <td>56</td>\n",
              "      <td>65</td>\n",
              "      <td>-1.308965</td>\n",
              "      <td>-0.275047</td>\n",
              "      <td>-0.516494</td>\n",
              "    </tr>\n",
              "    <tr>\n",
              "      <th>3</th>\n",
              "      <td>Donovan</td>\n",
              "      <td>56</td>\n",
              "      <td>65</td>\n",
              "      <td>32</td>\n",
              "      <td>-0.341616</td>\n",
              "      <td>-2.178196</td>\n",
              "      <td>-0.095380</td>\n",
              "    </tr>\n",
              "    <tr>\n",
              "      <th>4</th>\n",
              "      <td>Emily</td>\n",
              "      <td>98</td>\n",
              "      <td>23</td>\n",
              "      <td>55</td>\n",
              "      <td>1.505141</td>\n",
              "      <td>-0.851759</td>\n",
              "      <td>-2.060577</td>\n",
              "    </tr>\n",
              "  </tbody>\n",
              "</table>\n",
              "</div>\n",
              "    <div class=\"colab-df-buttons\">\n",
              "\n",
              "  <div class=\"colab-df-container\">\n",
              "    <button class=\"colab-df-convert\" onclick=\"convertToInteractive('df-7d85f7b5-f579-45aa-a804-8d9eab0fb2d2')\"\n",
              "            title=\"Convert this dataframe to an interactive table.\"\n",
              "            style=\"display:none;\">\n",
              "\n",
              "  <svg xmlns=\"http://www.w3.org/2000/svg\" height=\"24px\" viewBox=\"0 -960 960 960\">\n",
              "    <path d=\"M120-120v-720h720v720H120Zm60-500h600v-160H180v160Zm220 220h160v-160H400v160Zm0 220h160v-160H400v160ZM180-400h160v-160H180v160Zm440 0h160v-160H620v160ZM180-180h160v-160H180v160Zm440 0h160v-160H620v160Z\"/>\n",
              "  </svg>\n",
              "    </button>\n",
              "\n",
              "  <style>\n",
              "    .colab-df-container {\n",
              "      display:flex;\n",
              "      gap: 12px;\n",
              "    }\n",
              "\n",
              "    .colab-df-convert {\n",
              "      background-color: #E8F0FE;\n",
              "      border: none;\n",
              "      border-radius: 50%;\n",
              "      cursor: pointer;\n",
              "      display: none;\n",
              "      fill: #1967D2;\n",
              "      height: 32px;\n",
              "      padding: 0 0 0 0;\n",
              "      width: 32px;\n",
              "    }\n",
              "\n",
              "    .colab-df-convert:hover {\n",
              "      background-color: #E2EBFA;\n",
              "      box-shadow: 0px 1px 2px rgba(60, 64, 67, 0.3), 0px 1px 3px 1px rgba(60, 64, 67, 0.15);\n",
              "      fill: #174EA6;\n",
              "    }\n",
              "\n",
              "    .colab-df-buttons div {\n",
              "      margin-bottom: 4px;\n",
              "    }\n",
              "\n",
              "    [theme=dark] .colab-df-convert {\n",
              "      background-color: #3B4455;\n",
              "      fill: #D2E3FC;\n",
              "    }\n",
              "\n",
              "    [theme=dark] .colab-df-convert:hover {\n",
              "      background-color: #434B5C;\n",
              "      box-shadow: 0px 1px 3px 1px rgba(0, 0, 0, 0.15);\n",
              "      filter: drop-shadow(0px 1px 2px rgba(0, 0, 0, 0.3));\n",
              "      fill: #FFFFFF;\n",
              "    }\n",
              "  </style>\n",
              "\n",
              "    <script>\n",
              "      const buttonEl =\n",
              "        document.querySelector('#df-7d85f7b5-f579-45aa-a804-8d9eab0fb2d2 button.colab-df-convert');\n",
              "      buttonEl.style.display =\n",
              "        google.colab.kernel.accessAllowed ? 'block' : 'none';\n",
              "\n",
              "      async function convertToInteractive(key) {\n",
              "        const element = document.querySelector('#df-7d85f7b5-f579-45aa-a804-8d9eab0fb2d2');\n",
              "        const dataTable =\n",
              "          await google.colab.kernel.invokeFunction('convertToInteractive',\n",
              "                                                    [key], {});\n",
              "        if (!dataTable) return;\n",
              "\n",
              "        const docLinkHtml = 'Like what you see? Visit the ' +\n",
              "          '<a target=\"_blank\" href=https://colab.research.google.com/notebooks/data_table.ipynb>data table notebook</a>'\n",
              "          + ' to learn more about interactive tables.';\n",
              "        element.innerHTML = '';\n",
              "        dataTable['output_type'] = 'display_data';\n",
              "        await google.colab.output.renderOutput(dataTable, element);\n",
              "        const docLink = document.createElement('div');\n",
              "        docLink.innerHTML = docLinkHtml;\n",
              "        element.appendChild(docLink);\n",
              "      }\n",
              "    </script>\n",
              "  </div>\n",
              "\n",
              "\n",
              "<div id=\"df-b21eba10-77b7-4d07-98ee-91d88505abf5\">\n",
              "  <button class=\"colab-df-quickchart\" onclick=\"quickchart('df-b21eba10-77b7-4d07-98ee-91d88505abf5')\"\n",
              "            title=\"Suggest charts\"\n",
              "            style=\"display:none;\">\n",
              "\n",
              "<svg xmlns=\"http://www.w3.org/2000/svg\" height=\"24px\"viewBox=\"0 0 24 24\"\n",
              "     width=\"24px\">\n",
              "    <g>\n",
              "        <path d=\"M19 3H5c-1.1 0-2 .9-2 2v14c0 1.1.9 2 2 2h14c1.1 0 2-.9 2-2V5c0-1.1-.9-2-2-2zM9 17H7v-7h2v7zm4 0h-2V7h2v10zm4 0h-2v-4h2v4z\"/>\n",
              "    </g>\n",
              "</svg>\n",
              "  </button>\n",
              "\n",
              "<style>\n",
              "  .colab-df-quickchart {\n",
              "      --bg-color: #E8F0FE;\n",
              "      --fill-color: #1967D2;\n",
              "      --hover-bg-color: #E2EBFA;\n",
              "      --hover-fill-color: #174EA6;\n",
              "      --disabled-fill-color: #AAA;\n",
              "      --disabled-bg-color: #DDD;\n",
              "  }\n",
              "\n",
              "  [theme=dark] .colab-df-quickchart {\n",
              "      --bg-color: #3B4455;\n",
              "      --fill-color: #D2E3FC;\n",
              "      --hover-bg-color: #434B5C;\n",
              "      --hover-fill-color: #FFFFFF;\n",
              "      --disabled-bg-color: #3B4455;\n",
              "      --disabled-fill-color: #666;\n",
              "  }\n",
              "\n",
              "  .colab-df-quickchart {\n",
              "    background-color: var(--bg-color);\n",
              "    border: none;\n",
              "    border-radius: 50%;\n",
              "    cursor: pointer;\n",
              "    display: none;\n",
              "    fill: var(--fill-color);\n",
              "    height: 32px;\n",
              "    padding: 0;\n",
              "    width: 32px;\n",
              "  }\n",
              "\n",
              "  .colab-df-quickchart:hover {\n",
              "    background-color: var(--hover-bg-color);\n",
              "    box-shadow: 0 1px 2px rgba(60, 64, 67, 0.3), 0 1px 3px 1px rgba(60, 64, 67, 0.15);\n",
              "    fill: var(--button-hover-fill-color);\n",
              "  }\n",
              "\n",
              "  .colab-df-quickchart-complete:disabled,\n",
              "  .colab-df-quickchart-complete:disabled:hover {\n",
              "    background-color: var(--disabled-bg-color);\n",
              "    fill: var(--disabled-fill-color);\n",
              "    box-shadow: none;\n",
              "  }\n",
              "\n",
              "  .colab-df-spinner {\n",
              "    border: 2px solid var(--fill-color);\n",
              "    border-color: transparent;\n",
              "    border-bottom-color: var(--fill-color);\n",
              "    animation:\n",
              "      spin 1s steps(1) infinite;\n",
              "  }\n",
              "\n",
              "  @keyframes spin {\n",
              "    0% {\n",
              "      border-color: transparent;\n",
              "      border-bottom-color: var(--fill-color);\n",
              "      border-left-color: var(--fill-color);\n",
              "    }\n",
              "    20% {\n",
              "      border-color: transparent;\n",
              "      border-left-color: var(--fill-color);\n",
              "      border-top-color: var(--fill-color);\n",
              "    }\n",
              "    30% {\n",
              "      border-color: transparent;\n",
              "      border-left-color: var(--fill-color);\n",
              "      border-top-color: var(--fill-color);\n",
              "      border-right-color: var(--fill-color);\n",
              "    }\n",
              "    40% {\n",
              "      border-color: transparent;\n",
              "      border-right-color: var(--fill-color);\n",
              "      border-top-color: var(--fill-color);\n",
              "    }\n",
              "    60% {\n",
              "      border-color: transparent;\n",
              "      border-right-color: var(--fill-color);\n",
              "    }\n",
              "    80% {\n",
              "      border-color: transparent;\n",
              "      border-right-color: var(--fill-color);\n",
              "      border-bottom-color: var(--fill-color);\n",
              "    }\n",
              "    90% {\n",
              "      border-color: transparent;\n",
              "      border-bottom-color: var(--fill-color);\n",
              "    }\n",
              "  }\n",
              "</style>\n",
              "\n",
              "  <script>\n",
              "    async function quickchart(key) {\n",
              "      const quickchartButtonEl =\n",
              "        document.querySelector('#' + key + ' button');\n",
              "      quickchartButtonEl.disabled = true;  // To prevent multiple clicks.\n",
              "      quickchartButtonEl.classList.add('colab-df-spinner');\n",
              "      try {\n",
              "        const charts = await google.colab.kernel.invokeFunction(\n",
              "            'suggestCharts', [key], {});\n",
              "      } catch (error) {\n",
              "        console.error('Error during call to suggestCharts:', error);\n",
              "      }\n",
              "      quickchartButtonEl.classList.remove('colab-df-spinner');\n",
              "      quickchartButtonEl.classList.add('colab-df-quickchart-complete');\n",
              "    }\n",
              "    (() => {\n",
              "      let quickchartButtonEl =\n",
              "        document.querySelector('#df-b21eba10-77b7-4d07-98ee-91d88505abf5 button');\n",
              "      quickchartButtonEl.style.display =\n",
              "        google.colab.kernel.accessAllowed ? 'block' : 'none';\n",
              "    })();\n",
              "  </script>\n",
              "</div>\n",
              "    </div>\n",
              "  </div>\n"
            ],
            "application/vnd.google.colaboratory.intrinsic+json": {
              "type": "dataframe",
              "variable_name": "grades",
              "summary": "{\n  \"name\": \"grades\",\n  \"rows\": 26,\n  \"fields\": [\n    {\n      \"column\": \"Name\",\n      \"properties\": {\n        \"dtype\": \"string\",\n        \"num_unique_values\": 26,\n        \"samples\": [\n          \"Ivan\",\n          \"Quiton\",\n          \"Arnold\"\n        ],\n        \"semantic_type\": \"\",\n        \"description\": \"\"\n      }\n    },\n    {\n      \"column\": \"Physics\",\n      \"properties\": {\n        \"dtype\": \"number\",\n        \"std\": 22,\n        \"min\": 12,\n        \"max\": 98,\n        \"num_unique_values\": 18,\n        \"samples\": [\n          80,\n          60,\n          95\n        ],\n        \"semantic_type\": \"\",\n        \"description\": \"\"\n      }\n    },\n    {\n      \"column\": \"Biology\",\n      \"properties\": {\n        \"dtype\": \"number\",\n        \"std\": 21,\n        \"min\": 20,\n        \"max\": 98,\n        \"num_unique_values\": 16,\n        \"samples\": [\n          78,\n          98,\n          44\n        ],\n        \"semantic_type\": \"\",\n        \"description\": \"\"\n      }\n    },\n    {\n      \"column\": \"Maths\",\n      \"properties\": {\n        \"dtype\": \"number\",\n        \"std\": 17,\n        \"min\": 32,\n        \"max\": 99,\n        \"num_unique_values\": 21,\n        \"samples\": [\n          70,\n          67,\n          88\n        ],\n        \"semantic_type\": \"\",\n        \"description\": \"\"\n      }\n    },\n    {\n      \"column\": \"Physics_std\",\n      \"properties\": {\n        \"dtype\": \"number\",\n        \"std\": 1.0,\n        \"min\": -2.276313736951674,\n        \"max\": 1.505140583868492,\n        \"num_unique_values\": 18,\n        \"samples\": [\n          0.7136734004410153,\n          -0.16573458114506975,\n          1.3732293866305791\n        ],\n        \"semantic_type\": \"\",\n        \"description\": \"\"\n      }\n    },\n    {\n      \"column\": \"Maths_std\",\n      \"properties\": {\n        \"dtype\": \"number\",\n        \"std\": 0.9999999999999999,\n        \"min\": -2.178196118910305,\n        \"max\": 1.685772963718769,\n        \"num_unique_values\": 21,\n        \"samples\": [\n          0.013308733924095295,\n          -0.1597048070891468,\n          1.051389980003548\n        ],\n        \"semantic_type\": \"\",\n        \"description\": \"\"\n      }\n    },\n    {\n      \"column\": \"Bio_std\",\n      \"properties\": {\n        \"dtype\": \"number\",\n        \"std\": 1.0,\n        \"min\": -2.200948133628421,\n        \"max\": 1.4487025736474894,\n        \"num_unique_values\": 16,\n        \"samples\": [\n          0.5128946999869995,\n          1.4487025736474894,\n          -1.0779786852358333\n        ],\n        \"semantic_type\": \"\",\n        \"description\": \"\"\n      }\n    }\n  ]\n}"
            }
          },
          "metadata": {},
          "execution_count": 70
        }
      ]
    },
    {
      "cell_type": "markdown",
      "metadata": {
        "id": "mZiauZze3hfB"
      },
      "source": [
        "What do we observe?\n",
        "\n",
        " - While Arnold is doing really well in Physics, he's barely above average in Maths.\n",
        " - Bob, Cassandra and Donovan are below average in both Physics and Maths.\n",
        " - While Emily seems to be an above average Physics student, she's quite the opposite when it comes to Maths."
      ]
    },
    {
      "cell_type": "markdown",
      "metadata": {
        "id": "lFu5zIBxPcL_"
      },
      "source": [
        "# Mathematics of Probability"
      ]
    },
    {
      "cell_type": "markdown",
      "metadata": {
        "id": "Q7jqREao3hfD"
      },
      "source": [
        "## Conditional Probability\n",
        "|Sex/Handedness|Right handed| Left handed|\n",
        "|--------------|-----------:|-----------:|\n",
        "|Male          |43          | 9          |\n",
        "|Female        |44          | 4          |\n",
        "\n",
        "The contingency table above summarises some fake data collected from 100 respondents on genders and handedness.\n",
        "\n",
        "**What is the probability that any one respondent in our survey is female?** To calculate the probability, divide the number of events by the sample space: $\\frac{44+4}{100}=0.48$. It is a little more likely that our respondents are male than female.\n",
        "\n",
        "However, what is the probability that a female in our sample is **left-handed**? Quite unlikely. To quantify the likelihood, we could divide the number of left-handed females by the number of females in our sample: $\\frac{4}{48}=\\frac{1}{12}$.\n",
        "\n",
        "$\\frac{1}{12}$ is a **conditional probability**: a probability under a condition. Note that to calculate the conditional probability, we restrict the sample space under consideration to a condition, and then recalculate the probability as if the condition were the entire sample space.\n",
        "\n",
        "A general formula for conditional probability is as follows. The conditional probability of A given B is\n",
        "\n",
        "$$P(A|B)=\\frac{P(A\\cap B)}{P(B)}$$\n",
        "\n",
        "We take the joint probability $P(A\\cap B)$ and 'inflate' it with the probability of $P(B)$.\n",
        "\n",
        "Conditional probabilities are fundamental to the idea of **independence**. Recall that we defined independence of two events A and B as\n",
        "\n",
        "> the probability of event A is not changed by the occurence of event B.\n",
        "\n",
        "We can restate the definition above as\n",
        "\n",
        "$$P(A|B)=P(A)$$\n",
        "\n",
        "Consider whether handedness is independent of sex. The probability of being left-handed is $11/100$, or 0.11. As you might expect, it's close to the conditional probability $P(left$-$handed|female)=0.12$."
      ]
    },
    {
      "cell_type": "markdown",
      "metadata": {
        "id": "3U96C3_Q3hfD"
      },
      "source": [
        "## Law of Total Probability\n",
        "\n",
        "Let $A_1, \\dots A_n$ be mutually exclusive and exhaustive events, where $P(A)\\neq 0$ for all $A$. Then, the probability of $P(B)$ can be defined as\n",
        "\n",
        "$$P(B)=\\sum^n_{i=1}P(B|A_i)P(A_i)$$\n",
        "\n",
        "### Example\n",
        "\n",
        "The probability that any given person in the population has a disease is 0.1. The likelihood of testing positive for a disease if you have it is 0.95. The probability of testing positive in the absence of the disease (a false positive) is 0.10.\n",
        "\n",
        "What is the probability of testing positive for the disease?\n",
        "\n",
        "$$P(T = 1|D = 1) = 0.95$$\n",
        "$$P(T = 1|D = 0) = 0.10$$\n",
        "$$P(D = 1) = 0.1$$\n",
        "\n",
        "\n",
        "$$\\begin{align}\n",
        "P(T=1)&=P(T=1|D=1)P(D=1) + P(T=1|D=0)P(D=0)\\\\\n",
        "&= 0.95\\times 0.1 + 0.10*0.90\\\\\n",
        "&=0.14\n",
        "\\end{align}$$"
      ]
    },
    {
      "cell_type": "markdown",
      "metadata": {
        "id": "yHVxSe4msYXP"
      },
      "source": [
        "## Bayes' Theorem\n",
        "\n",
        "$$P(A|B)=\\frac{P(B|A)P(A)}{P(B)}$$\n",
        "\n",
        "$$Posterior=\\frac{Likelihood\\times Prior}{Evidence}$$\n",
        "\n",
        "An informal way of putting Bayes' Theorem:\n",
        "\n",
        "$$P(pred|data)=\\frac{P(data|actual)P(actual)}{P(data)}$$\n",
        "\n",
        "The proof for Bayes' Theorem follows from the definition of conditional independence. We know that\n",
        "\n",
        "$$\\begin{align}\n",
        "P(A\\cap B)&=P(A|B)\\times P(B)\\\\\n",
        "&=P(B|A)\\times P(A)\n",
        "\\end{align}$$\n",
        "\n",
        "This can be rearranged to state Bayes's Theorem:\n",
        "\n",
        "$$P(A|B)=\\frac{P(B|A)P(A)}{P(B)}$$\n"
      ]
    },
    {
      "cell_type": "markdown",
      "metadata": {
        "id": "fHOTHeSp3hfE"
      },
      "source": [
        "**Example 1**\n",
        "\n",
        "You want to go for a picnic today but it is cloudy in the morning. From experience, you know that:\n",
        "\n",
        "- the probability of raining on any given day is 10%,\n",
        "- the probability that it is cloudy on any given day is 40%, and\n",
        "- 50% of all rainy days start off cloudy.\n",
        "\n",
        "What is the probability of raining given that it is cloudy?\n",
        "\n",
        "$P(Rain | Cloud) = \\frac {P(Cloud | rain) \\times P(rain)}{P(Cloud}=\\frac{0.5\\times 0.1}{0.4}=0.125$\n"
      ]
    },
    {
      "cell_type": "markdown",
      "metadata": {
        "id": "18gxjKv-3hfE"
      },
      "source": [
        "**Example 2**\n",
        "\n",
        "The probability that any given person in the population has a disease is 0.1. The likelihood of testing positive for a disease if you have it is 0.95. The probability of testing positive in the absence of the disease (a false positive) is 0.10.\n",
        "\n",
        "If you have been tested positive for a disease. What is the probability that you actually have the disease?\n",
        "\n",
        "What is the probability of actually getting the disease given tested positive?\n",
        "\n",
        "$$P(T = 1|D = 1) = 0.95$$\n",
        "$$P(T = 1|D = 0) = 0.10$$\n",
        "$$P(D = 1) = 0.1$$\n",
        "\n",
        "As we've done earlier, we can use the law of total probability to find $P(T=1)$:\n",
        "\n",
        "$$\\begin{align}\n",
        "P(T=1)&=P(T=1|D=1)P(D=1) + P(T=1|D=0)P(D=0)\\\\\n",
        "&= 0.95\\times 0.1 + 0.10*0.90\\\\\n",
        "&=0.14\\end{align}$$\n",
        "\n",
        "Note that $$P(T = 1|D = 1) = 0.95$$ is the likelihood and $$P(D = 1) = 0.1$$ is the prior.\n",
        "\n",
        "\n",
        "$\\begin{align}\n",
        "P(D=1|T=1)&=\\frac{P(T=1|D=1)P(D=1)}{P(T=1)}\\\\\n",
        "&=\\frac{0.95\\times 0.1}{0.14}\\\\\n",
        "&=0.68\n",
        "\\end{align}$"
      ]
    },
    {
      "cell_type": "markdown",
      "metadata": {
        "id": "tK13xYcvshUg"
      },
      "source": [
        "## Random variables\n",
        "- A **continuous random variable** takes on infinitely many values/real numbers. In fact, the probability of a continuous random variable taking on any one value is 0.\n",
        "- A **discrete random variable** takes on a finite set of values, e.g. counts."
      ]
    },
    {
      "cell_type": "markdown",
      "metadata": {
        "id": "-uCXypFm3hfE"
      },
      "source": [
        "## Probability Distributions\n",
        "A random variable is a variable whose possible values are the outcomes of a non-deterministic process."
      ]
    },
    {
      "cell_type": "markdown",
      "metadata": {
        "id": "9v6WE4xZslqY"
      },
      "source": [
        "### Binomial distribution\n",
        "\n",
        "We start with the **binomial distribution**. The binomial distribution models the probability of $k$ successes in $n$ independent trials.\n",
        "\n",
        "Let's redo the lecture example with `scipy`. Import the `binom` class from `scipy.stats`:"
      ]
    },
    {
      "cell_type": "code",
      "metadata": {
        "id": "AW7zhBam3hfG"
      },
      "source": [
        "from scipy.stats import binom"
      ],
      "execution_count": 40,
      "outputs": []
    },
    {
      "cell_type": "markdown",
      "metadata": {
        "id": "X4W_VnSM3hfG"
      },
      "source": [
        "If the chance of winning a game is 0.75, what is the probability of losing all 5 games?\n",
        "\n",
        "Assume the chance of winning each game is independent. Then we can solve this problem using the binomial distribution.\n",
        "\n",
        "We use the `.pmf` method of the `binom` class. `pmf` stands for **probability mass function**: a function that states the probability that a discrete random variable is equal to any one value."
      ]
    },
    {
      "cell_type": "code",
      "metadata": {
        "id": "PeB5cBkp3hfG",
        "colab": {
          "base_uri": "https://localhost:8080/"
        },
        "outputId": "c035d5c4-20cb-48a3-e91a-c9217ef43066"
      },
      "source": [
        "binom.pmf(k=5, n=5, p=0.25)"
      ],
      "execution_count": 41,
      "outputs": [
        {
          "output_type": "execute_result",
          "data": {
            "text/plain": [
              "0.0009765625"
            ]
          },
          "metadata": {},
          "execution_count": 41
        }
      ]
    },
    {
      "cell_type": "markdown",
      "metadata": {
        "id": "gS5bOH9F3hfH"
      },
      "source": [
        "The answer is what we should expect. If we win 3 in 4 games, it's unlikely we lose 5 in 5 games.\n",
        "\n",
        "Now, suppose we want to know what is the probability of winning 3 games or less. We want to find $P(X \\leq 3)$.\n",
        "\n",
        "Note $P(X \\leq 3) = P(X=0)+ P(X=1)+P(X=2)+P(X=3)$.\n",
        "\n",
        "By the **complement rule**, $P(X \\leq 3) = 1 - P(X=5)-P(X=4)$.\n",
        "\n"
      ]
    },
    {
      "cell_type": "code",
      "metadata": {
        "id": "hquniyy63hfH",
        "colab": {
          "base_uri": "https://localhost:8080/"
        },
        "outputId": "4f755894-8b3d-43fd-89cf-e511825c61da"
      },
      "source": [
        "1 - binom.pmf(k=4, n=5, p=0.75) - binom.pmf(k=5, n=5, p=0.75)"
      ],
      "execution_count": 42,
      "outputs": [
        {
          "output_type": "execute_result",
          "data": {
            "text/plain": [
              "0.3671875"
            ]
          },
          "metadata": {},
          "execution_count": 42
        }
      ]
    },
    {
      "cell_type": "markdown",
      "metadata": {
        "id": "JjPx-QQy3hfH"
      },
      "source": [
        "Note that we could also answer this by referring to the value of the **cumulative density function** at $X=3$.\n",
        "\n",
        "The cumulative density function, $F(x)$, is defined as\n",
        "\n",
        "$$F(x)=P(X\\leq x)$$"
      ]
    },
    {
      "cell_type": "code",
      "metadata": {
        "id": "ZCgi1f1x3hfH",
        "colab": {
          "base_uri": "https://localhost:8080/"
        },
        "outputId": "3c0adeeb-54c3-4a94-b37a-60345381e793"
      },
      "source": [
        "binom.cdf(3, n=5, p=0.75)"
      ],
      "execution_count": 43,
      "outputs": [
        {
          "output_type": "execute_result",
          "data": {
            "text/plain": [
              "0.3671875"
            ]
          },
          "metadata": {},
          "execution_count": 43
        }
      ]
    },
    {
      "cell_type": "markdown",
      "metadata": {
        "id": "iX_F-Cbb3hfH"
      },
      "source": [
        "### Normal distribution\n",
        "\n",
        "We move on to the **normal distribution**. There are some key properties that are important to know about this distribution:\n",
        "\n",
        "- The mean, median and mode of the distribution is the same.\n",
        "- The curve is bell-shaped.\n",
        "- The total area under the curve is 1.\n",
        "- Symmetric about the mean.\n",
        "\n",
        "There are two key **shape parameters** that define the location and spread of the normal distribution: the mean, commonly denoted as $\\mu$; and the standard deviation, commonly denoted as $\\sigma$.\n",
        "\n",
        "Again, start by importing the `norm` class from `scipy.stats`:"
      ]
    },
    {
      "cell_type": "code",
      "metadata": {
        "id": "2xVbMbX53hfI"
      },
      "source": [
        "from scipy.stats import norm"
      ],
      "execution_count": 44,
      "outputs": []
    },
    {
      "cell_type": "markdown",
      "metadata": {
        "id": "ELt3TEjr3hfI"
      },
      "source": [
        "#### Standard normal distribution\n",
        "\n",
        "A normally distributed random variable with mean 0 and standard deviation 1 is said to follow the standard normal distribution, also known as the **z-distribution**.\n",
        "\n",
        "A normally distributed random variable can be converted into the standard normal distribution by standardisation:\n",
        "\n",
        "$$Z = \\frac{X-\\mu}{\\sigma}$$\n",
        "\n",
        "<div class=\"alert alert-info\">\n",
        "    <b>Note:</b> The <code>.pdf</code> method refers to the <b>probability density function</b>, which is the counterpart of the probability mass function for continuous random variables.\n",
        "</div>"
      ]
    },
    {
      "cell_type": "code",
      "metadata": {
        "id": "lfkKKZl-3hfI",
        "colab": {
          "base_uri": "https://localhost:8080/",
          "height": 455
        },
        "outputId": "ca584149-4f3d-47bb-af0b-3527a3613849"
      },
      "source": [
        "x = np.linspace(-10, 10, 100)\n",
        "f1 = norm.pdf(x, loc=0, scale=1)\n",
        "f2 = norm.pdf(x, loc=1, scale=1)\n",
        "f3 = norm.pdf(x, loc=0, scale=2)\n",
        "\n",
        "plt.plot(x, f1, label=\"$\\mu=0, \\sigma=1$\")\n",
        "plt.plot(x, f2, label=\"$\\mu=1, \\sigma=1$\")\n",
        "plt.plot(x, f3, label=\"$\\mu=0, \\sigma=2$\")\n",
        "plt.vlines(x=0, ymin=0, ymax=0.5, linestyles=\"dotted\")\n",
        "\n",
        "plt.legend()\n",
        "plt.title(\"$\\mu$ and $\\sigma$ affect the shape of the normal distribution\")\n",
        "plt.show()"
      ],
      "execution_count": 45,
      "outputs": [
        {
          "output_type": "display_data",
          "data": {
            "text/plain": [
              "<Figure size 640x480 with 1 Axes>"
            ],
            "image/png": "[encoded data removed]"
          },
          "metadata": {}
        }
      ]
    },
    {
      "cell_type": "markdown",
      "metadata": {
        "id": "XNu-1aQC3hfJ"
      },
      "source": [
        "With continuous distributions, we do not want to find the probability of a random variable at any given value. Since the range is infinite, the probability that a continuous random variable takes on any given value is zero.\n",
        "\n",
        "We are usually interested in finding out the probability that the random variable lies between two values.\n",
        "\n"
      ]
    },
    {
      "cell_type": "markdown",
      "metadata": {
        "id": "WSSklC1x3hfJ"
      },
      "source": [
        "#### Programmatic solutions: percent point function\n",
        "\n",
        "Recall the definition of the **cumulative density function**:\n",
        "\n",
        "$$F(x)=P(X\\leq x)$$\n",
        "\n",
        "The CDF returns the probability that a random variable is less than $x$. For instance, because of the symmetric shape of the normal distribution, the CDF of the standard normal distribution at 0 is expected to be 0.5."
      ]
    },
    {
      "cell_type": "code",
      "metadata": {
        "id": "w-h-D9zX3hfK",
        "colab": {
          "base_uri": "https://localhost:8080/"
        },
        "outputId": "652c951e-6081-4428-a543-17f6191b716e"
      },
      "source": [
        "norm.cdf(0)"
      ],
      "execution_count": 46,
      "outputs": [
        {
          "output_type": "execute_result",
          "data": {
            "text/plain": [
              "0.5"
            ]
          },
          "metadata": {},
          "execution_count": 46
        }
      ]
    },
    {
      "cell_type": "markdown",
      "metadata": {
        "id": "6wD5AryX3hfK"
      },
      "source": [
        "We will also use the **percent point function**, available via the `ppf()` method. The percent point function does the inverse of the cumulative density function. It returns the percent point given the value of the CDF:"
      ]
    },
    {
      "cell_type": "code",
      "metadata": {
        "id": "VujTl2v53hfL",
        "colab": {
          "base_uri": "https://localhost:8080/"
        },
        "outputId": "f4a72515-580f-45f6-d6af-bb7a835b2a30"
      },
      "source": [
        "norm.ppf(0.5)"
      ],
      "execution_count": 47,
      "outputs": [
        {
          "output_type": "execute_result",
          "data": {
            "text/plain": [
              "0.0"
            ]
          },
          "metadata": {},
          "execution_count": 47
        }
      ]
    },
    {
      "cell_type": "markdown",
      "metadata": {
        "id": "LROjzD_Y3hfL"
      },
      "source": [
        "#### Standard deviation rule/empirical rule\n",
        "\n",
        "A useful rule of thumb is the **standard deviation rule**, or empirical rule.\n",
        "\n",
        "This rule states that for a normally distributed random variable,\n",
        "- 68% of data lies within 1 standard deviation of the mean.\n",
        "- 95% of data lies within 2 standard deviations of the mean, and\n",
        "- 99.7% of data lies within 3 standard deviations of the mean."
      ]
    },
    {
      "cell_type": "markdown",
      "metadata": {
        "id": "zqkERi0j3hfL"
      },
      "source": [
        "#### Example: height\n",
        "\n",
        "Maalysian males' heights are normally distributed with mean 169.57 and standard deviation 7.57. Answer the following questions programmatically and using the empirical rule.\n",
        "\n",
        "- 84% of Malaysians have height of less than ... cm."
      ]
    },
    {
      "cell_type": "code",
      "metadata": {
        "id": "rEsdL9F23hfM",
        "colab": {
          "base_uri": "https://localhost:8080/"
        },
        "outputId": "59460cda-9d79-461a-cdc7-bb40bf1a6b74"
      },
      "source": [
        "norm.ppf(0.84, loc=169.57, scale=7.57)"
      ],
      "execution_count": 48,
      "outputs": [
        {
          "output_type": "execute_result",
          "data": {
            "text/plain": [
              "177.09804617589782"
            ]
          },
          "metadata": {},
          "execution_count": 48
        }
      ]
    },
    {
      "cell_type": "code",
      "metadata": {
        "id": "WkfIQtqZ3hfM",
        "colab": {
          "base_uri": "https://localhost:8080/"
        },
        "outputId": "8de17b37-ed0e-4911-8a95-f5c43e13c3b1"
      },
      "source": [
        "169.57 + 7.57"
      ],
      "execution_count": 49,
      "outputs": [
        {
          "output_type": "execute_result",
          "data": {
            "text/plain": [
              "177.14"
            ]
          },
          "metadata": {},
          "execution_count": 49
        }
      ]
    },
    {
      "cell_type": "markdown",
      "metadata": {
        "id": "DNI6ceoC3hfM"
      },
      "source": [
        "- The tallest 2.5% of Malaysians are taller than ... cm"
      ]
    },
    {
      "cell_type": "code",
      "metadata": {
        "id": "lWSgKwPl3hfN",
        "colab": {
          "base_uri": "https://localhost:8080/"
        },
        "outputId": "c6ed89af-c975-4806-ec3a-fb42d98aa143"
      },
      "source": [
        "norm.ppf(0.975, loc=169.57, scale=7.57)"
      ],
      "execution_count": 50,
      "outputs": [
        {
          "output_type": "execute_result",
          "data": {
            "text/plain": [
              "184.4069273629682"
            ]
          },
          "metadata": {},
          "execution_count": 50
        }
      ]
    },
    {
      "cell_type": "code",
      "metadata": {
        "id": "grKpUsPA3hfN",
        "colab": {
          "base_uri": "https://localhost:8080/"
        },
        "outputId": "bda96bf2-0c39-4676-eac8-c7f2f335232a"
      },
      "source": [
        "169.57 + 2 * 7.57"
      ],
      "execution_count": 51,
      "outputs": [
        {
          "output_type": "execute_result",
          "data": {
            "text/plain": [
              "184.70999999999998"
            ]
          },
          "metadata": {},
          "execution_count": 51
        }
      ]
    },
    {
      "cell_type": "markdown",
      "metadata": {
        "id": "PuheWpm43hfN"
      },
      "source": [
        "- The shortest 0.15% of Malaysians are shorter than ... cm"
      ]
    },
    {
      "cell_type": "code",
      "metadata": {
        "id": "OdyrBlxA3hfN",
        "colab": {
          "base_uri": "https://localhost:8080/"
        },
        "outputId": "80115326-212e-4eda-8b7f-abc6131e826a"
      },
      "source": [
        "norm.ppf(0.0015, loc=169.57, scale=7.57)"
      ],
      "execution_count": 52,
      "outputs": [
        {
          "output_type": "execute_result",
          "data": {
            "text/plain": [
              "147.10422390516268"
            ]
          },
          "metadata": {},
          "execution_count": 52
        }
      ]
    },
    {
      "cell_type": "code",
      "metadata": {
        "id": "UNE-qNXj3hfO",
        "colab": {
          "base_uri": "https://localhost:8080/"
        },
        "outputId": "0120d5c6-4941-4d3f-fde3-17415c7aa70e"
      },
      "source": [
        "169.57 - 3 * 7.57"
      ],
      "execution_count": 53,
      "outputs": [
        {
          "output_type": "execute_result",
          "data": {
            "text/plain": [
              "146.85999999999999"
            ]
          },
          "metadata": {},
          "execution_count": 53
        }
      ]
    },
    {
      "cell_type": "markdown",
      "metadata": {
        "id": "8XpK4xAZ3hfO"
      },
      "source": [
        "### Poisson distribution\n",
        "\n",
        "The Poisson distribution models the number of events that occur in a fixed time interval.\n",
        "\n",
        "Use the Poisson distribution when:\n",
        "- events occur at random points of time and space, and\n",
        "- our interest lies is the number of occurrences of the event.\n",
        "\n",
        "The most important property of the Poisson variable is that the waiting time between events is **memoryless**:\n",
        "- the time when events occur do not affect the number of successes in an interval;  \n",
        "- only the length of time affects the number of successes.\n",
        "\n",
        "The Poisson distribution has a single parameter: lambda ($\\lambda$). The mean and variance of the Poisson distribution coincides with the shape parameter $\\lambda$.\n",
        "\n",
        "The probability mass function of the Poisson distribution is as follows:\n",
        "\n",
        "$$p(X=k) = \\frac{e^{-\\lambda}\\lambda^{k}}{k!}$$"
      ]
    },
    {
      "cell_type": "code",
      "metadata": {
        "id": "c1N3SE493hfO"
      },
      "source": [
        "from scipy.stats import poisson"
      ],
      "execution_count": 54,
      "outputs": []
    },
    {
      "cell_type": "code",
      "metadata": {
        "id": "fJi3i-bw3hfO",
        "colab": {
          "base_uri": "https://localhost:8080/",
          "height": 447
        },
        "outputId": "7322cbe9-324c-4a87-a287-e05eb30eb997"
      },
      "source": [
        "# a Poisson distribution with lambda=1 can be interpreted as:\n",
        "# on average, 1 event occurs within the set time interval.\n",
        "# naturally, it is less likely that more than 1 event occurs.\n",
        "\n",
        "x = np.arange(10)\n",
        "f1 = poisson.pmf(x, mu=1)\n",
        "f2 = poisson.pmf(x, mu=2)\n",
        "f3 = poisson.pmf(x, mu=3)\n",
        "\n",
        "plt.bar(x, f1, label=\"$\\lambda=1$\")\n",
        "plt.legend()\n"
      ],
      "execution_count": 55,
      "outputs": [
        {
          "output_type": "execute_result",
          "data": {
            "text/plain": [
              "<matplotlib.legend.Legend at 0x7e86d67d7cd0>"
            ]
          },
          "metadata": {},
          "execution_count": 55
        },
        {
          "output_type": "display_data",
          "data": {
            "text/plain": [
              "<Figure size 640x480 with 1 Axes>"
            ],
            "image/png": "[encoded data removed]"
          },
          "metadata": {}
        }
      ]
    },
    {
      "cell_type": "code",
      "metadata": {
        "id": "ODe9dJJQ3hfP",
        "colab": {
          "base_uri": "https://localhost:8080/"
        },
        "outputId": "85cf9b6e-201a-4087-fe68-3f60c12c0a16"
      },
      "source": [
        "# the average can be calculated by multiplying the inputs with the values of the PMF\n",
        "x @ f1\n",
        "# see that this is equal to lambda"
      ],
      "execution_count": 56,
      "outputs": [
        {
          "output_type": "execute_result",
          "data": {
            "text/plain": [
              "0.999998874797402"
            ]
          },
          "metadata": {},
          "execution_count": 56
        }
      ]
    },
    {
      "cell_type": "code",
      "metadata": {
        "id": "3BKXdO313hfQ",
        "colab": {
          "base_uri": "https://localhost:8080/",
          "height": 447
        },
        "outputId": "476620a1-2ccf-4fbb-91ee-07a1f3ab4e95"
      },
      "source": [
        "# for lambda=2, having 2 events is a lot more likely\n",
        "\n",
        "plt.bar(x, f2, label=\"$\\lambda=2$\")\n",
        "plt.legend()"
      ],
      "execution_count": 57,
      "outputs": [
        {
          "output_type": "execute_result",
          "data": {
            "text/plain": [
              "<matplotlib.legend.Legend at 0x7e86d6836500>"
            ]
          },
          "metadata": {},
          "execution_count": 57
        },
        {
          "output_type": "display_data",
          "data": {
            "text/plain": [
              "<Figure size 640x480 with 1 Axes>"
            ],
            "image/png": "[encoded data removed]"
          },
          "metadata": {}
        }
      ]
    },
    {
      "cell_type": "code",
      "metadata": {
        "id": "amQSbmPL3hfQ",
        "colab": {
          "base_uri": "https://localhost:8080/"
        },
        "outputId": "972ed75c-6215-42d4-be4e-e4ccc2e7778d"
      },
      "source": [
        "x @ f2"
      ],
      "execution_count": 58,
      "outputs": [
        {
          "output_type": "execute_result",
          "data": {
            "text/plain": [
              "1.999525105343477"
            ]
          },
          "metadata": {},
          "execution_count": 58
        }
      ]
    },
    {
      "cell_type": "code",
      "metadata": {
        "id": "mcvzOTrw3hfQ",
        "colab": {
          "base_uri": "https://localhost:8080/",
          "height": 447
        },
        "outputId": "0d7af8da-5835-460d-debd-285612d00ba9"
      },
      "source": [
        "plt.bar(x, f3, label=\"$\\lambda=3$\")\n",
        "plt.legend()"
      ],
      "execution_count": 59,
      "outputs": [
        {
          "output_type": "execute_result",
          "data": {
            "text/plain": [
              "<matplotlib.legend.Legend at 0x7e86d66ccaf0>"
            ]
          },
          "metadata": {},
          "execution_count": 59
        },
        {
          "output_type": "display_data",
          "data": {
            "text/plain": [
              "<Figure size 640x480 with 1 Axes>"
            ],
            "image/png": "[encoded data removed]"
          },
          "metadata": {}
        }
      ]
    },
    {
      "cell_type": "code",
      "metadata": {
        "id": "9DlrYoRx3hfQ",
        "colab": {
          "base_uri": "https://localhost:8080/"
        },
        "outputId": "0ebb9c83-5e26-4c9f-acda-f1306b1527b1"
      },
      "source": [
        "x @ f3"
      ],
      "execution_count": 60,
      "outputs": [
        {
          "output_type": "execute_result",
          "data": {
            "text/plain": [
              "2.9885910238149727"
            ]
          },
          "metadata": {},
          "execution_count": 60
        }
      ]
    },
    {
      "cell_type": "markdown",
      "metadata": {
        "id": "VqYDrtm33hfQ"
      },
      "source": [
        "**Example**: Suppose emergency calls per hour follow a Poisson distribution and occur at a rate of 5 calls per hour. What is the probability of receiving 3 calls in any given hour?"
      ]
    },
    {
      "cell_type": "code",
      "metadata": {
        "id": "FVRaGYAS3hfQ",
        "colab": {
          "base_uri": "https://localhost:8080/"
        },
        "outputId": "7381026a-c6a3-4b32-f892-cdc08872a6e1"
      },
      "source": [
        "poisson.pmf(3, 5)"
      ],
      "execution_count": 61,
      "outputs": [
        {
          "output_type": "execute_result",
          "data": {
            "text/plain": [
              "0.1403738958142805"
            ]
          },
          "metadata": {},
          "execution_count": 61
        }
      ]
    },
    {
      "cell_type": "markdown",
      "metadata": {
        "id": "Hi2-slMK3hfR"
      },
      "source": [
        "## Central Limit Theorem\n",
        "\n",
        "The Central Limit Theorem helps us reason about realisations of sample means.\n",
        "\n",
        "Specifically, it tells us that in many repeated samples, the distribution of the sample means of a random variable is normal regardless of the underlying population distribution."
      ]
    },
    {
      "cell_type": "code",
      "metadata": {
        "id": "RcCPOfXG3hfS"
      },
      "source": [
        "from scipy.stats import poisson"
      ],
      "execution_count": 62,
      "outputs": []
    },
    {
      "cell_type": "code",
      "metadata": {
        "id": "4yyI2kzr3hfS",
        "colab": {
          "base_uri": "https://localhost:8080/",
          "height": 447
        },
        "outputId": "53c2c907-d75b-42ba-e5a9-2b80ca794ca5"
      },
      "source": [
        "bins = np.arange(0, 40)\n",
        "p_pois = poisson.pmf(bins, mu=3)\n",
        "plt.plot(bins, p_pois)"
      ],
      "execution_count": 63,
      "outputs": [
        {
          "output_type": "execute_result",
          "data": {
            "text/plain": [
              "[<matplotlib.lines.Line2D at 0x7e86d6575c00>]"
            ]
          },
          "metadata": {},
          "execution_count": 63
        },
        {
          "output_type": "display_data",
          "data": {
            "text/plain": [
              "<Figure size 640x480 with 1 Axes>"
            ],
            "image/png": "[encoded data removed]"
          },
          "metadata": {}
        }
      ]
    },
    {
      "cell_type": "code",
      "metadata": {
        "id": "goSW7f8K3hfS",
        "colab": {
          "base_uri": "https://localhost:8080/",
          "height": 482
        },
        "outputId": "79049dd5-cbe8-4a7c-89a7-744b9c7a8c08"
      },
      "source": [
        "def sample_pois(_):\n",
        "    samples = poisson.rvs(mu=3, size=20)\n",
        "    return np.mean(samples)\n",
        "\n",
        "means = list(map(sample_pois, np.arange(400)))\n",
        "plt.hist(means)"
      ],
      "execution_count": 64,
      "outputs": [
        {
          "output_type": "execute_result",
          "data": {
            "text/plain": [
              "(array([ 7., 15., 29., 82., 82., 91., 64., 17., 12.,  1.]),\n",
              " array([1.9 , 2.13, 2.36, 2.59, 2.82, 3.05, 3.28, 3.51, 3.74, 3.97, 4.2 ]),\n",
              " <BarContainer object of 10 artists>)"
            ]
          },
          "metadata": {},
          "execution_count": 64
        },
        {
          "output_type": "display_data",
          "data": {
            "text/plain": [
              "<Figure size 640x480 with 1 Axes>"
            ],
            "image/png": "[encoded data removed]"
          },
          "metadata": {}
        }
      ]
    },
    {
      "cell_type": "markdown",
      "metadata": {
        "id": "K68PVQCi3hfT"
      },
      "source": [
        "# Using Normal Distribution in Weight Initialization"
      ]
    },
    {
      "cell_type": "markdown",
      "metadata": {
        "id": "TXumweFM3hfT"
      },
      "source": [
        "**Normal Distribution** could be very helpful when it comes to weight initialization of deep learning task.\n",
        "\n",
        "In deep neural network, we may encounter vanishing/exploding gradients when the derivaties become very small or very big. The activations and derivatives will be decreased/increased exponentially as a function of number of layers. This will make training difficult, especially when gradients are exponentially smaller, then gradient descent wiill take tiny little steps. Consequently it will take a long time for gradient descent to learn anything.\n",
        "\n",
        "Therefore, using a normal distributed weight initiallization with mean equals to 0 and a standard deviation of 1 could be helpful in resolving the issue."
      ]
    },
    {
      "cell_type": "markdown",
      "metadata": {
        "id": "XjIU74td3hfT"
      },
      "source": [
        "For example, when we using ReLU as our activation function, we would do the following steps:\n",
        "\n",
        "- Generate random sample of weights from a Normal Distribution having mean equals 0 and a standard deviation of 1.\n",
        "- Multiply the sample with $\\sqrt{(\\frac{2}{n_i})}$, where $n_i$ is number of input units for that layer."
      ]
    },
    {
      "cell_type": "markdown",
      "metadata": {
        "id": "OQv5WEhl3hfT"
      },
      "source": [
        "```np.random.rand(shape) * np.sqrt(2/n[l-1])```, where `l` is the total number of input units."
      ]
    },
    {
      "cell_type": "markdown",
      "metadata": {
        "id": "tz1AvTG63hfU"
      },
      "source": [
        "> This initialization is also called **Xavier Initialization**."
      ]
    },
    {
      "cell_type": "markdown",
      "metadata": {
        "id": "aSLuqZXI3hfU"
      },
      "source": [
        "This sort of initialization helps to set the weight matrix neither too bigger than 1, nor too smaller than 1. Thus it doesn’t explode or vanish gradients respectively."
      ]
    },
    {
      "cell_type": "code",
      "metadata": {
        "id": "UbzS_wZKfvuI",
        "colab": {
          "base_uri": "https://localhost:8080/",
          "height": 629
        },
        "outputId": "b5b04be5-8a02-4500-851a-5dbad4060301"
      },
      "source": [
        "import seaborn as sns\n",
        "plt.figure(figsize=(20, 10))\n",
        "x = np.random.normal(size=(50000))\n",
        "sns.histplot(x, kde=True)\n",
        "plt.show()"
      ],
      "execution_count": 65,
      "outputs": [
        {
          "output_type": "display_data",
          "data": {
            "text/plain": [
              "<Figure size 2000x1000 with 1 Axes>"
            ],
            "image/png": "[encoded data removed]"
          },
          "metadata": {}
        }
      ]
    },
    {
      "cell_type": "markdown",
      "metadata": {
        "id": "TMSdlV5kkHtH"
      },
      "source": [
        "# Entropy (Optional)"
      ]
    },
    {
      "cell_type": "markdown",
      "metadata": {
        "id": "-HVaNNXdkVEd"
      },
      "source": [
        "Now we define a quantity called entropy, which essentially means how much information is conveyed by probability."
      ]
    },
    {
      "cell_type": "markdown",
      "metadata": {
        "id": "nwy5Jf2EmSdH"
      },
      "source": [
        "## A solid-liquid-gas example"
      ]
    },
    {
      "cell_type": "markdown",
      "metadata": {
        "id": "WTfgwy7Elgbj"
      },
      "source": [
        "When no probability is involved, i.e. everything is known before hand, no information is gained from the experiment. All the results of the experiment could be predetermined. Look at the images below, which represent the molecules of a solid, which have low to no entropy (perfectly ordered crystal)."
      ]
    },
    {
      "cell_type": "code",
      "metadata": {
        "id": "YLrPgp49kcKp",
        "colab": {
          "base_uri": "https://localhost:8080/",
          "height": 350
        },
        "outputId": "ab866cdb-e571-437d-ec3c-4ea9ca5fb4b8"
      },
      "source": [
        "fix, axs = plt.subplots(1, 3, figsize=(20, 5))\n",
        "\n",
        "for ax in axs:\n",
        "    x, y = np.meshgrid(np.arange(10), np.arange(10))\n",
        "    ax.scatter(x.ravel(), y.ravel())\n",
        "    ax.set_xlim(-0.5, 9.5)\n",
        "    ax.set_ylim(-0.5, 9.5)\n",
        "\n",
        "plt.show()"
      ],
      "execution_count": 66,
      "outputs": [
        {
          "output_type": "display_data",
          "data": {
            "text/plain": [
              "<Figure size 2000x500 with 3 Axes>"
            ],
            "image/png": "[encoded data removed]"
          },
          "metadata": {}
        }
      ]
    },
    {
      "cell_type": "markdown",
      "metadata": {
        "id": "xgNFipnRlxZL"
      },
      "source": [
        "Now that we have probability in the game, we can visualize the same for say gases, when we draw the samples from a probability distribution that is uniform, a lot of information is conveyed."
      ]
    },
    {
      "cell_type": "code",
      "metadata": {
        "id": "trQIg3lTlRHG",
        "colab": {
          "base_uri": "https://localhost:8080/",
          "height": 350
        },
        "outputId": "0359b986-1561-43aa-eaea-304ae88a5efb"
      },
      "source": [
        "fix, axs = plt.subplots(1, 3, figsize=(20, 5))\n",
        "\n",
        "for ax in axs:\n",
        "    x, y = np.random.random(100) * 9, np.random.random(100) * 9\n",
        "    ax.scatter(x.ravel(), y.ravel())\n",
        "    ax.set_xlim(-0.5, 9.5)\n",
        "    ax.set_ylim(-0.5, 9.5)\n",
        "\n",
        "plt.show()"
      ],
      "execution_count": 67,
      "outputs": [
        {
          "output_type": "display_data",
          "data": {
            "text/plain": [
              "<Figure size 2000x500 with 3 Axes>"
            ],
            "image/png": "[encoded data removed]"
          },
          "metadata": {}
        }
      ]
    },
    {
      "cell_type": "markdown",
      "metadata": {
        "id": "9O4h6hO0l7Tq"
      },
      "source": [
        "And if there is some randomness, but not complete, then less information is gained, and it has less entropy."
      ]
    },
    {
      "cell_type": "code",
      "metadata": {
        "id": "eV7EynvdmD2Y",
        "colab": {
          "base_uri": "https://localhost:8080/",
          "height": 350
        },
        "outputId": "f4a0a337-1c72-403b-f139-c9731baa0fbf"
      },
      "source": [
        "fix, axs = plt.subplots(1, 3, figsize=(20, 5))\n",
        "\n",
        "for ax in axs:\n",
        "    x, y = np.random.normal(loc=4.5, scale=1.0, size=100), np.random.normal(loc=4.5, scale=1.0, size=100)\n",
        "    ax.scatter(x.ravel(), y.ravel())\n",
        "    ax.set_xlim(-0.5, 9.5)\n",
        "    ax.set_ylim(-0.5, 9.5)\n",
        "\n",
        "plt.show()"
      ],
      "execution_count": 68,
      "outputs": [
        {
          "output_type": "display_data",
          "data": {
            "text/plain": [
              "<Figure size 2000x500 with 3 Axes>"
            ],
            "image/png": "[encoded data removed]"
          },
          "metadata": {}
        }
      ]
    },
    {
      "cell_type": "markdown",
      "metadata": {
        "id": "4kS6_5U8mV2m"
      },
      "source": [
        "## So how to define Entropy?"
      ]
    },
    {
      "cell_type": "markdown",
      "metadata": {
        "id": "hBnD4sCTmZML"
      },
      "source": [
        "Entropy is defined as the shortest expected length sequence that can contain the information of one experiment.\n",
        "\n",
        "$$\\text{Entropy} = -\\sum_i \\log(P_i) $$"
      ]
    },
    {
      "cell_type": "markdown",
      "metadata": {
        "id": "_01JgAOtmpmU"
      },
      "source": [
        "Here is an example of a tree that tries to actually show this bound, called the Huffman tree. The more frequent letters like A have the shortest code, just call it 0, and the less frequent ones have longer code. We can show that to minimize the expected length of the code, that is the probability of the code times the length of the code averaged over all letters, the best result we can get is the bound shown above."
      ]
    },
    {
      "cell_type": "markdown",
      "metadata": {
        "id": "cC2yQSdSkUKe"
      },
      "source": [
        "![image.png](data:image/png;base64,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)"
      ]
    }
  ]
}